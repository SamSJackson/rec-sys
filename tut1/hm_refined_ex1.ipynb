{
 "cells": [
  {
   "cell_type": "markdown",
   "metadata": {
    "id": "zMRJzJXdfkNv"
   },
   "source": [
    "# Exercise 1\n",
    "\n",
    "The **aims** of this exercise are:\n",
    "\n",
    "*   Allow you practice slicing and analysing data with Pandas\n",
    "*   Introduce you to the MovieLens dataset\n",
    "*   Demonstrate use of Pandas to perform non-personalised and personalised recommendations\n",
    "\n",
    "This exercise is worth 5% of the contribution to your final mark for RecSys (H) and 3% for RecSys (M), and is expected to take approximately 5-7 hours of your time. NB: This is an individual exercise.\n",
    "\n"
   ]
  },
  {
   "cell_type": "code",
   "execution_count": 1,
   "metadata": {
    "id": "D0FCwi-bIytL"
   },
   "outputs": [],
   "source": [
    "#Standard setup\n",
    "import pandas as pd\n",
    "import numpy as np\n",
    "import matplotlib.pyplot as plt, seaborn as sns\n",
    "\n",
    "sns.set_theme()"
   ]
  },
  {
   "cell_type": "markdown",
   "metadata": {
    "id": "uTkyfA-p51Oi"
   },
   "source": [
    "#Part A. MovieLens Exploration using Pandas\n",
    "\n",
    "This exercise will use the [Movielens](https://grouplens.org/datasets/movielens/) data. There is a large dataset with 25M ratings, however we will focus on the smallest one, that has only 100k ratings.  \n",
    "\n",
    "**Hint** : If you are using Colab, it might be good if you open these files, either on your own machine, or using Colab's inbuilt CSV viewer (via folder icon on the left hand sidebar). The CSV files are small enough to be searched using your favourite editor."
   ]
  },
  {
   "cell_type": "code",
   "execution_count": 2,
   "metadata": {
    "id": "Hq-oSeM344Ca"
   },
   "outputs": [],
   "source": [
    "# !curl -o ml-latest-small.zip http://files.grouplens.org/datasets/movielens/ml-latest-small.zip\n",
    "# backup location\n",
    "#!curl -o ml-latest-small.zip http://www.dcs.gla.ac.uk/~craigm/recsysHM/ml-latest-small.zip\n",
    "\n",
    "# !unzip -o ml-latest-small.zip"
   ]
  },
  {
   "cell_type": "markdown",
   "metadata": {
    "id": "idTYNpH-6Pr3"
   },
   "source": [
    "Let's look into the files using Pandas:"
   ]
  },
  {
   "cell_type": "code",
   "execution_count": 3,
   "metadata": {
    "id": "-PWv4cz-4_7B"
   },
   "outputs": [],
   "source": [
    "ratings_df = pd.read_csv(\"ml-latest-small/ratings.csv\")\n",
    "movies_df = pd.read_csv(\"ml-latest-small/movies.csv\")\n",
    "\n",
    "# we're going to treat userId as strings, and similarly as movies. This will prevent confusion later on.\n",
    "ratings_df['userId'] = \"u\" + ratings_df['userId'].astype(str)\n",
    "ratings_df['movieId'] = \"m\" + ratings_df['movieId'].astype(str)\n",
    "movies_df['movieId'] = \"m\" +  movies_df['movieId'].astype(str)"
   ]
  },
  {
   "cell_type": "code",
   "execution_count": 4,
   "metadata": {
    "id": "0R-tZogo5Uhn"
   },
   "outputs": [
    {
     "data": {
      "text/html": [
       "<div>\n",
       "<style scoped>\n",
       "    .dataframe tbody tr th:only-of-type {\n",
       "        vertical-align: middle;\n",
       "    }\n",
       "\n",
       "    .dataframe tbody tr th {\n",
       "        vertical-align: top;\n",
       "    }\n",
       "\n",
       "    .dataframe thead th {\n",
       "        text-align: right;\n",
       "    }\n",
       "</style>\n",
       "<table border=\"1\" class=\"dataframe\">\n",
       "  <thead>\n",
       "    <tr style=\"text-align: right;\">\n",
       "      <th></th>\n",
       "      <th>userId</th>\n",
       "      <th>movieId</th>\n",
       "      <th>rating</th>\n",
       "      <th>timestamp</th>\n",
       "    </tr>\n",
       "  </thead>\n",
       "  <tbody>\n",
       "    <tr>\n",
       "      <th>0</th>\n",
       "      <td>u1</td>\n",
       "      <td>m1</td>\n",
       "      <td>4.0</td>\n",
       "      <td>964982703</td>\n",
       "    </tr>\n",
       "    <tr>\n",
       "      <th>1</th>\n",
       "      <td>u1</td>\n",
       "      <td>m3</td>\n",
       "      <td>4.0</td>\n",
       "      <td>964981247</td>\n",
       "    </tr>\n",
       "    <tr>\n",
       "      <th>2</th>\n",
       "      <td>u1</td>\n",
       "      <td>m6</td>\n",
       "      <td>4.0</td>\n",
       "      <td>964982224</td>\n",
       "    </tr>\n",
       "    <tr>\n",
       "      <th>3</th>\n",
       "      <td>u1</td>\n",
       "      <td>m47</td>\n",
       "      <td>5.0</td>\n",
       "      <td>964983815</td>\n",
       "    </tr>\n",
       "    <tr>\n",
       "      <th>4</th>\n",
       "      <td>u1</td>\n",
       "      <td>m50</td>\n",
       "      <td>5.0</td>\n",
       "      <td>964982931</td>\n",
       "    </tr>\n",
       "    <tr>\n",
       "      <th>...</th>\n",
       "      <td>...</td>\n",
       "      <td>...</td>\n",
       "      <td>...</td>\n",
       "      <td>...</td>\n",
       "    </tr>\n",
       "    <tr>\n",
       "      <th>100831</th>\n",
       "      <td>u610</td>\n",
       "      <td>m166534</td>\n",
       "      <td>4.0</td>\n",
       "      <td>1493848402</td>\n",
       "    </tr>\n",
       "    <tr>\n",
       "      <th>100832</th>\n",
       "      <td>u610</td>\n",
       "      <td>m168248</td>\n",
       "      <td>5.0</td>\n",
       "      <td>1493850091</td>\n",
       "    </tr>\n",
       "    <tr>\n",
       "      <th>100833</th>\n",
       "      <td>u610</td>\n",
       "      <td>m168250</td>\n",
       "      <td>5.0</td>\n",
       "      <td>1494273047</td>\n",
       "    </tr>\n",
       "    <tr>\n",
       "      <th>100834</th>\n",
       "      <td>u610</td>\n",
       "      <td>m168252</td>\n",
       "      <td>5.0</td>\n",
       "      <td>1493846352</td>\n",
       "    </tr>\n",
       "    <tr>\n",
       "      <th>100835</th>\n",
       "      <td>u610</td>\n",
       "      <td>m170875</td>\n",
       "      <td>3.0</td>\n",
       "      <td>1493846415</td>\n",
       "    </tr>\n",
       "  </tbody>\n",
       "</table>\n",
       "<p>100836 rows × 4 columns</p>\n",
       "</div>"
      ],
      "text/plain": [
       "       userId  movieId  rating   timestamp\n",
       "0          u1       m1     4.0   964982703\n",
       "1          u1       m3     4.0   964981247\n",
       "2          u1       m6     4.0   964982224\n",
       "3          u1      m47     5.0   964983815\n",
       "4          u1      m50     5.0   964982931\n",
       "...       ...      ...     ...         ...\n",
       "100831   u610  m166534     4.0  1493848402\n",
       "100832   u610  m168248     5.0  1493850091\n",
       "100833   u610  m168250     5.0  1494273047\n",
       "100834   u610  m168252     5.0  1493846352\n",
       "100835   u610  m170875     3.0  1493846415\n",
       "\n",
       "[100836 rows x 4 columns]"
      ]
     },
     "execution_count": 4,
     "metadata": {},
     "output_type": "execute_result"
    }
   ],
   "source": [
    "ratings_df"
   ]
  },
  {
   "cell_type": "markdown",
   "metadata": {
    "id": "MDR2Wx1qvddn"
   },
   "source": [
    "`ratings_df` is a [Pandas DataFrame](https://pandas.pydata.org/pandas-docs/stable/reference/api/pandas.DataFrame.html). Viewing it, we can see users (identified by userId) are rating various movies (cf. movieId).\n",
    "\n",
    "We can slice and dice the dataframes, e.g.:\n",
    "\n",
    " * project a single column (this returns a [Pandas Series](https://pandas.pydata.org/pandas-docs/stable/reference/api/pandas.Series.html))."
   ]
  },
  {
   "cell_type": "code",
   "execution_count": 5,
   "metadata": {
    "id": "55fuLJUXvl7z"
   },
   "outputs": [
    {
     "data": {
      "text/plain": [
       "0                      Toy Story (1995)\n",
       "1                        Jumanji (1995)\n",
       "2               Grumpier Old Men (1995)\n",
       "3              Waiting to Exhale (1995)\n",
       "4    Father of the Bride Part II (1995)\n",
       "Name: title, dtype: object"
      ]
     },
     "execution_count": 5,
     "metadata": {},
     "output_type": "execute_result"
    }
   ],
   "source": [
    "movies_df[\"title\"].head(5)"
   ]
  },
  {
   "cell_type": "markdown",
   "metadata": {
    "id": "fbFbiqKewD5p"
   },
   "source": [
    " - project multiple columns (this returns a view of the original DataFrame, as another DataFrame object)."
   ]
  },
  {
   "cell_type": "code",
   "execution_count": 6,
   "metadata": {
    "id": "Jcve9Xpgv_E0"
   },
   "outputs": [
    {
     "data": {
      "text/html": [
       "<div>\n",
       "<style scoped>\n",
       "    .dataframe tbody tr th:only-of-type {\n",
       "        vertical-align: middle;\n",
       "    }\n",
       "\n",
       "    .dataframe tbody tr th {\n",
       "        vertical-align: top;\n",
       "    }\n",
       "\n",
       "    .dataframe thead th {\n",
       "        text-align: right;\n",
       "    }\n",
       "</style>\n",
       "<table border=\"1\" class=\"dataframe\">\n",
       "  <thead>\n",
       "    <tr style=\"text-align: right;\">\n",
       "      <th></th>\n",
       "      <th>movieId</th>\n",
       "      <th>title</th>\n",
       "    </tr>\n",
       "  </thead>\n",
       "  <tbody>\n",
       "    <tr>\n",
       "      <th>0</th>\n",
       "      <td>m1</td>\n",
       "      <td>Toy Story (1995)</td>\n",
       "    </tr>\n",
       "    <tr>\n",
       "      <th>1</th>\n",
       "      <td>m2</td>\n",
       "      <td>Jumanji (1995)</td>\n",
       "    </tr>\n",
       "    <tr>\n",
       "      <th>2</th>\n",
       "      <td>m3</td>\n",
       "      <td>Grumpier Old Men (1995)</td>\n",
       "    </tr>\n",
       "    <tr>\n",
       "      <th>3</th>\n",
       "      <td>m4</td>\n",
       "      <td>Waiting to Exhale (1995)</td>\n",
       "    </tr>\n",
       "    <tr>\n",
       "      <th>4</th>\n",
       "      <td>m5</td>\n",
       "      <td>Father of the Bride Part II (1995)</td>\n",
       "    </tr>\n",
       "  </tbody>\n",
       "</table>\n",
       "</div>"
      ],
      "text/plain": [
       "  movieId                               title\n",
       "0      m1                    Toy Story (1995)\n",
       "1      m2                      Jumanji (1995)\n",
       "2      m3             Grumpier Old Men (1995)\n",
       "3      m4            Waiting to Exhale (1995)\n",
       "4      m5  Father of the Bride Part II (1995)"
      ]
     },
     "execution_count": 6,
     "metadata": {},
     "output_type": "execute_result"
    }
   ],
   "source": [
    "movies_df[[\"movieId\", \"title\"]].head(5)"
   ]
  },
  {
   "cell_type": "markdown",
   "metadata": {
    "id": "sm0zU1rywGzv"
   },
   "source": [
    " - Select rows based on one or more conditions"
   ]
  },
  {
   "cell_type": "code",
   "execution_count": 7,
   "metadata": {
    "id": "0jnBvzK1wPE5"
   },
   "outputs": [
    {
     "data": {
      "text/html": [
       "<div>\n",
       "<style scoped>\n",
       "    .dataframe tbody tr th:only-of-type {\n",
       "        vertical-align: middle;\n",
       "    }\n",
       "\n",
       "    .dataframe tbody tr th {\n",
       "        vertical-align: top;\n",
       "    }\n",
       "\n",
       "    .dataframe thead th {\n",
       "        text-align: right;\n",
       "    }\n",
       "</style>\n",
       "<table border=\"1\" class=\"dataframe\">\n",
       "  <thead>\n",
       "    <tr style=\"text-align: right;\">\n",
       "      <th></th>\n",
       "      <th>userId</th>\n",
       "      <th>movieId</th>\n",
       "      <th>rating</th>\n",
       "      <th>timestamp</th>\n",
       "    </tr>\n",
       "  </thead>\n",
       "  <tbody>\n",
       "    <tr>\n",
       "      <th>79908</th>\n",
       "      <td>u500</td>\n",
       "      <td>m11</td>\n",
       "      <td>1.0</td>\n",
       "      <td>1005528017</td>\n",
       "    </tr>\n",
       "    <tr>\n",
       "      <th>79909</th>\n",
       "      <td>u500</td>\n",
       "      <td>m39</td>\n",
       "      <td>1.0</td>\n",
       "      <td>1005527926</td>\n",
       "    </tr>\n",
       "    <tr>\n",
       "      <th>79910</th>\n",
       "      <td>u500</td>\n",
       "      <td>m101</td>\n",
       "      <td>1.0</td>\n",
       "      <td>1005527980</td>\n",
       "    </tr>\n",
       "    <tr>\n",
       "      <th>79915</th>\n",
       "      <td>u500</td>\n",
       "      <td>m231</td>\n",
       "      <td>1.0</td>\n",
       "      <td>1005528039</td>\n",
       "    </tr>\n",
       "    <tr>\n",
       "      <th>79923</th>\n",
       "      <td>u500</td>\n",
       "      <td>m449</td>\n",
       "      <td>1.0</td>\n",
       "      <td>1005528017</td>\n",
       "    </tr>\n",
       "    <tr>\n",
       "      <th>79924</th>\n",
       "      <td>u500</td>\n",
       "      <td>m471</td>\n",
       "      <td>1.0</td>\n",
       "      <td>1005528017</td>\n",
       "    </tr>\n",
       "    <tr>\n",
       "      <th>79926</th>\n",
       "      <td>u500</td>\n",
       "      <td>m539</td>\n",
       "      <td>1.0</td>\n",
       "      <td>1005527980</td>\n",
       "    </tr>\n",
       "    <tr>\n",
       "      <th>79931</th>\n",
       "      <td>u500</td>\n",
       "      <td>m597</td>\n",
       "      <td>1.0</td>\n",
       "      <td>1005527980</td>\n",
       "    </tr>\n",
       "    <tr>\n",
       "      <th>79934</th>\n",
       "      <td>u500</td>\n",
       "      <td>m745</td>\n",
       "      <td>1.0</td>\n",
       "      <td>1005528205</td>\n",
       "    </tr>\n",
       "    <tr>\n",
       "      <th>79939</th>\n",
       "      <td>u500</td>\n",
       "      <td>m1188</td>\n",
       "      <td>1.0</td>\n",
       "      <td>1005528065</td>\n",
       "    </tr>\n",
       "    <tr>\n",
       "      <th>79951</th>\n",
       "      <td>u500</td>\n",
       "      <td>m1824</td>\n",
       "      <td>1.0</td>\n",
       "      <td>1005527926</td>\n",
       "    </tr>\n",
       "    <tr>\n",
       "      <th>79955</th>\n",
       "      <td>u500</td>\n",
       "      <td>m1914</td>\n",
       "      <td>1.0</td>\n",
       "      <td>1005527980</td>\n",
       "    </tr>\n",
       "    <tr>\n",
       "      <th>79958</th>\n",
       "      <td>u500</td>\n",
       "      <td>m1993</td>\n",
       "      <td>1.0</td>\n",
       "      <td>1005527364</td>\n",
       "    </tr>\n",
       "    <tr>\n",
       "      <th>79971</th>\n",
       "      <td>u500</td>\n",
       "      <td>m2671</td>\n",
       "      <td>1.0</td>\n",
       "      <td>1005528078</td>\n",
       "    </tr>\n",
       "    <tr>\n",
       "      <th>79980</th>\n",
       "      <td>u500</td>\n",
       "      <td>m3083</td>\n",
       "      <td>1.0</td>\n",
       "      <td>1005528017</td>\n",
       "    </tr>\n",
       "    <tr>\n",
       "      <th>79986</th>\n",
       "      <td>u500</td>\n",
       "      <td>m3466</td>\n",
       "      <td>1.0</td>\n",
       "      <td>1005527926</td>\n",
       "    </tr>\n",
       "    <tr>\n",
       "      <th>79992</th>\n",
       "      <td>u500</td>\n",
       "      <td>m4873</td>\n",
       "      <td>1.0</td>\n",
       "      <td>1005528205</td>\n",
       "    </tr>\n",
       "  </tbody>\n",
       "</table>\n",
       "</div>"
      ],
      "text/plain": [
       "      userId movieId  rating   timestamp\n",
       "79908   u500     m11     1.0  1005528017\n",
       "79909   u500     m39     1.0  1005527926\n",
       "79910   u500    m101     1.0  1005527980\n",
       "79915   u500    m231     1.0  1005528039\n",
       "79923   u500    m449     1.0  1005528017\n",
       "79924   u500    m471     1.0  1005528017\n",
       "79926   u500    m539     1.0  1005527980\n",
       "79931   u500    m597     1.0  1005527980\n",
       "79934   u500    m745     1.0  1005528205\n",
       "79939   u500   m1188     1.0  1005528065\n",
       "79951   u500   m1824     1.0  1005527926\n",
       "79955   u500   m1914     1.0  1005527980\n",
       "79958   u500   m1993     1.0  1005527364\n",
       "79971   u500   m2671     1.0  1005528078\n",
       "79980   u500   m3083     1.0  1005528017\n",
       "79986   u500   m3466     1.0  1005527926\n",
       "79992   u500   m4873     1.0  1005528205"
      ]
     },
     "execution_count": 7,
     "metadata": {},
     "output_type": "execute_result"
    }
   ],
   "source": [
    "ratings_df[(ratings_df[\"userId\"] == 'u500') & (ratings_df[\"rating\"] == 1)]"
   ]
  },
  {
   "cell_type": "markdown",
   "metadata": {
    "id": "P8LI-cDv6cqI"
   },
   "source": [
    "\n",
    "\n",
    "Let's practice a bit more with Pandas. You can also refer to the [Pandas Dataframe API documentation.](https://pandas.pydata.org/pandas-docs/stable/reference/api/pandas.DataFrame.html)\n",
    "\n",
    "Write code to answer the following questions:\n",
    "\n",
    "## Task 1. How many users are there in this dataset?\n"
   ]
  },
  {
   "cell_type": "code",
   "execution_count": 8,
   "metadata": {
    "id": "5uJ8vWIYyJed"
   },
   "outputs": [
    {
     "data": {
      "text/plain": [
       "610"
      ]
     },
     "execution_count": 8,
     "metadata": {},
     "output_type": "execute_result"
    }
   ],
   "source": [
    "num_users = len(ratings_df['userId'].unique())\n",
    "num_users"
   ]
  },
  {
   "cell_type": "markdown",
   "metadata": {
    "id": "9RgRiMEiJBzJ"
   },
   "source": [
    "## Task 2. What is the average rating of *each user*?\n",
    "\n",
    "The output should be a Pandas Series containing an average rating for each of the users.\n",
    "\n",
    "Hint: Use a [groupby()](https://pandas.pydata.org/pandas-docs/stable/reference/api/pandas.DataFrame.groupby.html) on the ratings_df dataframe. [Aggregation](https://pandas.pydata.org/pandas-docs/stable/user_guide/groupby.html#aggregation) will also be useful.\n"
   ]
  },
  {
   "cell_type": "code",
   "execution_count": 9,
   "metadata": {
    "id": "i-qEgTiEOg6Z"
   },
   "outputs": [
    {
     "data": {
      "text/plain": [
       "3.809880239520958"
      ]
     },
     "execution_count": 9,
     "metadata": {},
     "output_type": "execute_result"
    }
   ],
   "source": [
    "average_each_user = ratings_df.groupby('userId')['rating'].mean()\n",
    "average_each_user['u200']"
   ]
  },
  {
   "cell_type": "markdown",
   "metadata": {
    "id": "0p0HKlOBJA21"
   },
   "source": [
    "## Task 3. What is the average count of ratings per-user?\n",
    "\n",
    "In contrast to Task 2, the solution is a single number.\n",
    "\n",
    "Many solutions will involve [GroupBy.count()](https://pandas.pydata.org/pandas-docs/stable/user_guide/groupby.html#aggregation)."
   ]
  },
  {
   "cell_type": "code",
   "execution_count": 10,
   "metadata": {
    "id": "1dkaoscfyKXx"
   },
   "outputs": [
    {
     "data": {
      "text/plain": [
       "165.30491803278687"
      ]
     },
     "execution_count": 10,
     "metadata": {},
     "output_type": "execute_result"
    }
   ],
   "source": [
    "average_ratings_per_user = ratings_df.groupby('userId')['rating'].count().mean()\n",
    "average_ratings_per_user"
   ]
  },
  {
   "cell_type": "markdown",
   "metadata": {
    "id": "gH2uqwgwNWu0"
   },
   "source": [
    "## Analysing users's preferences."
   ]
  },
  {
   "cell_type": "markdown",
   "metadata": {
    "id": "UOrEA21uN1zL"
   },
   "source": [
    "Let's try something else. We can see what movies a given user has rated by \"merging\" the two dataframes - this equates to a JOIN in SQL. Let's do this for userId 556.\n"
   ]
  },
  {
   "cell_type": "code",
   "execution_count": 11,
   "metadata": {
    "id": "M73Di67MN2Jk"
   },
   "outputs": [
    {
     "data": {
      "text/html": [
       "<div>\n",
       "<style scoped>\n",
       "    .dataframe tbody tr th:only-of-type {\n",
       "        vertical-align: middle;\n",
       "    }\n",
       "\n",
       "    .dataframe tbody tr th {\n",
       "        vertical-align: top;\n",
       "    }\n",
       "\n",
       "    .dataframe thead th {\n",
       "        text-align: right;\n",
       "    }\n",
       "</style>\n",
       "<table border=\"1\" class=\"dataframe\">\n",
       "  <thead>\n",
       "    <tr style=\"text-align: right;\">\n",
       "      <th></th>\n",
       "      <th>userId</th>\n",
       "      <th>movieId</th>\n",
       "      <th>rating</th>\n",
       "      <th>timestamp</th>\n",
       "      <th>title</th>\n",
       "      <th>genres</th>\n",
       "    </tr>\n",
       "  </thead>\n",
       "  <tbody>\n",
       "    <tr>\n",
       "      <th>0</th>\n",
       "      <td>u556</td>\n",
       "      <td>m588</td>\n",
       "      <td>5.0</td>\n",
       "      <td>1534321062</td>\n",
       "      <td>Aladdin (1992)</td>\n",
       "      <td>Adventure|Animation|Children|Comedy|Musical</td>\n",
       "    </tr>\n",
       "    <tr>\n",
       "      <th>2</th>\n",
       "      <td>u556</td>\n",
       "      <td>m4896</td>\n",
       "      <td>5.0</td>\n",
       "      <td>1534320962</td>\n",
       "      <td>Harry Potter and the Sorcerer's Stone (a.k.a. ...</td>\n",
       "      <td>Adventure|Children|Fantasy</td>\n",
       "    </tr>\n",
       "    <tr>\n",
       "      <th>27</th>\n",
       "      <td>u556</td>\n",
       "      <td>m112852</td>\n",
       "      <td>5.0</td>\n",
       "      <td>1534321287</td>\n",
       "      <td>Guardians of the Galaxy (2014)</td>\n",
       "      <td>Action|Adventure|Sci-Fi</td>\n",
       "    </tr>\n",
       "    <tr>\n",
       "      <th>21</th>\n",
       "      <td>u556</td>\n",
       "      <td>m76093</td>\n",
       "      <td>5.0</td>\n",
       "      <td>1534320965</td>\n",
       "      <td>How to Train Your Dragon (2010)</td>\n",
       "      <td>Adventure|Animation|Children|Fantasy|IMAX</td>\n",
       "    </tr>\n",
       "    <tr>\n",
       "      <th>3</th>\n",
       "      <td>u556</td>\n",
       "      <td>m4993</td>\n",
       "      <td>4.5</td>\n",
       "      <td>1534320935</td>\n",
       "      <td>Lord of the Rings: The Fellowship of the Ring,...</td>\n",
       "      <td>Adventure|Fantasy</td>\n",
       "    </tr>\n",
       "  </tbody>\n",
       "</table>\n",
       "</div>"
      ],
      "text/plain": [
       "   userId  movieId  rating   timestamp  \\\n",
       "0    u556     m588     5.0  1534321062   \n",
       "2    u556    m4896     5.0  1534320962   \n",
       "27   u556  m112852     5.0  1534321287   \n",
       "21   u556   m76093     5.0  1534320965   \n",
       "3    u556    m4993     4.5  1534320935   \n",
       "\n",
       "                                                title  \\\n",
       "0                                      Aladdin (1992)   \n",
       "2   Harry Potter and the Sorcerer's Stone (a.k.a. ...   \n",
       "27                     Guardians of the Galaxy (2014)   \n",
       "21                    How to Train Your Dragon (2010)   \n",
       "3   Lord of the Rings: The Fellowship of the Ring,...   \n",
       "\n",
       "                                         genres  \n",
       "0   Adventure|Animation|Children|Comedy|Musical  \n",
       "2                    Adventure|Children|Fantasy  \n",
       "27                      Action|Adventure|Sci-Fi  \n",
       "21    Adventure|Animation|Children|Fantasy|IMAX  \n",
       "3                             Adventure|Fantasy  "
      ]
     },
     "execution_count": 11,
     "metadata": {},
     "output_type": "execute_result"
    }
   ],
   "source": [
    "pd.merge(\n",
    "    ratings_df[ratings_df[\"userId\"]=='u556'],\n",
    "    movies_df,\n",
    "    on=[\"movieId\"]).sort_values(by=\"rating\", ascending=False).head(5)"
   ]
  },
  {
   "cell_type": "markdown",
   "metadata": {
    "id": "B0IXWKgSOOOV"
   },
   "source": [
    "It appears that this user is interested in adventure/fantasies movies.\n",
    "\n",
    "NB: If the columns we are joining on dont have the same name, we can specify `left_on` and `right_on` attributes. See also the  [pd.merge()](https://pandas.pydata.org/pandas-docs/stable/reference/api/pandas.DataFrame.merge.html) documentation."
   ]
  },
  {
   "cell_type": "markdown",
   "metadata": {
    "id": "kxvFO4x7_Obe"
   },
   "source": [
    "## Task 4. Analysing movie categories\n",
    "\n",
    "Lets examine two particular users a bit more, u556 and u7.\n",
    "\n",
    " - How many movies with \"Fantasy\" genre have u556 rated positively ($\\geq 4$)?\n",
    "\n",
    " - How many movies with \"Fantasy\" genre have u7 rated positively ($\\geq 4$)?\n",
    "\n",
    " - Consider all of u556's ratings. What percentage of all these ratings are positive ratings ($\\geq 4$) and are for movies belonging to the \"Fantasy\" genre?\n",
    "\n",
    "Hints:\n",
    " - Pandas Series has a useful `str.contains()` function:  https://pandas.pydata.org/pandas-docs/stable/reference/api/pandas.Series.str.contains.html\n",
    " - Pandas dataframes respond to `len()` as you would expect."
   ]
  },
  {
   "cell_type": "code",
   "execution_count": 12,
   "metadata": {
    "id": "GYIo0HzBCfU1"
   },
   "outputs": [
    {
     "data": {
      "text/plain": [
       "11"
      ]
     },
     "execution_count": 12,
     "metadata": {},
     "output_type": "execute_result"
    }
   ],
   "source": [
    "uchosen_merged = pd.merge(ratings_df[ratings_df['userId'] == 'u7'], \n",
    "                          movies_df, \n",
    "                          on=['movieId'])\n",
    "\n",
    "uchosen_fantasy = uchosen_merged[uchosen_merged['genres'].str.contains(\"Fantasy\")]\n",
    "uchosen_positive = uchosen_fantasy[uchosen_fantasy['rating'] >= 4]\n",
    "\n",
    "uchosen_positive.shape[0]"
   ]
  },
  {
   "cell_type": "code",
   "execution_count": 13,
   "metadata": {},
   "outputs": [
    {
     "name": "stdout",
     "output_type": "stream",
     "text": [
      "Films rated from u557 and u7 with ratings >= 4: 33\n",
      "Percentage of ratings which are positive from u556: 84.38\n",
      "Percentage of ratings which are about Fantasy films from u556: 81.25\n",
      "Percentage of positive ratings which are about Fantasy films from u556: 68.75\n"
     ]
    }
   ],
   "source": [
    "u_movies = pd.merge(ratings_df[np.logical_or(ratings_df[\"userId\"] == \"u556\", ratings_df[\"userId\"] == \"u7\")],\n",
    "                       movies_df,\n",
    "                       on=[\"movieId\"])\n",
    "\n",
    "combined_positive_fancy = len(u_movies[np.logical_and(u_movies[\"genres\"].str.contains(\"Fantasy\"), u_movies[\"rating\"] >= 4)])\n",
    "all_u556_ratings = u_movies[u_movies[\"userId\"] == \"u556\"]\n",
    "positive_ratings = all_u556_ratings[all_u556_ratings[\"rating\"] >= 4]\n",
    "percentage_positive = (len(positive_ratings)/len(all_u556_ratings)) * 100\n",
    "\n",
    "fantasy_ratings = all_u556_ratings[all_u556_ratings[\"genres\"].str.contains(\"Fantasy\")]\n",
    "positive_fantasy_ratings = fantasy_ratings[fantasy_ratings['rating'] >= 4]\n",
    "percentage_fantasy = (len(fantasy_ratings) / len(all_u556_ratings)) * 100\n",
    "percentage_positive_fantasy = (len(positive_fantasy_ratings) / len(all_u556_ratings)) * 100 \n",
    "\n",
    "# Q7 Percentage of movie ratings which are positive fantasy ratings\n",
    "\n",
    "print(f\"Films rated from u557 and u7 with ratings >= 4: {combined_positive_fancy}\")\n",
    "print(f\"Percentage of ratings which are positive from u556: {percentage_positive:.2f}\")\n",
    "print(f\"Percentage of ratings which are about Fantasy films from u556: {percentage_fantasy:.2f}\")\n",
    "print(f\"Percentage of positive ratings which are about Fantasy films from u556: {percentage_positive_fantasy:.2f}\")"
   ]
  },
  {
   "cell_type": "markdown",
   "metadata": {
    "id": "2jpHFK3LI7do"
   },
   "source": [
    "# Part B. Popularity-based Recomendation\n",
    "\n",
    "Now let's examine the ratings of movies.\n",
    "\n",
    "We can get a dataframe containing the number of times a movie has been rated by applying a groupby and aggregation of the ratings_df.\n"
   ]
  },
  {
   "cell_type": "code",
   "execution_count": 14,
   "metadata": {
    "id": "QMhogBiLjSzu"
   },
   "outputs": [
    {
     "data": {
      "text/html": [
       "<div>\n",
       "<style scoped>\n",
       "    .dataframe tbody tr th:only-of-type {\n",
       "        vertical-align: middle;\n",
       "    }\n",
       "\n",
       "    .dataframe tbody tr th {\n",
       "        vertical-align: top;\n",
       "    }\n",
       "\n",
       "    .dataframe thead th {\n",
       "        text-align: right;\n",
       "    }\n",
       "</style>\n",
       "<table border=\"1\" class=\"dataframe\">\n",
       "  <thead>\n",
       "    <tr style=\"text-align: right;\">\n",
       "      <th></th>\n",
       "      <th>rating</th>\n",
       "    </tr>\n",
       "    <tr>\n",
       "      <th>movieId</th>\n",
       "      <th></th>\n",
       "    </tr>\n",
       "  </thead>\n",
       "  <tbody>\n",
       "    <tr>\n",
       "      <th>m100</th>\n",
       "      <td>14</td>\n",
       "    </tr>\n",
       "    <tr>\n",
       "      <th>m100044</th>\n",
       "      <td>1</td>\n",
       "    </tr>\n",
       "    <tr>\n",
       "      <th>m100068</th>\n",
       "      <td>1</td>\n",
       "    </tr>\n",
       "    <tr>\n",
       "      <th>m100083</th>\n",
       "      <td>3</td>\n",
       "    </tr>\n",
       "    <tr>\n",
       "      <th>m100106</th>\n",
       "      <td>1</td>\n",
       "    </tr>\n",
       "    <tr>\n",
       "      <th>...</th>\n",
       "      <td>...</td>\n",
       "    </tr>\n",
       "    <tr>\n",
       "      <th>m99853</th>\n",
       "      <td>1</td>\n",
       "    </tr>\n",
       "    <tr>\n",
       "      <th>m999</th>\n",
       "      <td>12</td>\n",
       "    </tr>\n",
       "    <tr>\n",
       "      <th>m99910</th>\n",
       "      <td>2</td>\n",
       "    </tr>\n",
       "    <tr>\n",
       "      <th>m99917</th>\n",
       "      <td>3</td>\n",
       "    </tr>\n",
       "    <tr>\n",
       "      <th>m99992</th>\n",
       "      <td>1</td>\n",
       "    </tr>\n",
       "  </tbody>\n",
       "</table>\n",
       "<p>8674 rows × 1 columns</p>\n",
       "</div>"
      ],
      "text/plain": [
       "         rating\n",
       "movieId        \n",
       "m100         14\n",
       "m100044       1\n",
       "m100068       1\n",
       "m100083       3\n",
       "m100106       1\n",
       "...         ...\n",
       "m99853        1\n",
       "m999         12\n",
       "m99910        2\n",
       "m99917        3\n",
       "m99992        1\n",
       "\n",
       "[8674 rows x 1 columns]"
      ]
     },
     "execution_count": 14,
     "metadata": {},
     "output_type": "execute_result"
    }
   ],
   "source": [
    "groupingCountSeries = ratings_df[[\"movieId\", \"rating\"]].groupby([\"movieId\"]).count()\n",
    "groupingCountSeries[groupingCountSeries.rating<25]"
   ]
  },
  {
   "cell_type": "markdown",
   "metadata": {
    "id": "ak38W5u1jkgu"
   },
   "source": [
    "## Task 5. Plot the distribution of movie ratings.\n",
    "\n",
    "Use Matplotlib's histogram function to plot the distribution of movie ratings from the `groupingCountSeries` dataframe. This will produce a bar chart with 'binned' counts.\n",
    "\n",
    "Hints:\n",
    "- apply a logarithmic scale for the y-axis, using matplotlib's `log=True` option.\n",
    "- Allow matplotlib to use its default number of bins (which is 10).\n",
    "- Matplotlib has a [`savefig()`](https://chartio.com/resources/tutorials/how-to-save-a-plot-to-a-file-using-matplotlib/#the-savefig-method) function for saving a PNG of a figure.\n",
    "\n",
    "Marks will be lost for poor quality graphs, lacking in typical best practices. You will need to analyse this graph in the quiz."
   ]
  },
  {
   "cell_type": "code",
   "execution_count": 15,
   "metadata": {
    "id": "aBISjUn7jgSy"
   },
   "outputs": [
    {
     "data": {
      "image/png": "[encoded data removed]",
      "text/plain": [
       "<Figure size 640x480 with 1 Axes>"
      ]
     },
     "metadata": {},
     "output_type": "display_data"
    }
   ],
   "source": [
    "plt.hist(groupingCountSeries, log=True)\n",
    "plt.title(\"Distribution of Movie Ratings\")\n",
    "plt.ylabel(\"Logarithmic Scale of Movies for Rating\")\n",
    "plt.xlabel(\"Number of Movie Ratings\")\n",
    "# plt.savefig(\"results/movie_distribution.png\")\n",
    "plt.show()"
   ]
  },
  {
   "cell_type": "markdown",
   "metadata": {
    "id": "mN9DjXtHAt0A"
   },
   "source": [
    "\n",
    "## Task 6. Find the names of *all* of the movies that have the highest *average* ratings\n",
    "\n",
    "You should return a dataframe containing the ids and names of the movies, their average ratings, and the number of ratings. NB: You may need to analyse this dataframe further to answer the questions in the quiz.\n",
    "\n",
    "Hints:\n",
    " - Try a [groupby()](https://pandas.pydata.org/pandas-docs/stable/reference/api/pandas.DataFrame.groupby.html). Once you have a Series with columns [movieId, meanRating], identify the highest value of meanRating. You can then merge this with the movies_df.\n",
    " - If the column we are trying to merge on is an index, we can use  `left_index=True` or `right_index=True` in the [pd.merge()](https://pandas.pydata.org/pandas-docs/stable/reference/api/pandas.merge.html).\n"
   ]
  },
  {
   "cell_type": "code",
   "execution_count": 16,
   "metadata": {
    "id": "rI5u8pIuOkmp"
   },
   "outputs": [],
   "source": [
    "## Checking that no user has rated the same movie twice. \n",
    "movie_and_user_df = ratings_df.groupby(['movieId', 'userId']).agg(count=('rating', 'count'))\n",
    "assert movie_and_user_df[movie_and_user_df['count'] > 1].shape[0] == 0"
   ]
  },
  {
   "cell_type": "code",
   "execution_count": 17,
   "metadata": {},
   "outputs": [
    {
     "data": {
      "text/html": [
       "<div>\n",
       "<style scoped>\n",
       "    .dataframe tbody tr th:only-of-type {\n",
       "        vertical-align: middle;\n",
       "    }\n",
       "\n",
       "    .dataframe tbody tr th {\n",
       "        vertical-align: top;\n",
       "    }\n",
       "\n",
       "    .dataframe thead th {\n",
       "        text-align: right;\n",
       "    }\n",
       "</style>\n",
       "<table border=\"1\" class=\"dataframe\">\n",
       "  <thead>\n",
       "    <tr style=\"text-align: right;\">\n",
       "      <th></th>\n",
       "      <th>movieId</th>\n",
       "      <th>count</th>\n",
       "      <th>mean_rating</th>\n",
       "    </tr>\n",
       "  </thead>\n",
       "  <tbody>\n",
       "    <tr>\n",
       "      <th>7301</th>\n",
       "      <td>m6442</td>\n",
       "      <td>2</td>\n",
       "      <td>5.0</td>\n",
       "    </tr>\n",
       "  </tbody>\n",
       "</table>\n",
       "</div>"
      ],
      "text/plain": [
       "     movieId  count  mean_rating\n",
       "7301   m6442      2          5.0"
      ]
     },
     "execution_count": 17,
     "metadata": {},
     "output_type": "execute_result"
    }
   ],
   "source": [
    "ratings_count_df = ratings_df.groupby(\"movieId\").agg(count=(\"rating\", \"count\"), mean_rating=(\"rating\", \"mean\"))\n",
    "ratings_count_df.reset_index(inplace=True)\n",
    "\n",
    "movieId = 'm6442'\n",
    "chosen_film_df = ratings_count_df[ratings_count_df['movieId'] == movieId]\n",
    "chosen_film_df"
   ]
  },
  {
   "cell_type": "code",
   "execution_count": 18,
   "metadata": {},
   "outputs": [
    {
     "name": "stdout",
     "output_type": "stream",
     "text": [
      "Mean number of ratings for a high-rated movie: 8.17\n",
      "Mean number of ratings for a low-rated movie: 11.04\n"
     ]
    }
   ],
   "source": [
    "# Finding number of ratings for movies with high average ratings\n",
    "high_rating = 4.0 \n",
    "\n",
    "movies_among_highest = pd.merge(ratings_count_df[ratings_count_df[\"mean_rating\"] >= high_rating],\n",
    "                               movies_df,\n",
    "                               on=\"movieId\").sort_values(by=\"count\", ascending=False)\n",
    "high_rating_counts = movies_among_highest['count'].sum()\n",
    "print(f\"Mean number of ratings for a high-rated movie: {high_rating_counts / movies_among_highest.shape[0]:.2f}\")\n",
    "\n",
    "# Finding number of ratings for movies with low average ratings\n",
    "movies_low_ratings = pd.merge(ratings_count_df[ratings_count_df[\"mean_rating\"] < high_rating],\n",
    "                               movies_df,\n",
    "                               on=\"movieId\").sort_values(by=\"count\", ascending=False)\n",
    "low_rating_counts = movies_low_ratings['count'].sum()\n",
    "print(f\"Mean number of ratings for a low-rated movie: {low_rating_counts / movies_low_ratings.shape[0]:.2f}\")"
   ]
  },
  {
   "cell_type": "code",
   "execution_count": 19,
   "metadata": {},
   "outputs": [
    {
     "data": {
      "text/plain": [
       "296"
      ]
     },
     "execution_count": 19,
     "metadata": {},
     "output_type": "execute_result"
    }
   ],
   "source": [
    "highest_mean_rating = ratings_count_df[\"mean_rating\"].max()\n",
    "\n",
    "max_ratings_df = ratings_count_df[ratings_count_df[\"mean_rating\"] == highest_mean_rating]\n",
    "movies_with_highest = pd.merge(max_ratings_df,\n",
    "                               movies_df,\n",
    "                               on=\"movieId\").sort_values(by=\"count\", ascending=False)\n",
    "movies_with_highest.shape[0]"
   ]
  },
  {
   "cell_type": "markdown",
   "metadata": {
    "id": "TmRzCDf9iL9t"
   },
   "source": [
    "You can now answer the questions in the quiz for Task 6, based on your  observations on analysing this table?"
   ]
  },
  {
   "cell_type": "markdown",
   "metadata": {
    "id": "8ryQHGrwyqp8"
   },
   "source": [
    "# Part C - Association Rules and Lift\n",
    "\n",
    "I think we can do better than simply examining movie popularity.\n",
    "\n",
    "Lets take all of the positive ratings (4 or 5) to find the most popular pairs of movies that users have watched. We'll consider these are \"successful movie watches\" of these users.\n",
    "\n",
    "There is a lot going on there, so please take the time to break it down to understand what it does.\n",
    "\n",
    "NB: In this code, we perform a \"self-join\" on a dataframe. If this is unfamiliar, you can read more at:\n",
    " - https://dfrieds.com/data-analysis/self-join-python-pandas.html\n",
    " - https://www.w3schools.com/sql/sql_join_self.asp\n",
    "\n"
   ]
  },
  {
   "cell_type": "code",
   "execution_count": 20,
   "metadata": {
    "id": "_qMu58CjIvyu"
   },
   "outputs": [
    {
     "data": {
      "text/html": [
       "<div>\n",
       "<style scoped>\n",
       "    .dataframe tbody tr th:only-of-type {\n",
       "        vertical-align: middle;\n",
       "    }\n",
       "\n",
       "    .dataframe tbody tr th {\n",
       "        vertical-align: top;\n",
       "    }\n",
       "\n",
       "    .dataframe thead th {\n",
       "        text-align: right;\n",
       "    }\n",
       "</style>\n",
       "<table border=\"1\" class=\"dataframe\">\n",
       "  <thead>\n",
       "    <tr style=\"text-align: right;\">\n",
       "      <th></th>\n",
       "      <th>movieId_x</th>\n",
       "      <th>movieId_y</th>\n",
       "      <th>count</th>\n",
       "    </tr>\n",
       "  </thead>\n",
       "  <tbody>\n",
       "    <tr>\n",
       "      <th>1579647</th>\n",
       "      <td>m318</td>\n",
       "      <td>m356</td>\n",
       "      <td>112</td>\n",
       "    </tr>\n",
       "    <tr>\n",
       "      <th>1580428</th>\n",
       "      <td>m318</td>\n",
       "      <td>m527</td>\n",
       "      <td>98</td>\n",
       "    </tr>\n",
       "    <tr>\n",
       "      <th>1421549</th>\n",
       "      <td>m296</td>\n",
       "      <td>m593</td>\n",
       "      <td>95</td>\n",
       "    </tr>\n",
       "    <tr>\n",
       "      <th>1420937</th>\n",
       "      <td>m296</td>\n",
       "      <td>m47</td>\n",
       "      <td>92</td>\n",
       "    </tr>\n",
       "    <tr>\n",
       "      <th>1191679</th>\n",
       "      <td>m260</td>\n",
       "      <td>m1196</td>\n",
       "      <td>91</td>\n",
       "    </tr>\n",
       "  </tbody>\n",
       "</table>\n",
       "</div>"
      ],
      "text/plain": [
       "        movieId_x movieId_y  count\n",
       "1579647      m318      m356    112\n",
       "1580428      m318      m527     98\n",
       "1421549      m296      m593     95\n",
       "1420937      m296       m47     92\n",
       "1191679      m260     m1196     91"
      ]
     },
     "execution_count": 20,
     "metadata": {},
     "output_type": "execute_result"
    }
   ],
   "source": [
    "positives = ratings_df[ratings_df[\"rating\"]>=4]\n",
    "\n",
    "# join positives with itself on userId to get all distinct pairs of movies watched by a given user.\n",
    "pairs = pd.merge(positives, positives, on=[\"userId\"])\n",
    "pairs = pairs[ pairs[\"movieId_x\"] != pairs[\"movieId_y\"] ]\n",
    "\n",
    "# we only want A->B, not B->A. Use the timestamps to restrict the selected pairs such that\n",
    "# one movie is rated after the other movie, OR if the timestampes are tied, we break such\n",
    "# a tie by movieId. Bitwise operators & and | are used for combining Pandas series containing booleans\n",
    "sequences = pairs[\n",
    "                  (pairs[\"timestamp_x\"] < pairs[\"timestamp_y\"])\n",
    "                  |\n",
    "                  (\n",
    "                      (pairs[\"timestamp_x\"] == pairs[\"timestamp_y\"])\n",
    "                      &\n",
    "                      (pairs[\"movieId_x\"] < pairs[\"movieId_y\"])\n",
    "                  )\n",
    "                  ]\n",
    "\n",
    "# lets count the frequency of each pair of movies. As a user can only rate a movie once, you can\n",
    "# also think of this as the number of users that have watched each pair of movies.\n",
    "paircounts = sequences[[\"movieId_x\", \"movieId_y\", \"userId\"]].groupby([\"movieId_x\", \"movieId_y\"]).count()\n",
    "\n",
    "# sort by the most popular pairs.\n",
    "pairswithcounts = paircounts.reset_index().rename(columns={\"userId\" : \"count\"}).sort_values(['count'], ascending=False)\n",
    "\n",
    "# display the top most frequent pairs\n",
    "pairswithcounts.head()"
   ]
  },
  {
   "cell_type": "markdown",
   "metadata": {
    "id": "ThACu3UfzjgB"
   },
   "source": [
    "## Task 7. Display the titles of the (most popular) movie pairs from `pairswithcounts`\n",
    "\n",
    "You will need to analyse this dataframe to complete the questions in the quiz.\n",
    "\n",
    "Hint:\n",
    " - you will need to re-sort after a pd.merge()"
   ]
  },
  {
   "cell_type": "code",
   "execution_count": 21,
   "metadata": {
    "id": "C9v9s87kO1Vq"
   },
   "outputs": [
    {
     "data": {
      "text/html": [
       "<div>\n",
       "<style scoped>\n",
       "    .dataframe tbody tr th:only-of-type {\n",
       "        vertical-align: middle;\n",
       "    }\n",
       "\n",
       "    .dataframe tbody tr th {\n",
       "        vertical-align: top;\n",
       "    }\n",
       "\n",
       "    .dataframe thead th {\n",
       "        text-align: right;\n",
       "    }\n",
       "</style>\n",
       "<table border=\"1\" class=\"dataframe\">\n",
       "  <thead>\n",
       "    <tr style=\"text-align: right;\">\n",
       "      <th></th>\n",
       "      <th>movieId_x</th>\n",
       "      <th>movieId_y</th>\n",
       "      <th>count</th>\n",
       "      <th>title_x</th>\n",
       "      <th>title_y</th>\n",
       "    </tr>\n",
       "  </thead>\n",
       "  <tbody>\n",
       "    <tr>\n",
       "      <th>0</th>\n",
       "      <td>m318</td>\n",
       "      <td>m356</td>\n",
       "      <td>112</td>\n",
       "      <td>Shawshank Redemption, The (1994)</td>\n",
       "      <td>Forrest Gump (1994)</td>\n",
       "    </tr>\n",
       "    <tr>\n",
       "      <th>2141</th>\n",
       "      <td>m318</td>\n",
       "      <td>m527</td>\n",
       "      <td>98</td>\n",
       "      <td>Shawshank Redemption, The (1994)</td>\n",
       "      <td>Schindler's List (1993)</td>\n",
       "    </tr>\n",
       "    <tr>\n",
       "      <th>4194</th>\n",
       "      <td>m296</td>\n",
       "      <td>m593</td>\n",
       "      <td>95</td>\n",
       "      <td>Pulp Fiction (1994)</td>\n",
       "      <td>Silence of the Lambs, The (1991)</td>\n",
       "    </tr>\n",
       "    <tr>\n",
       "      <th>17826</th>\n",
       "      <td>m296</td>\n",
       "      <td>m47</td>\n",
       "      <td>92</td>\n",
       "      <td>Pulp Fiction (1994)</td>\n",
       "      <td>Seven (a.k.a. Se7en) (1995)</td>\n",
       "    </tr>\n",
       "    <tr>\n",
       "      <th>24736</th>\n",
       "      <td>m260</td>\n",
       "      <td>m1196</td>\n",
       "      <td>91</td>\n",
       "      <td>Star Wars: Episode IV - A New Hope (1977)</td>\n",
       "      <td>Star Wars: Episode V - The Empire Strikes Back...</td>\n",
       "    </tr>\n",
       "  </tbody>\n",
       "</table>\n",
       "</div>"
      ],
      "text/plain": [
       "      movieId_x movieId_y  count                                    title_x  \\\n",
       "0          m318      m356    112           Shawshank Redemption, The (1994)   \n",
       "2141       m318      m527     98           Shawshank Redemption, The (1994)   \n",
       "4194       m296      m593     95                        Pulp Fiction (1994)   \n",
       "17826      m296       m47     92                        Pulp Fiction (1994)   \n",
       "24736      m260     m1196     91  Star Wars: Episode IV - A New Hope (1977)   \n",
       "\n",
       "                                                 title_y  \n",
       "0                                    Forrest Gump (1994)  \n",
       "2141                             Schindler's List (1993)  \n",
       "4194                    Silence of the Lambs, The (1991)  \n",
       "17826                        Seven (a.k.a. Se7en) (1995)  \n",
       "24736  Star Wars: Episode V - The Empire Strikes Back...  "
      ]
     },
     "execution_count": 21,
     "metadata": {},
     "output_type": "execute_result"
    }
   ],
   "source": [
    "x_merged_df = pd.merge(pairswithcounts,\n",
    "            movies_df[['movieId', 'title']],\n",
    "            left_on=['movieId_x'], right_on=['movieId']) \\\n",
    "            .drop(columns=['movieId'])\\\n",
    "            .rename(columns={'title':'title_x'})\n",
    "\n",
    "both_merged_df = pd.merge(x_merged_df,\n",
    "              movies_df[['movieId', 'title']],\n",
    "              left_on=['movieId_y'], right_on=['movieId'])\\\n",
    "                .drop(columns=['movieId'])\\\n",
    "                .rename(columns={'title':'title_y'})\n",
    "\n",
    "pairstitles_df = both_merged_df.sort_values(by='count', ascending=False)\n",
    "pairstitles_df.head(5)"
   ]
  },
  {
   "cell_type": "code",
   "execution_count": 22,
   "metadata": {},
   "outputs": [
    {
     "data": {
      "text/html": [
       "<div>\n",
       "<style scoped>\n",
       "    .dataframe tbody tr th:only-of-type {\n",
       "        vertical-align: middle;\n",
       "    }\n",
       "\n",
       "    .dataframe tbody tr th {\n",
       "        vertical-align: top;\n",
       "    }\n",
       "\n",
       "    .dataframe thead th {\n",
       "        text-align: right;\n",
       "    }\n",
       "</style>\n",
       "<table border=\"1\" class=\"dataframe\">\n",
       "  <thead>\n",
       "    <tr style=\"text-align: right;\">\n",
       "      <th></th>\n",
       "      <th>movieId_x</th>\n",
       "      <th>movieId_y</th>\n",
       "      <th>count</th>\n",
       "      <th>title_x</th>\n",
       "      <th>title_y</th>\n",
       "    </tr>\n",
       "  </thead>\n",
       "  <tbody>\n",
       "    <tr>\n",
       "      <th>88052</th>\n",
       "      <td>m858</td>\n",
       "      <td>m1221</td>\n",
       "      <td>74</td>\n",
       "      <td>Godfather, The (1972)</td>\n",
       "      <td>Godfather: Part II, The (1974)</td>\n",
       "    </tr>\n",
       "  </tbody>\n",
       "</table>\n",
       "</div>"
      ],
      "text/plain": [
       "      movieId_x movieId_y  count                title_x  \\\n",
       "88052      m858     m1221     74  Godfather, The (1972)   \n",
       "\n",
       "                              title_y  \n",
       "88052  Godfather: Part II, The (1974)  "
      ]
     },
     "execution_count": 22,
     "metadata": {},
     "output_type": "execute_result"
    }
   ],
   "source": [
    "pairstitles_df[pairstitles_df['count'] == 74]"
   ]
  },
  {
   "cell_type": "markdown",
   "metadata": {
    "id": "_0tOm--0ByR6"
   },
   "source": [
    "## Task 8. Calculate Lift (see Lecture 3) for all pairs in `paircounts`.  \n",
    "\n",
    "Now you should calculate Lift. You will need to carefully consider your event space, guided by Lecture 3.\n",
    "\n",
    "Your target dataframe should have columns:\n",
    " - movieId_x\tmovieId_y\n",
    " - count - number of users that have positively rated both movies x and y.\n",
    " - ratingCount_x\tratingCount_y\t- number of users that have positively rated these movies in total.\n",
    " - lift\t- your calculated lift.\n",
    " - title_x, title_y, genre_x and genre_y - metadata about the films, so you know if you have success.\n",
    "\n",
    "Hints:\n",
    " - You will need to join `pairswithcounts` with a dataframe containing rating counts of individual movies. A calculated column will be needed. See https://pandas.pydata.org/docs/getting_started/intro_tutorials/05_add_columns.html or https://stackoverflow.com/a/12377083/9989050 for hints on how to achieve that.\n",
    " - If you come across duplicated columns in your solution, you can use this trick https://stackoverflow.com/a/40435354/9989050 to get rid of them.\n",
    " - You should [sort](https://pandas.pydata.org/pandas-docs/stable/reference/api/pandas.DataFrame.sort_values.html) your dataframe.\n",
    "\n",
    "Below I provide the highest lift movies for you to check your solution.\n"
   ]
  },
  {
   "cell_type": "code",
   "execution_count": 23,
   "metadata": {
    "id": "vKtydbY8oXL0"
   },
   "outputs": [
    {
     "data": {
      "text/html": [
       "<div>\n",
       "<style scoped>\n",
       "    .dataframe tbody tr th:only-of-type {\n",
       "        vertical-align: middle;\n",
       "    }\n",
       "\n",
       "    .dataframe tbody tr th {\n",
       "        vertical-align: top;\n",
       "    }\n",
       "\n",
       "    .dataframe thead th {\n",
       "        text-align: right;\n",
       "    }\n",
       "</style>\n",
       "<table border=\"1\" class=\"dataframe\">\n",
       "  <thead>\n",
       "    <tr style=\"text-align: right;\">\n",
       "      <th></th>\n",
       "      <th>movieId</th>\n",
       "      <th>ratingCount</th>\n",
       "    </tr>\n",
       "  </thead>\n",
       "  <tbody>\n",
       "    <tr>\n",
       "      <th>0</th>\n",
       "      <td>m1</td>\n",
       "      <td>147</td>\n",
       "    </tr>\n",
       "    <tr>\n",
       "      <th>1</th>\n",
       "      <td>m10</td>\n",
       "      <td>59</td>\n",
       "    </tr>\n",
       "    <tr>\n",
       "      <th>2</th>\n",
       "      <td>m100</td>\n",
       "      <td>1</td>\n",
       "    </tr>\n",
       "    <tr>\n",
       "      <th>3</th>\n",
       "      <td>m100044</td>\n",
       "      <td>1</td>\n",
       "    </tr>\n",
       "    <tr>\n",
       "      <th>4</th>\n",
       "      <td>m100083</td>\n",
       "      <td>1</td>\n",
       "    </tr>\n",
       "  </tbody>\n",
       "</table>\n",
       "</div>"
      ],
      "text/plain": [
       "   movieId  ratingCount\n",
       "0       m1          147\n",
       "1      m10           59\n",
       "2     m100            1\n",
       "3  m100044            1\n",
       "4  m100083            1"
      ]
     },
     "execution_count": 23,
     "metadata": {},
     "output_type": "execute_result"
    }
   ],
   "source": [
    "positive_ratings_df = positives.groupby('movieId').agg(ratingCount=(\"userId\", \"count\"))\n",
    "positive_ratings_df.reset_index(inplace=True)\n",
    "positive_ratings_df.head(5)"
   ]
  },
  {
   "cell_type": "code",
   "execution_count": 24,
   "metadata": {},
   "outputs": [
    {
     "data": {
      "text/html": [
       "<div>\n",
       "<style scoped>\n",
       "    .dataframe tbody tr th:only-of-type {\n",
       "        vertical-align: middle;\n",
       "    }\n",
       "\n",
       "    .dataframe tbody tr th {\n",
       "        vertical-align: top;\n",
       "    }\n",
       "\n",
       "    .dataframe thead th {\n",
       "        text-align: right;\n",
       "    }\n",
       "</style>\n",
       "<table border=\"1\" class=\"dataframe\">\n",
       "  <thead>\n",
       "    <tr style=\"text-align: right;\">\n",
       "      <th></th>\n",
       "      <th>movieId_x</th>\n",
       "      <th>movieId_y</th>\n",
       "      <th>count</th>\n",
       "      <th>title_x</th>\n",
       "      <th>genre_x</th>\n",
       "      <th>title_y</th>\n",
       "      <th>genre_y</th>\n",
       "    </tr>\n",
       "  </thead>\n",
       "  <tbody>\n",
       "    <tr>\n",
       "      <th>0</th>\n",
       "      <td>m318</td>\n",
       "      <td>m356</td>\n",
       "      <td>112</td>\n",
       "      <td>Shawshank Redemption, The (1994)</td>\n",
       "      <td>Crime|Drama</td>\n",
       "      <td>Forrest Gump (1994)</td>\n",
       "      <td>Comedy|Drama|Romance|War</td>\n",
       "    </tr>\n",
       "    <tr>\n",
       "      <th>2141</th>\n",
       "      <td>m318</td>\n",
       "      <td>m527</td>\n",
       "      <td>98</td>\n",
       "      <td>Shawshank Redemption, The (1994)</td>\n",
       "      <td>Crime|Drama</td>\n",
       "      <td>Schindler's List (1993)</td>\n",
       "      <td>Drama|War</td>\n",
       "    </tr>\n",
       "    <tr>\n",
       "      <th>4194</th>\n",
       "      <td>m296</td>\n",
       "      <td>m593</td>\n",
       "      <td>95</td>\n",
       "      <td>Pulp Fiction (1994)</td>\n",
       "      <td>Comedy|Crime|Drama|Thriller</td>\n",
       "      <td>Silence of the Lambs, The (1991)</td>\n",
       "      <td>Crime|Horror|Thriller</td>\n",
       "    </tr>\n",
       "    <tr>\n",
       "      <th>17826</th>\n",
       "      <td>m296</td>\n",
       "      <td>m47</td>\n",
       "      <td>92</td>\n",
       "      <td>Pulp Fiction (1994)</td>\n",
       "      <td>Comedy|Crime|Drama|Thriller</td>\n",
       "      <td>Seven (a.k.a. Se7en) (1995)</td>\n",
       "      <td>Mystery|Thriller</td>\n",
       "    </tr>\n",
       "    <tr>\n",
       "      <th>24736</th>\n",
       "      <td>m260</td>\n",
       "      <td>m1196</td>\n",
       "      <td>91</td>\n",
       "      <td>Star Wars: Episode IV - A New Hope (1977)</td>\n",
       "      <td>Action|Adventure|Sci-Fi</td>\n",
       "      <td>Star Wars: Episode V - The Empire Strikes Back...</td>\n",
       "      <td>Action|Adventure|Sci-Fi</td>\n",
       "    </tr>\n",
       "  </tbody>\n",
       "</table>\n",
       "</div>"
      ],
      "text/plain": [
       "      movieId_x movieId_y  count                                    title_x  \\\n",
       "0          m318      m356    112           Shawshank Redemption, The (1994)   \n",
       "2141       m318      m527     98           Shawshank Redemption, The (1994)   \n",
       "4194       m296      m593     95                        Pulp Fiction (1994)   \n",
       "17826      m296       m47     92                        Pulp Fiction (1994)   \n",
       "24736      m260     m1196     91  Star Wars: Episode IV - A New Hope (1977)   \n",
       "\n",
       "                           genre_x  \\\n",
       "0                      Crime|Drama   \n",
       "2141                   Crime|Drama   \n",
       "4194   Comedy|Crime|Drama|Thriller   \n",
       "17826  Comedy|Crime|Drama|Thriller   \n",
       "24736      Action|Adventure|Sci-Fi   \n",
       "\n",
       "                                                 title_y  \\\n",
       "0                                    Forrest Gump (1994)   \n",
       "2141                             Schindler's List (1993)   \n",
       "4194                    Silence of the Lambs, The (1991)   \n",
       "17826                        Seven (a.k.a. Se7en) (1995)   \n",
       "24736  Star Wars: Episode V - The Empire Strikes Back...   \n",
       "\n",
       "                        genre_y  \n",
       "0      Comedy|Drama|Romance|War  \n",
       "2141                  Drama|War  \n",
       "4194      Crime|Horror|Thriller  \n",
       "17826          Mystery|Thriller  \n",
       "24736   Action|Adventure|Sci-Fi  "
      ]
     },
     "execution_count": 24,
     "metadata": {},
     "output_type": "execute_result"
    }
   ],
   "source": [
    "x_metadata_df = pd.merge(pairswithcounts,\n",
    "            movies_df[['movieId', 'title', 'genres']],\n",
    "            left_on=['movieId_x'], right_on=['movieId']) \\\n",
    "            .drop(columns=['movieId'])\\\n",
    "            .rename(columns={'title':'title_x', 'genres':'genre_x'})\n",
    "\n",
    "metadata_merged_df = pd.merge(x_metadata_df,\n",
    "              movies_df[['movieId', 'title', 'genres']],\n",
    "              left_on=['movieId_y'], right_on=['movieId'])\\\n",
    "                .drop(columns=['movieId'])\\\n",
    "                .rename(columns={'title':'title_y', 'genres':'genre_y'})\n",
    "\n",
    "metadata_df = metadata_merged_df.sort_values(by='count', ascending=False)\n",
    "metadata_df.head(5)"
   ]
  },
  {
   "cell_type": "code",
   "execution_count": 25,
   "metadata": {},
   "outputs": [
    {
     "data": {
      "text/html": [
       "<div>\n",
       "<style scoped>\n",
       "    .dataframe tbody tr th:only-of-type {\n",
       "        vertical-align: middle;\n",
       "    }\n",
       "\n",
       "    .dataframe tbody tr th {\n",
       "        vertical-align: top;\n",
       "    }\n",
       "\n",
       "    .dataframe thead th {\n",
       "        text-align: right;\n",
       "    }\n",
       "</style>\n",
       "<table border=\"1\" class=\"dataframe\">\n",
       "  <thead>\n",
       "    <tr style=\"text-align: right;\">\n",
       "      <th></th>\n",
       "      <th>movieId_x</th>\n",
       "      <th>movieId_y</th>\n",
       "      <th>count</th>\n",
       "      <th>ratingCount_x</th>\n",
       "      <th>ratingCount_y</th>\n",
       "      <th>title_x</th>\n",
       "      <th>title_y</th>\n",
       "      <th>genre_x</th>\n",
       "      <th>genre_y</th>\n",
       "    </tr>\n",
       "  </thead>\n",
       "  <tbody>\n",
       "    <tr>\n",
       "      <th>0</th>\n",
       "      <td>m318</td>\n",
       "      <td>m356</td>\n",
       "      <td>112</td>\n",
       "      <td>274</td>\n",
       "      <td>249</td>\n",
       "      <td>Shawshank Redemption, The (1994)</td>\n",
       "      <td>Forrest Gump (1994)</td>\n",
       "      <td>Crime|Drama</td>\n",
       "      <td>Comedy|Drama|Romance|War</td>\n",
       "    </tr>\n",
       "    <tr>\n",
       "      <th>1</th>\n",
       "      <td>m296</td>\n",
       "      <td>m356</td>\n",
       "      <td>88</td>\n",
       "      <td>244</td>\n",
       "      <td>249</td>\n",
       "      <td>Pulp Fiction (1994)</td>\n",
       "      <td>Forrest Gump (1994)</td>\n",
       "      <td>Comedy|Crime|Drama|Thriller</td>\n",
       "      <td>Comedy|Drama|Romance|War</td>\n",
       "    </tr>\n",
       "    <tr>\n",
       "      <th>2</th>\n",
       "      <td>m260</td>\n",
       "      <td>m356</td>\n",
       "      <td>49</td>\n",
       "      <td>201</td>\n",
       "      <td>249</td>\n",
       "      <td>Star Wars: Episode IV - A New Hope (1977)</td>\n",
       "      <td>Forrest Gump (1994)</td>\n",
       "      <td>Action|Adventure|Sci-Fi</td>\n",
       "      <td>Comedy|Drama|Romance|War</td>\n",
       "    </tr>\n",
       "    <tr>\n",
       "      <th>3</th>\n",
       "      <td>m2571</td>\n",
       "      <td>m356</td>\n",
       "      <td>77</td>\n",
       "      <td>222</td>\n",
       "      <td>249</td>\n",
       "      <td>Matrix, The (1999)</td>\n",
       "      <td>Forrest Gump (1994)</td>\n",
       "      <td>Action|Sci-Fi|Thriller</td>\n",
       "      <td>Comedy|Drama|Romance|War</td>\n",
       "    </tr>\n",
       "    <tr>\n",
       "      <th>4</th>\n",
       "      <td>m4993</td>\n",
       "      <td>m356</td>\n",
       "      <td>38</td>\n",
       "      <td>146</td>\n",
       "      <td>249</td>\n",
       "      <td>Lord of the Rings: The Fellowship of the Ring,...</td>\n",
       "      <td>Forrest Gump (1994)</td>\n",
       "      <td>Adventure|Fantasy</td>\n",
       "      <td>Comedy|Drama|Romance|War</td>\n",
       "    </tr>\n",
       "  </tbody>\n",
       "</table>\n",
       "</div>"
      ],
      "text/plain": [
       "  movieId_x movieId_y  count  ratingCount_x  ratingCount_y  \\\n",
       "0      m318      m356    112            274            249   \n",
       "1      m296      m356     88            244            249   \n",
       "2      m260      m356     49            201            249   \n",
       "3     m2571      m356     77            222            249   \n",
       "4     m4993      m356     38            146            249   \n",
       "\n",
       "                                             title_x              title_y  \\\n",
       "0                   Shawshank Redemption, The (1994)  Forrest Gump (1994)   \n",
       "1                                Pulp Fiction (1994)  Forrest Gump (1994)   \n",
       "2          Star Wars: Episode IV - A New Hope (1977)  Forrest Gump (1994)   \n",
       "3                                 Matrix, The (1999)  Forrest Gump (1994)   \n",
       "4  Lord of the Rings: The Fellowship of the Ring,...  Forrest Gump (1994)   \n",
       "\n",
       "                       genre_x                   genre_y  \n",
       "0                  Crime|Drama  Comedy|Drama|Romance|War  \n",
       "1  Comedy|Crime|Drama|Thriller  Comedy|Drama|Romance|War  \n",
       "2      Action|Adventure|Sci-Fi  Comedy|Drama|Romance|War  \n",
       "3       Action|Sci-Fi|Thriller  Comedy|Drama|Romance|War  \n",
       "4            Adventure|Fantasy  Comedy|Drama|Romance|War  "
      ]
     },
     "execution_count": 25,
     "metadata": {},
     "output_type": "execute_result"
    }
   ],
   "source": [
    "metadata_x_ratings_df = pd.merge(metadata_df,\n",
    "            positive_ratings_df.rename(columns={'movieId':'movieId_x'}),\n",
    "            on='movieId_x').rename(columns={'ratingCount': 'ratingCount_x'})\n",
    "\n",
    "metadata_ratings_df = pd.merge(metadata_x_ratings_df,\n",
    "            positive_ratings_df.rename(columns={'movieId':'movieId_y'}),\n",
    "            on='movieId_y').rename(columns={'ratingCount': 'ratingCount_y'})\n",
    "\n",
    "metadata_ratings_df = metadata_ratings_df[['movieId_x', 'movieId_y', 'count',\n",
    "                    'ratingCount_x', 'ratingCount_y', \n",
    "                    'title_x', 'title_y',\n",
    "                    'genre_x', 'genre_y']]\n",
    "\n",
    "metadata_ratings_df.head(5)"
   ]
  },
  {
   "cell_type": "code",
   "execution_count": 26,
   "metadata": {},
   "outputs": [],
   "source": [
    "total_single_ratings = positives.shape[0]\n",
    "total_pairs = pairswithcounts['count'].sum()\n",
    "\n",
    "def calculate_lift(paircount, rc_x, rc_y):\n",
    "    p_x = rc_x / total_single_ratings\n",
    "    p_y = rc_y / total_single_ratings\n",
    "    p_x_y = paircount / total_pairs\n",
    "    return p_x_y / (p_x * p_y) "
   ]
  },
  {
   "cell_type": "code",
   "execution_count": 27,
   "metadata": {},
   "outputs": [],
   "source": [
    "lift_df = metadata_ratings_df.copy()\n",
    "lift_df['lift'] = lift_df.apply(lambda r: calculate_lift(r['count'],\n",
    "                                                         r.ratingCount_x,\n",
    "                                                         r.ratingCount_y), axis=1)\n",
    "\n",
    "lift_df = lift_df[['movieId_x', 'movieId_y', 'count',\n",
    "                    'ratingCount_x', 'ratingCount_y', 'lift',\n",
    "                    'title_x', 'title_y',\n",
    "                    'genre_x', 'genre_y']]\n",
    "\n",
    "lift_df = lift_df.sort_values(by='lift', ascending=False)"
   ]
  },
  {
   "cell_type": "code",
   "execution_count": 28,
   "metadata": {},
   "outputs": [
    {
     "data": {
      "text/html": [
       "<div>\n",
       "<style scoped>\n",
       "    .dataframe tbody tr th:only-of-type {\n",
       "        vertical-align: middle;\n",
       "    }\n",
       "\n",
       "    .dataframe tbody tr th {\n",
       "        vertical-align: top;\n",
       "    }\n",
       "\n",
       "    .dataframe thead th {\n",
       "        text-align: right;\n",
       "    }\n",
       "</style>\n",
       "<table border=\"1\" class=\"dataframe\">\n",
       "  <thead>\n",
       "    <tr style=\"text-align: right;\">\n",
       "      <th></th>\n",
       "      <th>movieId_x</th>\n",
       "      <th>movieId_y</th>\n",
       "      <th>count</th>\n",
       "      <th>ratingCount_x</th>\n",
       "      <th>ratingCount_y</th>\n",
       "      <th>lift</th>\n",
       "      <th>title_x</th>\n",
       "      <th>title_y</th>\n",
       "      <th>genre_x</th>\n",
       "      <th>genre_y</th>\n",
       "    </tr>\n",
       "  </thead>\n",
       "  <tbody>\n",
       "    <tr>\n",
       "      <th>3540436</th>\n",
       "      <td>m130490</td>\n",
       "      <td>m114265</td>\n",
       "      <td>1</td>\n",
       "      <td>1</td>\n",
       "      <td>1</td>\n",
       "      <td>425.272163</td>\n",
       "      <td>Insurgent (2015)</td>\n",
       "      <td>Laggies (2014)</td>\n",
       "      <td>Action|Sci-Fi|Thriller</td>\n",
       "      <td>Comedy|Romance</td>\n",
       "    </tr>\n",
       "    <tr>\n",
       "      <th>3027402</th>\n",
       "      <td>m2751</td>\n",
       "      <td>m8119</td>\n",
       "      <td>1</td>\n",
       "      <td>1</td>\n",
       "      <td>1</td>\n",
       "      <td>425.272163</td>\n",
       "      <td>From the Hip (1987)</td>\n",
       "      <td>Crossroads (1986)</td>\n",
       "      <td>Comedy|Drama</td>\n",
       "      <td>Drama</td>\n",
       "    </tr>\n",
       "    <tr>\n",
       "      <th>3027405</th>\n",
       "      <td>m6974</td>\n",
       "      <td>m8119</td>\n",
       "      <td>1</td>\n",
       "      <td>1</td>\n",
       "      <td>1</td>\n",
       "      <td>425.272163</td>\n",
       "      <td>Freshman, The (1990)</td>\n",
       "      <td>Crossroads (1986)</td>\n",
       "      <td>Comedy|Crime</td>\n",
       "      <td>Drama</td>\n",
       "    </tr>\n",
       "    <tr>\n",
       "      <th>3027406</th>\n",
       "      <td>m6816</td>\n",
       "      <td>m8119</td>\n",
       "      <td>1</td>\n",
       "      <td>1</td>\n",
       "      <td>1</td>\n",
       "      <td>425.272163</td>\n",
       "      <td>Three O'Clock High (1987)</td>\n",
       "      <td>Crossroads (1986)</td>\n",
       "      <td>Comedy</td>\n",
       "      <td>Drama</td>\n",
       "    </tr>\n",
       "    <tr>\n",
       "      <th>3027408</th>\n",
       "      <td>m6567</td>\n",
       "      <td>m8119</td>\n",
       "      <td>1</td>\n",
       "      <td>1</td>\n",
       "      <td>1</td>\n",
       "      <td>425.272163</td>\n",
       "      <td>Buffalo Soldiers (2001)</td>\n",
       "      <td>Crossroads (1986)</td>\n",
       "      <td>Comedy|Crime|Drama|War</td>\n",
       "      <td>Drama</td>\n",
       "    </tr>\n",
       "  </tbody>\n",
       "</table>\n",
       "</div>"
      ],
      "text/plain": [
       "        movieId_x movieId_y  count  ratingCount_x  ratingCount_y        lift  \\\n",
       "3540436   m130490   m114265      1              1              1  425.272163   \n",
       "3027402     m2751     m8119      1              1              1  425.272163   \n",
       "3027405     m6974     m8119      1              1              1  425.272163   \n",
       "3027406     m6816     m8119      1              1              1  425.272163   \n",
       "3027408     m6567     m8119      1              1              1  425.272163   \n",
       "\n",
       "                           title_x            title_y                 genre_x  \\\n",
       "3540436           Insurgent (2015)     Laggies (2014)  Action|Sci-Fi|Thriller   \n",
       "3027402        From the Hip (1987)  Crossroads (1986)            Comedy|Drama   \n",
       "3027405       Freshman, The (1990)  Crossroads (1986)            Comedy|Crime   \n",
       "3027406  Three O'Clock High (1987)  Crossroads (1986)                  Comedy   \n",
       "3027408    Buffalo Soldiers (2001)  Crossroads (1986)  Comedy|Crime|Drama|War   \n",
       "\n",
       "                genre_y  \n",
       "3540436  Comedy|Romance  \n",
       "3027402           Drama  \n",
       "3027405           Drama  \n",
       "3027406           Drama  \n",
       "3027408           Drama  "
      ]
     },
     "execution_count": 28,
     "metadata": {},
     "output_type": "execute_result"
    }
   ],
   "source": [
    "lift_df.head(5)"
   ]
  },
  {
   "cell_type": "code",
   "execution_count": 32,
   "metadata": {},
   "outputs": [
    {
     "data": {
      "text/html": [
       "<div>\n",
       "<style scoped>\n",
       "    .dataframe tbody tr th:only-of-type {\n",
       "        vertical-align: middle;\n",
       "    }\n",
       "\n",
       "    .dataframe tbody tr th {\n",
       "        vertical-align: top;\n",
       "    }\n",
       "\n",
       "    .dataframe thead th {\n",
       "        text-align: right;\n",
       "    }\n",
       "</style>\n",
       "<table border=\"1\" class=\"dataframe\">\n",
       "  <thead>\n",
       "    <tr style=\"text-align: right;\">\n",
       "      <th></th>\n",
       "      <th>movieId_x</th>\n",
       "      <th>movieId_y</th>\n",
       "      <th>count</th>\n",
       "      <th>ratingCount_x</th>\n",
       "      <th>ratingCount_y</th>\n",
       "      <th>lift</th>\n",
       "      <th>title_x</th>\n",
       "      <th>title_y</th>\n",
       "      <th>genre_x</th>\n",
       "      <th>genre_y</th>\n",
       "    </tr>\n",
       "  </thead>\n",
       "  <tbody>\n",
       "    <tr>\n",
       "      <th>981256</th>\n",
       "      <td>m91500</td>\n",
       "      <td>m106487</td>\n",
       "      <td>10</td>\n",
       "      <td>24</td>\n",
       "      <td>14</td>\n",
       "      <td>12.65691</td>\n",
       "      <td>The Hunger Games (2012)</td>\n",
       "      <td>The Hunger Games: Catching Fire (2013)</td>\n",
       "      <td>Action|Adventure|Drama|Sci-Fi|Thriller</td>\n",
       "      <td>Action|Adventure|Sci-Fi|IMAX</td>\n",
       "    </tr>\n",
       "  </tbody>\n",
       "</table>\n",
       "</div>"
      ],
      "text/plain": [
       "       movieId_x movieId_y  count  ratingCount_x  ratingCount_y      lift  \\\n",
       "981256    m91500   m106487     10             24             14  12.65691   \n",
       "\n",
       "                        title_x                                 title_y  \\\n",
       "981256  The Hunger Games (2012)  The Hunger Games: Catching Fire (2013)   \n",
       "\n",
       "                                       genre_x                       genre_y  \n",
       "981256  Action|Adventure|Drama|Sci-Fi|Thriller  Action|Adventure|Sci-Fi|IMAX  "
      ]
     },
     "execution_count": 32,
     "metadata": {},
     "output_type": "execute_result"
    }
   ],
   "source": [
    "lift_df[(lift_df[\"movieId_x\"] == \"m91500\") & (lift_df[\"movieId_y\"] == \"m106487\")]"
   ]
  },
  {
   "cell_type": "markdown",
   "metadata": {
    "id": "j86C6mX9JyE_"
   },
   "source": [
    "If your solution is correct, you will see the highest lift movie pairs.\n",
    "Let's check them - do the highest lift movies pairs make sense? e.g. \"Pink Panther, The (2006)\" (Adventure|Comedy|Crime) with\t\"For Richer or Poorer (1997)\" (Comedy).\n",
    "\n",
    "It should be clear that these lift pairs do not have high support."
   ]
  },
  {
   "cell_type": "markdown",
   "metadata": {
    "id": "syNMZ-gULEvI"
   },
   "source": [
    "## Task 9 - Support Thresholds"
   ]
  },
  {
   "cell_type": "markdown",
   "metadata": {
    "id": "Q8J3co2aDhfp"
   },
   "source": [
    "\n",
    "We can make more meaningful recommendations using Lift if we apply a Support threshold. For instance, we can remove movie pairs with support count $< 10$.\n",
    "\n",
    "So in essence, we can use lift to identify highly co-occurring movie pairs without resorting to any collaborative notions.\n",
    "\n",
    "Keep this dataframe around - you will need it to answer the questions for Task 9 in the quiz."
   ]
  },
  {
   "cell_type": "code",
   "execution_count": 30,
   "metadata": {
    "id": "Ol1oyIVYyGv9"
   },
   "outputs": [
    {
     "data": {
      "text/html": [
       "<div>\n",
       "<style scoped>\n",
       "    .dataframe tbody tr th:only-of-type {\n",
       "        vertical-align: middle;\n",
       "    }\n",
       "\n",
       "    .dataframe tbody tr th {\n",
       "        vertical-align: top;\n",
       "    }\n",
       "\n",
       "    .dataframe thead th {\n",
       "        text-align: right;\n",
       "    }\n",
       "</style>\n",
       "<table border=\"1\" class=\"dataframe\">\n",
       "  <thead>\n",
       "    <tr style=\"text-align: right;\">\n",
       "      <th></th>\n",
       "      <th>movieId_x</th>\n",
       "      <th>movieId_y</th>\n",
       "      <th>count</th>\n",
       "      <th>ratingCount_x</th>\n",
       "      <th>ratingCount_y</th>\n",
       "      <th>lift</th>\n",
       "      <th>title_x</th>\n",
       "      <th>title_y</th>\n",
       "      <th>genre_x</th>\n",
       "      <th>genre_y</th>\n",
       "    </tr>\n",
       "  </thead>\n",
       "  <tbody>\n",
       "    <tr>\n",
       "      <th>1037652</th>\n",
       "      <td>m91500</td>\n",
       "      <td>m116823</td>\n",
       "      <td>11</td>\n",
       "      <td>24</td>\n",
       "      <td>15</td>\n",
       "      <td>12.994427</td>\n",
       "      <td>The Hunger Games (2012)</td>\n",
       "      <td>The Hunger Games: Mockingjay - Part 1 (2014)</td>\n",
       "      <td>Action|Adventure|Drama|Sci-Fi|Thriller</td>\n",
       "      <td>Adventure|Sci-Fi|Thriller</td>\n",
       "    </tr>\n",
       "    <tr>\n",
       "      <th>981256</th>\n",
       "      <td>m91500</td>\n",
       "      <td>m106487</td>\n",
       "      <td>10</td>\n",
       "      <td>24</td>\n",
       "      <td>14</td>\n",
       "      <td>12.656910</td>\n",
       "      <td>The Hunger Games (2012)</td>\n",
       "      <td>The Hunger Games: Catching Fire (2013)</td>\n",
       "      <td>Action|Adventure|Drama|Sci-Fi|Thriller</td>\n",
       "      <td>Action|Adventure|Sci-Fi|IMAX</td>\n",
       "    </tr>\n",
       "    <tr>\n",
       "      <th>607892</th>\n",
       "      <td>m115713</td>\n",
       "      <td>m139385</td>\n",
       "      <td>10</td>\n",
       "      <td>20</td>\n",
       "      <td>19</td>\n",
       "      <td>11.191373</td>\n",
       "      <td>Ex Machina (2015)</td>\n",
       "      <td>The Revenant (2015)</td>\n",
       "      <td>Drama|Sci-Fi|Thriller</td>\n",
       "      <td>Adventure|Drama</td>\n",
       "    </tr>\n",
       "    <tr>\n",
       "      <th>829323</th>\n",
       "      <td>m91658</td>\n",
       "      <td>m67255</td>\n",
       "      <td>10</td>\n",
       "      <td>24</td>\n",
       "      <td>19</td>\n",
       "      <td>9.326144</td>\n",
       "      <td>Girl with the Dragon Tattoo, The (2011)</td>\n",
       "      <td>Girl with the Dragon Tattoo, The (Män som hata...</td>\n",
       "      <td>Drama|Thriller</td>\n",
       "      <td>Crime|Drama|Mystery|Thriller</td>\n",
       "    </tr>\n",
       "    <tr>\n",
       "      <th>862831</th>\n",
       "      <td>m34162</td>\n",
       "      <td>m8807</td>\n",
       "      <td>10</td>\n",
       "      <td>25</td>\n",
       "      <td>19</td>\n",
       "      <td>8.953098</td>\n",
       "      <td>Wedding Crashers (2005)</td>\n",
       "      <td>Harold and Kumar Go to White Castle (2004)</td>\n",
       "      <td>Comedy|Romance</td>\n",
       "      <td>Adventure|Comedy</td>\n",
       "    </tr>\n",
       "  </tbody>\n",
       "</table>\n",
       "</div>"
      ],
      "text/plain": [
       "        movieId_x movieId_y  count  ratingCount_x  ratingCount_y       lift  \\\n",
       "1037652    m91500   m116823     11             24             15  12.994427   \n",
       "981256     m91500   m106487     10             24             14  12.656910   \n",
       "607892    m115713   m139385     10             20             19  11.191373   \n",
       "829323     m91658    m67255     10             24             19   9.326144   \n",
       "862831     m34162     m8807     10             25             19   8.953098   \n",
       "\n",
       "                                         title_x  \\\n",
       "1037652                  The Hunger Games (2012)   \n",
       "981256                   The Hunger Games (2012)   \n",
       "607892                         Ex Machina (2015)   \n",
       "829323   Girl with the Dragon Tattoo, The (2011)   \n",
       "862831                   Wedding Crashers (2005)   \n",
       "\n",
       "                                                   title_y  \\\n",
       "1037652       The Hunger Games: Mockingjay - Part 1 (2014)   \n",
       "981256              The Hunger Games: Catching Fire (2013)   \n",
       "607892                                 The Revenant (2015)   \n",
       "829323   Girl with the Dragon Tattoo, The (Män som hata...   \n",
       "862831          Harold and Kumar Go to White Castle (2004)   \n",
       "\n",
       "                                        genre_x                       genre_y  \n",
       "1037652  Action|Adventure|Drama|Sci-Fi|Thriller     Adventure|Sci-Fi|Thriller  \n",
       "981256   Action|Adventure|Drama|Sci-Fi|Thriller  Action|Adventure|Sci-Fi|IMAX  \n",
       "607892                    Drama|Sci-Fi|Thriller               Adventure|Drama  \n",
       "829323                           Drama|Thriller  Crime|Drama|Mystery|Thriller  \n",
       "862831                           Comedy|Romance              Adventure|Comedy  "
      ]
     },
     "execution_count": 30,
     "metadata": {},
     "output_type": "execute_result"
    }
   ],
   "source": [
    "support_thresholded_df = lift_df[lift_df[\"count\"] >= 10]\n",
    "support_thresholded_df = support_thresholded_df.sort_values(by=\"lift\", ascending=False)\n",
    "support_thresholded_df.head(5)"
   ]
  },
  {
   "cell_type": "markdown",
   "metadata": {
    "id": "WDgtH8sWk291"
   },
   "source": [
    "I got the \"The Hunger Games (2012)\" paired with \"The Hunger Games: Mockingjay - Part 1 (2014)\" as the movie pair with the highest lift. This seems a good pairing!"
   ]
  },
  {
   "cell_type": "markdown",
   "metadata": {
    "id": "xpuW7oZcFU_G"
   },
   "source": [
    "# End of Exercise\n",
    "\n",
    "As part of your submission, you should complete the Exercise 1 quiz on Moodle.\n",
    "You will need to upload your notebook, complete with the **results** of executing the code."
   ]
  }
 ],
 "metadata": {
  "colab": {
   "provenance": []
  },
  "kernelspec": {
   "display_name": "Python 3 (ipykernel)",
   "language": "python",
   "name": "python3"
  },
  "language_info": {
   "codemirror_mode": {
    "name": "ipython",
    "version": 3
   },
   "file_extension": ".py",
   "mimetype": "text/x-python",
   "name": "python",
   "nbconvert_exporter": "python",
   "pygments_lexer": "ipython3",
   "version": "3.11.7"
  }
 },
 "nbformat": 4,
 "nbformat_minor": 4
}

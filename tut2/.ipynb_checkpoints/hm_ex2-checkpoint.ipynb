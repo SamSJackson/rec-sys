{
 "cells": [
  {
   "cell_type": "markdown",
   "metadata": {
    "id": "Inwi1o3992TW"
   },
   "source": [
    "# Exerise 2\n",
    "> This exercise builds on the lectures' material, namely Lectures 3, 4, 6, 7 and 8.\n",
    "\n",
    "The aims of this execise are to:\n",
    " - Make your first recommender by implementing a user-based collaborating filtering (CF) (c.f. Lecture 4).\n",
    " - Make your first recommendations using Spotlight recommender toolkit on explicit data (c.f. Lecture 8).\n",
    " - Develop and evaluate baseline recommender systems (c.f. Lecture 3).\n",
    " - Start to think about explicit vs. implicit learners.\n",
    " - Evaluate your results using Spotlight (c.f. Lecture 6 & 7).\n",
    "\n",
    "\n",
    "There are 10 tasks to increase your understanding of the content of the Recommender Sytems course.  Each of these tasks have corresponding questions in the quiz.\n",
    "\n",
    "NB: Parts A, B & C are independent. It is important to properly manage your time to ensure that you have time to answer all parts of the Exercise."
   ]
  },
  {
   "cell_type": "code",
   "execution_count": 1,
   "metadata": {
    "ExecuteTime": {
     "end_time": "2024-01-25T12:18:26.982086100Z",
     "start_time": "2024-01-25T12:18:23.462755700Z"
    },
    "id": "Ys992pU79yhD"
   },
   "outputs": [],
   "source": [
    "#Standard setup\n",
    "import pandas as pd\n",
    "import numpy as np\n",
    "import torch\n",
    "from typing import List, Tuple, Sequence\n",
    "SEED=20"
   ]
  },
  {
   "cell_type": "markdown",
   "metadata": {
    "id": "-8Vlbi9W-d2j"
   },
   "source": [
    "We'll be using Movielens again. Let's load it in to the dataframe.\n"
   ]
  },
  {
   "cell_type": "code",
   "execution_count": 2,
   "metadata": {
    "ExecuteTime": {
     "end_time": "2024-01-25T12:19:11.439744500Z",
     "start_time": "2024-01-25T12:18:28.537132900Z"
    },
    "id": "Hg093kVRAvHw"
   },
   "outputs": [],
   "source": [
    "# !curl -o ml-latest-small.zip http://files.grouplens.org/datasets/movielens/ml-latest-small.zip\n",
    "# backup location\n",
    "# !curl -o ml-latest-small.zip http://www.dcs.gla.ac.uk/~craigm/recsysHM/ml-latest-small.zip\n",
    "# !unzip -o ml-latest-small.zip"
   ]
  },
  {
   "cell_type": "code",
   "execution_count": 3,
   "metadata": {
    "ExecuteTime": {
     "end_time": "2024-01-25T12:20:09.093176900Z",
     "start_time": "2024-01-25T12:20:08.993690500Z"
    },
    "id": "Yss68U_EA0w2"
   },
   "outputs": [],
   "source": [
    "ratings_df = pd.read_csv(\"ml-latest-small/ratings.csv\")\n",
    "movies_df = pd.read_csv(\"ml-latest-small/movies.csv\")\n",
    "\n",
    "# we're going to treat userId as strings, and similarly as movies. This will prevent confusion later on.\n",
    "ratings_df['userId'] = \"u\" + ratings_df['userId'].astype(str)\n",
    "ratings_df['movieId'] = \"m\" + ratings_df['movieId'].astype(str)\n",
    "movies_df['movieId'] = \"m\" +  movies_df['movieId'].astype(str)"
   ]
  },
  {
   "cell_type": "code",
   "execution_count": 4,
   "metadata": {
    "ExecuteTime": {
     "end_time": "2024-01-25T12:20:10.404612600Z",
     "start_time": "2024-01-25T12:20:10.353646200Z"
    },
    "id": "o5QQBZ3QS2Hv"
   },
   "outputs": [
    {
     "data": {
      "text/html": [
       "<div>\n",
       "<style scoped>\n",
       "    .dataframe tbody tr th:only-of-type {\n",
       "        vertical-align: middle;\n",
       "    }\n",
       "\n",
       "    .dataframe tbody tr th {\n",
       "        vertical-align: top;\n",
       "    }\n",
       "\n",
       "    .dataframe thead th {\n",
       "        text-align: right;\n",
       "    }\n",
       "</style>\n",
       "<table border=\"1\" class=\"dataframe\">\n",
       "  <thead>\n",
       "    <tr style=\"text-align: right;\">\n",
       "      <th></th>\n",
       "      <th>userId</th>\n",
       "      <th>movieId</th>\n",
       "      <th>rating</th>\n",
       "      <th>timestamp</th>\n",
       "    </tr>\n",
       "  </thead>\n",
       "  <tbody>\n",
       "    <tr>\n",
       "      <th>0</th>\n",
       "      <td>u1</td>\n",
       "      <td>m1</td>\n",
       "      <td>4.0</td>\n",
       "      <td>964982703</td>\n",
       "    </tr>\n",
       "    <tr>\n",
       "      <th>1</th>\n",
       "      <td>u1</td>\n",
       "      <td>m3</td>\n",
       "      <td>4.0</td>\n",
       "      <td>964981247</td>\n",
       "    </tr>\n",
       "    <tr>\n",
       "      <th>2</th>\n",
       "      <td>u1</td>\n",
       "      <td>m6</td>\n",
       "      <td>4.0</td>\n",
       "      <td>964982224</td>\n",
       "    </tr>\n",
       "    <tr>\n",
       "      <th>3</th>\n",
       "      <td>u1</td>\n",
       "      <td>m47</td>\n",
       "      <td>5.0</td>\n",
       "      <td>964983815</td>\n",
       "    </tr>\n",
       "    <tr>\n",
       "      <th>4</th>\n",
       "      <td>u1</td>\n",
       "      <td>m50</td>\n",
       "      <td>5.0</td>\n",
       "      <td>964982931</td>\n",
       "    </tr>\n",
       "  </tbody>\n",
       "</table>\n",
       "</div>"
      ],
      "text/plain": [
       "  userId movieId  rating  timestamp\n",
       "0     u1      m1     4.0  964982703\n",
       "1     u1      m3     4.0  964981247\n",
       "2     u1      m6     4.0  964982224\n",
       "3     u1     m47     5.0  964983815\n",
       "4     u1     m50     5.0  964982931"
      ]
     },
     "execution_count": 4,
     "metadata": {},
     "output_type": "execute_result"
    }
   ],
   "source": [
    "ratings_df.head()"
   ]
  },
  {
   "cell_type": "code",
   "execution_count": 5,
   "metadata": {
    "ExecuteTime": {
     "end_time": "2024-01-25T12:20:10.857695Z",
     "start_time": "2024-01-25T12:20:10.627822500Z"
    },
    "id": "eMfsveWjS4xP"
   },
   "outputs": [
    {
     "data": {
      "text/html": [
       "<div>\n",
       "<style scoped>\n",
       "    .dataframe tbody tr th:only-of-type {\n",
       "        vertical-align: middle;\n",
       "    }\n",
       "\n",
       "    .dataframe tbody tr th {\n",
       "        vertical-align: top;\n",
       "    }\n",
       "\n",
       "    .dataframe thead th {\n",
       "        text-align: right;\n",
       "    }\n",
       "</style>\n",
       "<table border=\"1\" class=\"dataframe\">\n",
       "  <thead>\n",
       "    <tr style=\"text-align: right;\">\n",
       "      <th></th>\n",
       "      <th>movieId</th>\n",
       "      <th>title</th>\n",
       "      <th>genres</th>\n",
       "    </tr>\n",
       "  </thead>\n",
       "  <tbody>\n",
       "    <tr>\n",
       "      <th>0</th>\n",
       "      <td>m1</td>\n",
       "      <td>Toy Story (1995)</td>\n",
       "      <td>Adventure|Animation|Children|Comedy|Fantasy</td>\n",
       "    </tr>\n",
       "    <tr>\n",
       "      <th>1</th>\n",
       "      <td>m2</td>\n",
       "      <td>Jumanji (1995)</td>\n",
       "      <td>Adventure|Children|Fantasy</td>\n",
       "    </tr>\n",
       "    <tr>\n",
       "      <th>2</th>\n",
       "      <td>m3</td>\n",
       "      <td>Grumpier Old Men (1995)</td>\n",
       "      <td>Comedy|Romance</td>\n",
       "    </tr>\n",
       "    <tr>\n",
       "      <th>3</th>\n",
       "      <td>m4</td>\n",
       "      <td>Waiting to Exhale (1995)</td>\n",
       "      <td>Comedy|Drama|Romance</td>\n",
       "    </tr>\n",
       "    <tr>\n",
       "      <th>4</th>\n",
       "      <td>m5</td>\n",
       "      <td>Father of the Bride Part II (1995)</td>\n",
       "      <td>Comedy</td>\n",
       "    </tr>\n",
       "  </tbody>\n",
       "</table>\n",
       "</div>"
      ],
      "text/plain": [
       "  movieId                               title  \\\n",
       "0      m1                    Toy Story (1995)   \n",
       "1      m2                      Jumanji (1995)   \n",
       "2      m3             Grumpier Old Men (1995)   \n",
       "3      m4            Waiting to Exhale (1995)   \n",
       "4      m5  Father of the Bride Part II (1995)   \n",
       "\n",
       "                                        genres  \n",
       "0  Adventure|Animation|Children|Comedy|Fantasy  \n",
       "1                   Adventure|Children|Fantasy  \n",
       "2                               Comedy|Romance  \n",
       "3                         Comedy|Drama|Romance  \n",
       "4                                       Comedy  "
      ]
     },
     "execution_count": 5,
     "metadata": {},
     "output_type": "execute_result"
    }
   ],
   "source": [
    "movies_df.head()"
   ]
  },
  {
   "cell_type": "markdown",
   "metadata": {
    "id": "-rAIXwDoBCda"
   },
   "source": [
    "# Part A. User-based CF"
   ]
  },
  {
   "cell_type": "markdown",
   "metadata": {
    "id": "isjp_rS0BCgh"
   },
   "source": [
    "You can generate a matrix of ratings with the ratings_df dataframe. Note that in the matrix, the unrated items are filled with 0 (this means they have no impact upon the calculated Cosine value, but you need to be careful about them in other situations)."
   ]
  },
  {
   "cell_type": "code",
   "execution_count": 6,
   "metadata": {
    "id": "LKsmW549BNlq"
   },
   "outputs": [
    {
     "data": {
      "text/html": [
       "<div>\n",
       "<style scoped>\n",
       "    .dataframe tbody tr th:only-of-type {\n",
       "        vertical-align: middle;\n",
       "    }\n",
       "\n",
       "    .dataframe tbody tr th {\n",
       "        vertical-align: top;\n",
       "    }\n",
       "\n",
       "    .dataframe thead th {\n",
       "        text-align: right;\n",
       "    }\n",
       "</style>\n",
       "<table border=\"1\" class=\"dataframe\">\n",
       "  <thead>\n",
       "    <tr style=\"text-align: right;\">\n",
       "      <th>movieId</th>\n",
       "      <th>m1</th>\n",
       "      <th>m10</th>\n",
       "      <th>m100</th>\n",
       "      <th>m100044</th>\n",
       "      <th>m100068</th>\n",
       "      <th>m100083</th>\n",
       "      <th>m100106</th>\n",
       "      <th>m100159</th>\n",
       "      <th>m100163</th>\n",
       "      <th>m100194</th>\n",
       "      <th>...</th>\n",
       "      <th>m99750</th>\n",
       "      <th>m99764</th>\n",
       "      <th>m998</th>\n",
       "      <th>m99813</th>\n",
       "      <th>m99846</th>\n",
       "      <th>m99853</th>\n",
       "      <th>m999</th>\n",
       "      <th>m99910</th>\n",
       "      <th>m99917</th>\n",
       "      <th>m99992</th>\n",
       "    </tr>\n",
       "    <tr>\n",
       "      <th>userId</th>\n",
       "      <th></th>\n",
       "      <th></th>\n",
       "      <th></th>\n",
       "      <th></th>\n",
       "      <th></th>\n",
       "      <th></th>\n",
       "      <th></th>\n",
       "      <th></th>\n",
       "      <th></th>\n",
       "      <th></th>\n",
       "      <th></th>\n",
       "      <th></th>\n",
       "      <th></th>\n",
       "      <th></th>\n",
       "      <th></th>\n",
       "      <th></th>\n",
       "      <th></th>\n",
       "      <th></th>\n",
       "      <th></th>\n",
       "      <th></th>\n",
       "      <th></th>\n",
       "    </tr>\n",
       "  </thead>\n",
       "  <tbody>\n",
       "    <tr>\n",
       "      <th>u1</th>\n",
       "      <td>4.0</td>\n",
       "      <td>0.0</td>\n",
       "      <td>0.0</td>\n",
       "      <td>0.0</td>\n",
       "      <td>0.0</td>\n",
       "      <td>0.0</td>\n",
       "      <td>0.0</td>\n",
       "      <td>0.0</td>\n",
       "      <td>0.0</td>\n",
       "      <td>0.0</td>\n",
       "      <td>...</td>\n",
       "      <td>0.0</td>\n",
       "      <td>0.0</td>\n",
       "      <td>0.0</td>\n",
       "      <td>0.0</td>\n",
       "      <td>0.0</td>\n",
       "      <td>0.0</td>\n",
       "      <td>0.0</td>\n",
       "      <td>0.0</td>\n",
       "      <td>0.0</td>\n",
       "      <td>0.0</td>\n",
       "    </tr>\n",
       "    <tr>\n",
       "      <th>u10</th>\n",
       "      <td>0.0</td>\n",
       "      <td>0.0</td>\n",
       "      <td>0.0</td>\n",
       "      <td>0.0</td>\n",
       "      <td>0.0</td>\n",
       "      <td>0.0</td>\n",
       "      <td>0.0</td>\n",
       "      <td>0.0</td>\n",
       "      <td>0.0</td>\n",
       "      <td>0.0</td>\n",
       "      <td>...</td>\n",
       "      <td>0.0</td>\n",
       "      <td>0.0</td>\n",
       "      <td>0.0</td>\n",
       "      <td>0.0</td>\n",
       "      <td>0.0</td>\n",
       "      <td>0.0</td>\n",
       "      <td>0.0</td>\n",
       "      <td>0.0</td>\n",
       "      <td>0.0</td>\n",
       "      <td>0.0</td>\n",
       "    </tr>\n",
       "    <tr>\n",
       "      <th>u100</th>\n",
       "      <td>0.0</td>\n",
       "      <td>0.0</td>\n",
       "      <td>0.0</td>\n",
       "      <td>0.0</td>\n",
       "      <td>0.0</td>\n",
       "      <td>0.0</td>\n",
       "      <td>0.0</td>\n",
       "      <td>0.0</td>\n",
       "      <td>0.0</td>\n",
       "      <td>0.0</td>\n",
       "      <td>...</td>\n",
       "      <td>0.0</td>\n",
       "      <td>0.0</td>\n",
       "      <td>0.0</td>\n",
       "      <td>0.0</td>\n",
       "      <td>0.0</td>\n",
       "      <td>0.0</td>\n",
       "      <td>0.0</td>\n",
       "      <td>0.0</td>\n",
       "      <td>0.0</td>\n",
       "      <td>0.0</td>\n",
       "    </tr>\n",
       "    <tr>\n",
       "      <th>u101</th>\n",
       "      <td>0.0</td>\n",
       "      <td>0.0</td>\n",
       "      <td>0.0</td>\n",
       "      <td>0.0</td>\n",
       "      <td>0.0</td>\n",
       "      <td>0.0</td>\n",
       "      <td>0.0</td>\n",
       "      <td>0.0</td>\n",
       "      <td>0.0</td>\n",
       "      <td>0.0</td>\n",
       "      <td>...</td>\n",
       "      <td>0.0</td>\n",
       "      <td>0.0</td>\n",
       "      <td>0.0</td>\n",
       "      <td>0.0</td>\n",
       "      <td>0.0</td>\n",
       "      <td>0.0</td>\n",
       "      <td>0.0</td>\n",
       "      <td>0.0</td>\n",
       "      <td>0.0</td>\n",
       "      <td>0.0</td>\n",
       "    </tr>\n",
       "    <tr>\n",
       "      <th>u102</th>\n",
       "      <td>0.0</td>\n",
       "      <td>0.0</td>\n",
       "      <td>0.0</td>\n",
       "      <td>0.0</td>\n",
       "      <td>0.0</td>\n",
       "      <td>0.0</td>\n",
       "      <td>0.0</td>\n",
       "      <td>0.0</td>\n",
       "      <td>0.0</td>\n",
       "      <td>0.0</td>\n",
       "      <td>...</td>\n",
       "      <td>0.0</td>\n",
       "      <td>0.0</td>\n",
       "      <td>0.0</td>\n",
       "      <td>0.0</td>\n",
       "      <td>0.0</td>\n",
       "      <td>0.0</td>\n",
       "      <td>0.0</td>\n",
       "      <td>0.0</td>\n",
       "      <td>0.0</td>\n",
       "      <td>0.0</td>\n",
       "    </tr>\n",
       "    <tr>\n",
       "      <th>...</th>\n",
       "      <td>...</td>\n",
       "      <td>...</td>\n",
       "      <td>...</td>\n",
       "      <td>...</td>\n",
       "      <td>...</td>\n",
       "      <td>...</td>\n",
       "      <td>...</td>\n",
       "      <td>...</td>\n",
       "      <td>...</td>\n",
       "      <td>...</td>\n",
       "      <td>...</td>\n",
       "      <td>...</td>\n",
       "      <td>...</td>\n",
       "      <td>...</td>\n",
       "      <td>...</td>\n",
       "      <td>...</td>\n",
       "      <td>...</td>\n",
       "      <td>...</td>\n",
       "      <td>...</td>\n",
       "      <td>...</td>\n",
       "      <td>...</td>\n",
       "    </tr>\n",
       "    <tr>\n",
       "      <th>u95</th>\n",
       "      <td>0.0</td>\n",
       "      <td>0.0</td>\n",
       "      <td>0.0</td>\n",
       "      <td>0.0</td>\n",
       "      <td>0.0</td>\n",
       "      <td>0.0</td>\n",
       "      <td>0.0</td>\n",
       "      <td>0.0</td>\n",
       "      <td>0.0</td>\n",
       "      <td>0.0</td>\n",
       "      <td>...</td>\n",
       "      <td>0.0</td>\n",
       "      <td>0.0</td>\n",
       "      <td>0.0</td>\n",
       "      <td>0.0</td>\n",
       "      <td>0.0</td>\n",
       "      <td>0.0</td>\n",
       "      <td>0.0</td>\n",
       "      <td>0.0</td>\n",
       "      <td>0.0</td>\n",
       "      <td>0.0</td>\n",
       "    </tr>\n",
       "    <tr>\n",
       "      <th>u96</th>\n",
       "      <td>5.0</td>\n",
       "      <td>0.0</td>\n",
       "      <td>0.0</td>\n",
       "      <td>0.0</td>\n",
       "      <td>0.0</td>\n",
       "      <td>0.0</td>\n",
       "      <td>0.0</td>\n",
       "      <td>0.0</td>\n",
       "      <td>0.0</td>\n",
       "      <td>0.0</td>\n",
       "      <td>...</td>\n",
       "      <td>0.0</td>\n",
       "      <td>0.0</td>\n",
       "      <td>0.0</td>\n",
       "      <td>0.0</td>\n",
       "      <td>0.0</td>\n",
       "      <td>0.0</td>\n",
       "      <td>0.0</td>\n",
       "      <td>0.0</td>\n",
       "      <td>0.0</td>\n",
       "      <td>0.0</td>\n",
       "    </tr>\n",
       "    <tr>\n",
       "      <th>u97</th>\n",
       "      <td>0.0</td>\n",
       "      <td>0.0</td>\n",
       "      <td>0.0</td>\n",
       "      <td>0.0</td>\n",
       "      <td>0.0</td>\n",
       "      <td>0.0</td>\n",
       "      <td>0.0</td>\n",
       "      <td>0.0</td>\n",
       "      <td>0.0</td>\n",
       "      <td>0.0</td>\n",
       "      <td>...</td>\n",
       "      <td>0.0</td>\n",
       "      <td>0.0</td>\n",
       "      <td>0.0</td>\n",
       "      <td>0.0</td>\n",
       "      <td>0.0</td>\n",
       "      <td>0.0</td>\n",
       "      <td>0.0</td>\n",
       "      <td>0.0</td>\n",
       "      <td>0.0</td>\n",
       "      <td>0.0</td>\n",
       "    </tr>\n",
       "    <tr>\n",
       "      <th>u98</th>\n",
       "      <td>4.5</td>\n",
       "      <td>0.0</td>\n",
       "      <td>0.0</td>\n",
       "      <td>0.0</td>\n",
       "      <td>0.0</td>\n",
       "      <td>0.0</td>\n",
       "      <td>0.0</td>\n",
       "      <td>0.0</td>\n",
       "      <td>0.0</td>\n",
       "      <td>0.0</td>\n",
       "      <td>...</td>\n",
       "      <td>0.0</td>\n",
       "      <td>0.0</td>\n",
       "      <td>0.0</td>\n",
       "      <td>0.0</td>\n",
       "      <td>0.0</td>\n",
       "      <td>0.0</td>\n",
       "      <td>0.0</td>\n",
       "      <td>0.0</td>\n",
       "      <td>0.0</td>\n",
       "      <td>0.0</td>\n",
       "    </tr>\n",
       "    <tr>\n",
       "      <th>u99</th>\n",
       "      <td>0.0</td>\n",
       "      <td>4.0</td>\n",
       "      <td>0.0</td>\n",
       "      <td>0.0</td>\n",
       "      <td>0.0</td>\n",
       "      <td>0.0</td>\n",
       "      <td>0.0</td>\n",
       "      <td>0.0</td>\n",
       "      <td>0.0</td>\n",
       "      <td>0.0</td>\n",
       "      <td>...</td>\n",
       "      <td>0.0</td>\n",
       "      <td>0.0</td>\n",
       "      <td>0.0</td>\n",
       "      <td>0.0</td>\n",
       "      <td>0.0</td>\n",
       "      <td>0.0</td>\n",
       "      <td>0.0</td>\n",
       "      <td>0.0</td>\n",
       "      <td>0.0</td>\n",
       "      <td>0.0</td>\n",
       "    </tr>\n",
       "  </tbody>\n",
       "</table>\n",
       "<p>610 rows × 9724 columns</p>\n",
       "</div>"
      ],
      "text/plain": [
       "movieId   m1  m10  m100  m100044  m100068  m100083  m100106  m100159  m100163  \\\n",
       "userId                                                                          \n",
       "u1       4.0  0.0   0.0      0.0      0.0      0.0      0.0      0.0      0.0   \n",
       "u10      0.0  0.0   0.0      0.0      0.0      0.0      0.0      0.0      0.0   \n",
       "u100     0.0  0.0   0.0      0.0      0.0      0.0      0.0      0.0      0.0   \n",
       "u101     0.0  0.0   0.0      0.0      0.0      0.0      0.0      0.0      0.0   \n",
       "u102     0.0  0.0   0.0      0.0      0.0      0.0      0.0      0.0      0.0   \n",
       "...      ...  ...   ...      ...      ...      ...      ...      ...      ...   \n",
       "u95      0.0  0.0   0.0      0.0      0.0      0.0      0.0      0.0      0.0   \n",
       "u96      5.0  0.0   0.0      0.0      0.0      0.0      0.0      0.0      0.0   \n",
       "u97      0.0  0.0   0.0      0.0      0.0      0.0      0.0      0.0      0.0   \n",
       "u98      4.5  0.0   0.0      0.0      0.0      0.0      0.0      0.0      0.0   \n",
       "u99      0.0  4.0   0.0      0.0      0.0      0.0      0.0      0.0      0.0   \n",
       "\n",
       "movieId  m100194  ...  m99750  m99764  m998  m99813  m99846  m99853  m999  \\\n",
       "userId            ...                                                       \n",
       "u1           0.0  ...     0.0     0.0   0.0     0.0     0.0     0.0   0.0   \n",
       "u10          0.0  ...     0.0     0.0   0.0     0.0     0.0     0.0   0.0   \n",
       "u100         0.0  ...     0.0     0.0   0.0     0.0     0.0     0.0   0.0   \n",
       "u101         0.0  ...     0.0     0.0   0.0     0.0     0.0     0.0   0.0   \n",
       "u102         0.0  ...     0.0     0.0   0.0     0.0     0.0     0.0   0.0   \n",
       "...          ...  ...     ...     ...   ...     ...     ...     ...   ...   \n",
       "u95          0.0  ...     0.0     0.0   0.0     0.0     0.0     0.0   0.0   \n",
       "u96          0.0  ...     0.0     0.0   0.0     0.0     0.0     0.0   0.0   \n",
       "u97          0.0  ...     0.0     0.0   0.0     0.0     0.0     0.0   0.0   \n",
       "u98          0.0  ...     0.0     0.0   0.0     0.0     0.0     0.0   0.0   \n",
       "u99          0.0  ...     0.0     0.0   0.0     0.0     0.0     0.0   0.0   \n",
       "\n",
       "movieId  m99910  m99917  m99992  \n",
       "userId                           \n",
       "u1          0.0     0.0     0.0  \n",
       "u10         0.0     0.0     0.0  \n",
       "u100        0.0     0.0     0.0  \n",
       "u101        0.0     0.0     0.0  \n",
       "u102        0.0     0.0     0.0  \n",
       "...         ...     ...     ...  \n",
       "u95         0.0     0.0     0.0  \n",
       "u96         0.0     0.0     0.0  \n",
       "u97         0.0     0.0     0.0  \n",
       "u98         0.0     0.0     0.0  \n",
       "u99         0.0     0.0     0.0  \n",
       "\n",
       "[610 rows x 9724 columns]"
      ]
     },
     "execution_count": 6,
     "metadata": {},
     "output_type": "execute_result"
    }
   ],
   "source": [
    "r_df_matrix = ratings_df.pivot_table(index='userId', columns='movieId', values='rating').fillna(0)\n",
    "r_df_matrix"
   ]
  },
  {
   "cell_type": "markdown",
   "metadata": {
    "id": "SpJXEqQ_BKxg"
   },
   "source": [
    "The left hand bold column is the [index of the dataframe](https://pandas.pydata.org/pandas-docs/stable/user_guide/indexing.html) - that is, an attribute of the dataframe that allows fast lookup of rows. In this case, userId has become our index column.\n",
    "\n",
    "You can get all the index of users using the .index"
   ]
  },
  {
   "cell_type": "code",
   "execution_count": 7,
   "metadata": {
    "id": "RRIXYwQgBRt2"
   },
   "outputs": [
    {
     "data": {
      "text/plain": [
       "Index(['u1', 'u10', 'u100', 'u101', 'u102', 'u103', 'u104', 'u105', 'u106',\n",
       "       'u107',\n",
       "       ...\n",
       "       'u90', 'u91', 'u92', 'u93', 'u94', 'u95', 'u96', 'u97', 'u98', 'u99'],\n",
       "      dtype='object', name='userId', length=610)"
      ]
     },
     "execution_count": 7,
     "metadata": {},
     "output_type": "execute_result"
    }
   ],
   "source": [
    "r_df_matrix.index"
   ]
  },
  {
   "cell_type": "markdown",
   "metadata": {
    "id": "y8RcZo1bBU8O"
   },
   "source": [
    "You can also use [.loc](https://pandas.pydata.org/pandas-docs/stable/reference/api/pandas.DataFrame.loc.html) to access rows, by their \"index\". For instance, we can get all ratings of a specific user with userId=‘u1’."
   ]
  },
  {
   "cell_type": "code",
   "execution_count": 8,
   "metadata": {
    "id": "77XOSOdqBXmw"
   },
   "outputs": [
    {
     "data": {
      "text/plain": [
       "movieId\n",
       "m1         4.0\n",
       "m10        0.0\n",
       "m100       0.0\n",
       "m100044    0.0\n",
       "m100068    0.0\n",
       "          ... \n",
       "m99853     0.0\n",
       "m999       0.0\n",
       "m99910     0.0\n",
       "m99917     0.0\n",
       "m99992     0.0\n",
       "Name: u1, Length: 9724, dtype: float64"
      ]
     },
     "execution_count": 8,
     "metadata": {},
     "output_type": "execute_result"
    }
   ],
   "source": [
    "r_df_matrix.loc['u1']"
   ]
  },
  {
   "cell_type": "markdown",
   "metadata": {
    "id": "cljwm-QyZy6i"
   },
   "source": [
    "## Task 0 - Matrix Analysis\n",
    "\n",
    "This task is concerned with examining `r_df_matrix`. Lets define *density* as the percentage of the matrix that that has been filled in (i.e. contains user interactions). How dense is `r_df_matrix`? Express your answer as a percentage (in range 0 to 100), rounded to 2 decimal places.\n",
    "\n",
    "Hints:\n",
    " - You can obtain a Numpy tensor using from a DataFrame `.to_numpy()` if you prefer\n",
    " - Similarly, you can ask for the `.shape` of a dataframe"
   ]
  },
  {
   "cell_type": "code",
   "execution_count": 9,
   "metadata": {
    "id": "d8XScXBN0C2b"
   },
   "outputs": [
    {
     "data": {
      "text/plain": [
       "1.7"
      ]
     },
     "execution_count": 9,
     "metadata": {},
     "output_type": "execute_result"
    }
   ],
   "source": [
    "np_r_matrix = r_df_matrix.to_numpy()\n",
    "no_elements = np.prod(np_r_matrix.shape)\n",
    "non_zero = np.count_nonzero(r_df_matrix)\n",
    "density = (non_zero / no_elements) * 100\n",
    "\n",
    "float(\"{:.2f}\".format(density))"
   ]
  },
  {
   "cell_type": "markdown",
   "metadata": {
    "id": "Rt9_SlC4Beut"
   },
   "source": [
    "User-based CF heavily relies upon Cosine similarity. We are providing a Cosine similarity implementation based on numpy operations. We also show how to use `df.loc` to get all the ratings of a given user from `r_df_matrix` as a Series - we then make this into a numpy array using the [.values](https://pandas.pydata.org/docs/reference/api/pandas.Series.values.html) property.\n"
   ]
  },
  {
   "cell_type": "code",
   "execution_count": 10,
   "metadata": {
    "id": "9NXXbCQsBbJW"
   },
   "outputs": [
    {
     "name": "stdout",
     "output_type": "stream",
     "text": [
      "Cosine similarity between userId=1 and itself is:\n",
      "1.0\n",
      "Cosine similarity between userId=1 and userId=607 is:\n",
      "0.2693892401115333\n"
     ]
    }
   ],
   "source": [
    "from numpy.linalg import norm\n",
    "from numpy import dot\n",
    "\n",
    "def cos_sim(a, b):\n",
    "  return dot(a, b)/(norm(a)*norm(b))\n",
    "\n",
    "print('Cosine similarity between userId=1 and itself is:')\n",
    "print(cos_sim(r_df_matrix.loc['u1'].values, r_df_matrix.loc['u1'].values))\n",
    "\n",
    "print('Cosine similarity between userId=1 and userId=607 is:')\n",
    "print(cos_sim(r_df_matrix.loc['u1'].values, r_df_matrix.loc['u607'].values))"
   ]
  },
  {
   "cell_type": "markdown",
   "metadata": {
    "id": "B061AiTiBlWJ"
   },
   "source": [
    "## Task 1. Get the most similar users.\n",
    "\n",
    "User-based CF is based on user-neighbourhoods. In this task, you will implement a function ` get_most_similar_users(userId : str, k : int = 10)` that will identify the userIds of the k most similar users to the specified userId, and their corresponding cosine similarities.\n",
    "\n",
    "In determining the most similar users, you should break ties based on their position in the array - for instance, if two users are tied as 2nd most similar user, the user who appears earlier should be 2nd, and the latter user third.\n",
    "\n",
    "You should exclude the compared user itself when generating a list of the most similar users.\n",
    "\n",
    "NB: We are using Python type hints to remind you what the function parameters (`str`, `int`) and return type (`Tuple[Sequence[str], Sequence[float]]`) should be.\n",
    "\n",
    "Hints:\n",
    " - The `cos_sim` function should be used here.\n",
    " - Higher `cos_sim` means more similar.\n",
    " - Try SciPy's [`rankdata()`](https://docs.scipy.org/doc/scipy/reference/generated/scipy.stats.rankdata.html) function. Given an array, `rankdata()` tells you positions in sorted rank order. For instance:\n",
    "```\n",
    ">>> rankdata([5.9, 2.1, 4.3])\n",
    "array([3., 1., 2.])\n",
    "```\n",
    "It also has support for addressing ties.\n",
    " - The first return component of [np.nonzero](https://numpy.org/doc/stable/reference/generated/numpy.nonzero.html) can be used to return the indices of the elements that are non-zero. E.g.\n",
    " ```\n",
    " >>> np.array([True,False]).nonzero()[0]\n",
    "array([0])\n",
    "```\n"
   ]
  },
  {
   "cell_type": "code",
   "execution_count": 11,
   "metadata": {
    "id": "rj1wpnS7BbMF"
   },
   "outputs": [
    {
     "name": "stdout",
     "output_type": "stream",
     "text": [
      "(['u3'], [1.0000000000000002])\n"
     ]
    }
   ],
   "source": [
    "from scipy.stats import rankdata\n",
    "\n",
    "def get_most_similar_users(userId : str, k : int = 10) -> Tuple[Sequence[str], Sequence[float]]:\n",
    "    all_user_ids = r_df_matrix.index\n",
    "    all_similarity = np.array([cos_sim(r_df_matrix.loc[userId].values, r_df_matrix.loc[u].values) for u in all_user_ids])\n",
    "    ranked_users = rankdata(-all_similarity, method='ordinal')\n",
    "\n",
    "    ranked_collected = sorted([(x,y,z) for x,y,z in zip(all_user_ids, all_similarity, ranked_users)], key=lambda x: x[2])\n",
    "    topk_userids = [u for (u, _, _) in ranked_collected[:k]] # a list/numpy array of k userIds of top-k users\n",
    "    topk_cosines = [sim for (_, sim, _) in ranked_collected[:k]]  # a list/numpy array of k cosine similarity values\n",
    "    return (topk_userids, topk_cosines)\n",
    "\n",
    "print(get_most_similar_users(userId='u3', k=1))"
   ]
  },
  {
   "cell_type": "markdown",
   "metadata": {
    "id": "Z3jnW2BCAIWR"
   },
   "source": [
    "You can now answer the questions corresponding to Task 1 in the quiz."
   ]
  },
  {
   "cell_type": "code",
   "execution_count": 12,
   "metadata": {
    "id": "-9VnyzFLDtmN"
   },
   "outputs": [
    {
     "name": "stdout",
     "output_type": "stream",
     "text": [
      "(['u10'], [1.0000000000000002])\n"
     ]
    }
   ],
   "source": [
    "print(get_most_similar_users(userId='u10', k=1))"
   ]
  },
  {
   "cell_type": "code",
   "execution_count": 13,
   "metadata": {
    "id": "UVnsPTKjzqnD"
   },
   "outputs": [
    {
     "name": "stdout",
     "output_type": "stream",
     "text": [
      "(['u10', 'u159', 'u143', 'u563', 'u177', 'u189', 'u509', 'u491', 'u466', 'u68'], [1.0000000000000002, 0.28826463078187997, 0.27390191686998816, 0.26435888836066573, 0.24630531416437682, 0.231226587055978, 0.2223185977186839, 0.21911658202133055, 0.21636146879454135, 0.21520808397031388])\n"
     ]
    }
   ],
   "source": [
    "print(get_most_similar_users(userId='u10', k=10))"
   ]
  },
  {
   "cell_type": "code",
   "execution_count": 14,
   "metadata": {
    "id": "PIMwvzqJ2YuE"
   },
   "outputs": [
    {
     "name": "stdout",
     "output_type": "stream",
     "text": [
      "(['u500', 'u453'], [0.9999999999999998, 0.27983214052930266])\n"
     ]
    }
   ],
   "source": [
    "print(get_most_similar_users(userId='u500', k=2))"
   ]
  },
  {
   "cell_type": "markdown",
   "metadata": {
    "id": "t9ZepSCnBwc7"
   },
   "source": [
    "## Task 2. Predict ratings via user-based CF.\n",
    "\n",
    "Now you should implement your user-based CF, within a `predict_rating()` function. The aim of this function is to predict the rating of a given userId for a given itemId.\n",
    "\n",
    "Your implementation should make use of your `get_most_similar_users()` implementation above, using k=10 nearest neighbours.\n",
    "- **If a neighbour has not rated a movie (e.g. rating = 0), you should skip that neighbour.**\n",
    "- **If you are unable to make a predicted rating, you should return 0.**\n",
    "\n",
    "Hint:\n",
    " - You may wish to revise user-based CF from Lecture 4."
   ]
  },
  {
   "cell_type": "code",
   "execution_count": 15,
   "metadata": {
    "id": "0eX33RkTBbS2"
   },
   "outputs": [
    {
     "name": "stdout",
     "output_type": "stream",
     "text": [
      "Predicted rating: 3.924030069508468\n",
      "Actual rating: 4.0\n"
     ]
    }
   ],
   "source": [
    "def predict_rating(userId : str, movieId : str) -> float:\n",
    "    sim_users = get_most_similar_users(userId, k=10)\n",
    "    zipped_sims = {u:score for u, score in zip(*sim_users)}\n",
    "    users = [*zipped_sims]\n",
    "    ratings = r_df_matrix[movieId][users]\n",
    "\n",
    "    nonzero_ratings = ratings[ratings != 0]\n",
    "    nonzero_similarities = np.array([zipped_sims[u] for u in nonzero_ratings.index])\n",
    "    \n",
    "    sum_weighted = (nonzero_similarities * nonzero_ratings).sum()\n",
    "    scores_sum = np.abs(nonzero_similarities).sum()\n",
    "    \n",
    "    predicted = sum_weighted / scores_sum # predicted rating value\n",
    "    return predicted\n",
    "\n",
    "print(\"Predicted rating:\", predict_rating(userId='u1', movieId='m1'))\n",
    "\n",
    "print(\"Actual rating:\", r_df_matrix.loc['u1']['m1'])"
   ]
  },
  {
   "cell_type": "markdown",
   "metadata": {
    "id": "xuWLuAZzB9br"
   },
   "source": [
    "You can complete answering the quiz questions for Task 2."
   ]
  },
  {
   "cell_type": "markdown",
   "metadata": {
    "id": "CqfUghVsCA7G"
   },
   "source": [
    "## Task 3. Predict ratings via user-based CF with Mean-center normalisation.\n",
    "\n",
    "Users usually rate differently: (1) some rate high, while others low. (2) Some use more of the scale than others. However, the user-based CF we implemented above ignores these differences. To this end, we can apply normalisation to compensate. In this task, you will implement user-based CF with Mean-Center Normalisation.\n",
    "\n",
    "Provide implementations for `mean_rating(userId : str)` and `predict_rating_MC(userId : str, movieId : str)`.\n",
    "\n",
    "Hints:\n",
    "- See lecture 4 about user-based CF with Mean-center normalisation.\n",
    "- Check if the predicted rating for a given user makes sense (i.e. what did the user rate before)?"
   ]
  },
  {
   "cell_type": "code",
   "execution_count": 16,
   "metadata": {
    "id": "-Q5Efb4zB5_O"
   },
   "outputs": [
    {
     "name": "stdout",
     "output_type": "stream",
     "text": [
      "Mean rating of user u5: 3.6363636363636362\n",
      "Predicted rating: 4.517936560686198\n",
      "Actual rating: 4.0\n"
     ]
    }
   ],
   "source": [
    "def mean_rating(userId : str) -> float:\n",
    "    user_row = r_df_matrix.loc[userId]\n",
    "    mean_rating = user_row[user_row != 0].mean() # mean-centering value\n",
    "    return mean_rating\n",
    "\n",
    "print(\"Mean rating of user u5:\", mean_rating('u5') )\n",
    "\n",
    "def predict_rating_MC(userId : str, movieId : str) -> float:\n",
    "    r_target_mean = mean_rating(userId)\n",
    "    \n",
    "    sim_users = get_most_similar_users(userId, k=10)\n",
    "    zipped_sims = {u:score for u, score in zip(*sim_users)}\n",
    "    users = [*zipped_sims]\n",
    "    ratings = r_df_matrix[movieId][users]\n",
    "\n",
    "    nonzero_ratings = ratings[ratings != 0]\n",
    "    nonzero_neighbour_means = [mean_rating(u) for u in nonzero_ratings.index]\n",
    "    centralised_ratings = nonzero_ratings - nonzero_neighbour_means\n",
    "    \n",
    "    nonzero_similarities = np.array([zipped_sims[u] for u in nonzero_ratings.index])\n",
    "    scores_sum = np.abs(nonzero_similarities).sum()\n",
    "    \n",
    "    sum_weighted = (nonzero_similarities * centralised_ratings).sum()\n",
    "    \n",
    "    predicted = r_target_mean + (sum_weighted / scores_sum)\n",
    "    return predicted\n",
    "\n",
    "print(\"Predicted rating:\", predict_rating_MC('u1', 'm1'))\n",
    "print(\"Actual rating:\", r_df_matrix.loc['u1']['m1'])"
   ]
  },
  {
   "cell_type": "markdown",
   "metadata": {
    "id": "VApK70ld1tQ_"
   },
   "source": [
    "Now answer the questions for Task 3 in the quiz."
   ]
  },
  {
   "cell_type": "markdown",
   "metadata": {
    "id": "ZN_OpdQYHmTb"
   },
   "source": [
    "# Part B - Explicit Matrix Factorisation using Spotlight"
   ]
  },
  {
   "cell_type": "markdown",
   "metadata": {
    "id": "17h6DqmGGh2f"
   },
   "source": [
    "In this part, we will investigate explicit matrix factorisation."
   ]
  },
  {
   "cell_type": "markdown",
   "metadata": {
    "id": "L0oobMGk5eqv"
   },
   "source": [
    "We're going to use the Spotlight library - see https://github.com/maciejkula/spotlight - and its documentation at https://maciejkula.github.io/spotlight/\n",
    "\n",
    "You can install this direct from Git, but using Craig's patched version as done below.\n"
   ]
  },
  {
   "cell_type": "code",
   "execution_count": 17,
   "metadata": {
    "id": "cDObURPI-Shz"
   },
   "outputs": [],
   "source": [
    "# !pip install git+https://github.com/cmacdonald/spotlight.git@master#egg=spotlight"
   ]
  },
  {
   "cell_type": "markdown",
   "metadata": {
    "id": "Nqoiteq7IJzJ"
   },
   "source": [
    "Now we can get onto some real recommendation work. Spotlight has a handy [Interactions](https://maciejkula.github.io/spotlight/interactions.html) object, which encapsulates the basics of a recommendation dataset.\n",
    "\n",
    "In fact, there are handy loaders for a few standard datasets including MovieLens, but let's make our own, so that we can match back to the dataframe.\n",
    "\n",
    "Interactions need *numbers* to uniquely identify each item and user. Unfortunately, our MovieLens uses numbers, but these aren't consecutive (i.e. we have missing movieIds values). They are also strings (i.e. movieIds start with \"m\" and userIds start with \"u\").\n",
    "\n",
    "Hence, for both movies and users, we have to assign numbers that start from 0. We will call these **iids** and **uids**.\n",
    "\n",
    "We use [defaultdict](https://docs.python.org/3/library/collections.html#collections.defaultdict) to convert the MovieLens strings down to consecutive integers for use in Spotlight, in the `uid_map` and `iid_map` objects. We'll keep the reverse mapping around too, in case we want to lookup the actual movieId given the uid recorded by Spotlight (etc).\n",
    "\n",
    "*NB*: This is a *really* important concept to understand. Put simply, WE -- as humans -- deal with external representations (userId, movieId, in this dataset prefixed with \"u\" and \"m\" respectively). On the other hand, Spotlight can only deal with integers starting from 0 for both items and users (we call these \"iids\" and \"uids\")."
   ]
  },
  {
   "cell_type": "code",
   "execution_count": 18,
   "metadata": {
    "id": "oF89PzxNHrHq"
   },
   "outputs": [
    {
     "name": "stdout",
     "output_type": "stream",
     "text": [
      "610 users 9724 item\n"
     ]
    }
   ],
   "source": [
    "from collections import defaultdict\n",
    "from itertools import count\n",
    "\n",
    "#create userId -> uid mapping dictionary. the next assigned value is the current size.\n",
    "uid_map = defaultdict(count().__next__)\n",
    "#ditto for movieId -> iid\n",
    "iid_map = defaultdict(count().__next__)\n",
    "\n",
    "#uids is an array of integers corresponding to the userId for every row in ratings_df\n",
    "#uid_map does the assignment of new uid values, or reusing the uid value assigned for\n",
    "#each userId\n",
    "uids = np.array([uid_map[uid] for uid in ratings_df[\"userId\"].values], dtype=np.int32)\n",
    "#similar for iids\n",
    "iids = np.array([iid_map[iid] for iid in ratings_df[\"movieId\"].values], dtype=np.int32)\n",
    "\n",
    "#freeze uid_map and iid_map so no more mapping are created\n",
    "uid_map.default_factory = None\n",
    "iid_map.default_factory = None\n",
    "\n",
    "uid_rev_map = {v: k for k, v in uid_map.items()}\n",
    "iid_rev_map = {v: k for k, v in iid_map.items()}\n",
    "num_items = len(iid_map)\n",
    "num_users = len(uid_map)\n",
    "\n",
    "print(\"%d users %d item\" % (num_users, num_items))\n",
    "\n",
    "ratings = ratings_df[\"rating\"].values.astype(np.float32)\n",
    "timestamps = ratings_df[\"timestamp\"].values.astype(np.int32)"
   ]
  },
  {
   "cell_type": "markdown",
   "metadata": {
    "id": "q6pN0txDDPqL"
   },
   "source": [
    "To be clear, `uid_map` and `iid_map` are just dictionaries - you can use them to lookup the uid (iid) assigned to a given user (movie).\n",
    "\n",
    "Similarly, `uid_rev_map` (`iid_rev_map`) can be used to recover the userId (movieId) for a given uid (iid)."
   ]
  },
  {
   "cell_type": "code",
   "execution_count": 19,
   "metadata": {
    "id": "34mX05BkDO9o"
   },
   "outputs": [
    {
     "name": "stdout",
     "output_type": "stream",
     "text": [
      "userId u556 got uid 555\n",
      "movieId m54001 got iid 2518\n"
     ]
    }
   ],
   "source": [
    "print(\"userId %s got uid %d\" % (\"u556\", uid_map[\"u556\"]))\n",
    "print(\"movieId %s got iid %d\" % (\"m54001\", iid_map[\"m54001\"]))"
   ]
  },
  {
   "cell_type": "markdown",
   "metadata": {
    "id": "Lrhni5wSX7QP"
   },
   "source": [
    "Furthemore, we will use user u556 as one of our illustrative users. You will remember from Exercise 1 that they rated a number of fantasy movies highly.\n",
    "\n"
   ]
  },
  {
   "cell_type": "markdown",
   "metadata": {
    "id": "hDwZYy2xY3-D"
   },
   "source": [
    "## On towards Matrix Factorisation (MF)"
   ]
  },
  {
   "cell_type": "markdown",
   "metadata": {
    "id": "gMejAIwPNVrU"
   },
   "source": [
    "Now let's build a Spotlight [Interactions](https://maciejkula.github.io/spotlight/interactions.html) object. This contains everything that Spotlight needs to train a model. We can split it up randomly into train and test subsets\n",
    "\n",
    "NB: we use a SEED (20) to make our results reproducible."
   ]
  },
  {
   "cell_type": "code",
   "execution_count": 20,
   "metadata": {
    "id": "cg2tNWwPIBfu"
   },
   "outputs": [],
   "source": [
    "from spotlight.interactions import Interactions\n",
    "from spotlight.cross_validation import random_train_test_split\n",
    "\n",
    "dataset = Interactions(user_ids=uids,\n",
    "                                  item_ids=iids,\n",
    "                                  ratings=ratings,\n",
    "                                  timestamps=timestamps)\n",
    "\n",
    "#lets initialise the seed, so that its repeatable and reproducible\n",
    "train_valid, test = random_train_test_split(dataset, random_state=np.random.RandomState(SEED))\n",
    "train, valid = random_train_test_split(train_valid, random_state=np.random.RandomState(SEED))"
   ]
  },
  {
   "cell_type": "markdown",
   "metadata": {
    "id": "1shoeRmWKXxS"
   },
   "source": [
    "Let's see how big the two datasets are. What is the train/test split percentage size?"
   ]
  },
  {
   "cell_type": "code",
   "execution_count": 21,
   "metadata": {
    "cellView": "code",
    "id": "XcjOWJ-qIEge"
   },
   "outputs": [
    {
     "name": "stdout",
     "output_type": "stream",
     "text": [
      "<Interactions dataset (610 users x 9724 items x 64534 interactions)>\n",
      "<Interactions dataset (610 users x 9724 items x 16134 interactions)>\n",
      "<Interactions dataset (610 users x 9724 items x 20168 interactions)>\n"
     ]
    }
   ],
   "source": [
    "# 64/16/20 Train/test/split\n",
    "print(train)\n",
    "print(valid)\n",
    "print(test)"
   ]
  },
  {
   "cell_type": "markdown",
   "metadata": {
    "id": "RBnevuHnT57k"
   },
   "source": [
    "Here, you can see that following the collaborative filtering task model (see Lecture 6), all users, and all items, are present in both training and test sets."
   ]
  },
  {
   "cell_type": "markdown",
   "metadata": {
    "id": "aTyhLswNulTX"
   },
   "source": [
    "Now, you can think of the Interaction objects are being the partitions of the rating matrix. But we don't store it as a single big matrix. Instead, we record three one-dimensional arrays:\n",
    "\n",
    "  * one for the ids of the users\n",
    "  * one for the ids of the items\n",
    "  * one for the actual rating values.\n",
    "\n",
    "Each of these arrays is the size of the number of ratings (64534 for the training set).\n",
    "\n",
    "In essence, Interactions is a sparse matrix - for each rating, we record its x and y position, as well as the rating itself.\n"
   ]
  },
  {
   "cell_type": "code",
   "execution_count": 22,
   "metadata": {
    "id": "74iQtBOoUZJ1"
   },
   "outputs": [
    {
     "name": "stdout",
     "output_type": "stream",
     "text": [
      "(64534,)\n",
      "(64534,)\n",
      "(64534,)\n"
     ]
    }
   ],
   "source": [
    "print(train.item_ids.shape)\n",
    "print(train.user_ids.shape)\n",
    "print(train.ratings.shape)"
   ]
  },
  {
   "cell_type": "markdown",
   "metadata": {
    "id": "2V9Hx3dhUjI1"
   },
   "source": [
    "For instance, let's look at the first rating:"
   ]
  },
  {
   "cell_type": "code",
   "execution_count": 23,
   "metadata": {
    "id": "sz46dNMkUrCC"
   },
   "outputs": [
    {
     "name": "stdout",
     "output_type": "stream",
     "text": [
      "uid 304 gave iid 763 a rating of 3\n"
     ]
    }
   ],
   "source": [
    "print(\"uid %d gave iid %d a rating of %d\" % (train.user_ids[0], train.item_ids[0],train.ratings[0]))"
   ]
  },
  {
   "cell_type": "markdown",
   "metadata": {
    "id": "V4R1mQgSUZ86"
   },
   "source": [
    "Let's take our favourite fantasy adventure fan from Exercise 1, userId u556. We can give a look at their training ratings:"
   ]
  },
  {
   "cell_type": "code",
   "execution_count": 24,
   "metadata": {
    "id": "47QmgWtYvM4u"
   },
   "outputs": [
    {
     "name": "stdout",
     "output_type": "stream",
     "text": [
      "[1938  322 1925  779 1342 6082  770  764 8659 4796  912 1894 1893 2518\n",
      " 3258 2059 1077  457  926 3087 1132 1182  774 5989 1307]\n",
      "[4.5 5.  5.  4.  4.  4.  4.  4.  4.  4.  2.5 3.5 4.  4.  4.  4.  5.  5.\n",
      " 4.  4.  4.  4.  4.  4.  4. ]\n"
     ]
    }
   ],
   "source": [
    "# map userId to the internal uid value\n",
    "userId = \"u556\"\n",
    "uid = uid_map.get(userId)\n",
    "\n",
    "# see which ratings are for this user. Use this to filter the item and ratings arrays.\n",
    "# here we are filtering a numpy array based on an array of True/False values. Its just\n",
    "# like filtering a Pandas data frame.\n",
    "print(train.item_ids[train.user_ids == uid])\n",
    "print(train.ratings[train.user_ids == uid])"
   ]
  },
  {
   "cell_type": "markdown",
   "metadata": {
    "id": "RhnKAa-KKclT"
   },
   "source": [
    "We can now learn a model. Let's start with a matrix factorisation for explicit data.  We train the model using the `fit` method. This is just like the `fit` in Sklearn - we're fitting  a model to the specified training data.\n",
    "\n",
    "This might take upto a minute.\n",
    "\n",
    "**NB:**  Spotlight can support using GPUs which we could use to slightly speed up training time, but that will make our life more difficult later on, so let's ignore this for now."
   ]
  },
  {
   "cell_type": "code",
   "execution_count": 25,
   "metadata": {
    "id": "UduCmnlbKt-O"
   },
   "outputs": [
    {
     "name": "stdout",
     "output_type": "stream",
     "text": [
      "Epoch 0: loss 5.034930914287039\n",
      "Epoch 1: loss 0.8732232211135593\n",
      "Epoch 2: loss 0.5403005854178794\n",
      "Epoch 3: loss 0.3673862819615089\n",
      "Epoch 4: loss 0.2787941931618061\n",
      "Epoch 5: loss 0.22817172398680283\n",
      "Epoch 6: loss 0.20108142607061288\n",
      "Epoch 7: loss 0.18570958563814993\n",
      "Epoch 8: loss 0.17749795762328763\n",
      "Epoch 9: loss 0.1713071639240966\n",
      "Training took 4 seconds \n"
     ]
    }
   ],
   "source": [
    "from spotlight.factorization.explicit import ExplicitFactorizationModel\n",
    "import time\n",
    "\n",
    "emodel = ExplicitFactorizationModel(n_iter=10,\n",
    "                                    embedding_dim=32, #this is Spotlight default\n",
    "                                    use_cuda=False,\n",
    "                                    random_state=np.random.RandomState(SEED) # ensure results are repeatable\n",
    ")\n",
    "current = time.time()\n",
    "\n",
    "emodel.fit(train, verbose=True)\n",
    "\n",
    "end = time.time()\n",
    "diff = end - current\n",
    "print(\"Training took %d seconds \"% (diff))"
   ]
  },
  {
   "cell_type": "markdown",
   "metadata": {
    "id": "cTTK1BlbLL_t"
   },
   "source": [
    "How well did we do. Well, let's give a look at the recommentations, for our specific user, userId u556.\n",
    "\n"
   ]
  },
  {
   "cell_type": "code",
   "execution_count": 26,
   "metadata": {
    "id": "zjyVPjoGLoy6"
   },
   "outputs": [
    {
     "name": "stdout",
     "output_type": "stream",
     "text": [
      "One test item_id for userId u556 (uid 555) is \n",
      "Test movieId is m74530 iid 8141 \n",
      "Predicted rating for 'Percy Jackson & the Olympians: The Lightning Thief (2010)' was 2.315959, actual rating 3.5, error was 1.184041\n"
     ]
    }
   ],
   "source": [
    "userId = \"u556\"\n",
    "\n",
    "# convert the string to the internal integer\n",
    "uid = uid_map.get(userId)\n",
    "print(\"One test item_id for userId %s (uid %d) is \" % (userId, uid))\n",
    "\n",
    "# pick one rating that the user made\n",
    "testItemId = test.item_ids[test.user_ids == uid][0]\n",
    "print(\"Test movieId is %s iid %d \" % (iid_rev_map.get(testItemId), testItemId ) )\n",
    "\n",
    "\n",
    "#here 0 is a dummy item, which Spotlight needs for some reason...\n",
    "#we discard its prediction using [1]\n",
    "predicted = emodel.predict( np.array([uid]), item_ids=np.array([0, testItemId]) )[1]\n",
    "\n",
    "#what was the actual score of the user for that movie?\n",
    "#we can get the appropriate row from the ratings dataframe, then extract that value\n",
    "actual = ratings_df[(ratings_df.movieId==iid_rev_map.get(testItemId)) & (ratings_df.userId==userId)][\"rating\"].values[0]\n",
    "\n",
    "\n",
    "def getMovieTitle(iid):\n",
    "  return movies_df[movies_df['movieId'] == iid_rev_map.get(iid)][\"title\"].values[0]\n",
    "\n",
    "print(\"Predicted rating for '%s' was %f, actual rating %0.1f, error was %f\" % (getMovieTitle(testItemId), predicted, actual, abs(predicted-actual) ))\n"
   ]
  },
  {
   "cell_type": "markdown",
   "metadata": {
    "id": "zWdWW8QhacOw"
   },
   "source": [
    "So this is interesting - while we saw above that the users liked fantasy movies, we predicted a rating of $\\sim 2.5$, but the user gave this particular movie a 3.5."
   ]
  },
  {
   "cell_type": "markdown",
   "metadata": {
    "id": "BgX01Wwlr_WA"
   },
   "source": [
    "We can also ask for **all** of the recommendations for a given user:"
   ]
  },
  {
   "cell_type": "code",
   "execution_count": 27,
   "metadata": {
    "id": "fz28wrmIsDa-"
   },
   "outputs": [
    {
     "name": "stdout",
     "output_type": "stream",
     "text": [
      "[5.4031386  3.4226942  4.7912664  ... 0.68542576 2.3689246  0.5659468 ]\n",
      "9724\n",
      "2.3159587\n",
      "True\n"
     ]
    }
   ],
   "source": [
    "allpreds = emodel.predict( np.array([uid]) )\n",
    "\n",
    "print(allpreds)\n",
    "print(allpreds.size)\n",
    "\n",
    "#we can recover the original rating for our test item\n",
    "print(allpreds[testItemId])\n",
    "\n",
    "# lets just check we got the correct prediction\n",
    "print(allpreds[testItemId] - actual < 0.1)"
   ]
  },
  {
   "cell_type": "markdown",
   "metadata": {
    "id": "d25P7AtBPgXS"
   },
   "source": [
    "## Latent Factors aka Embeddings"
   ]
  },
  {
   "cell_type": "markdown",
   "metadata": {
    "id": "RyL5EG65TuNo"
   },
   "source": [
    "Let's see how these recommendations are made. Remember from Lecture 8 that the prediction is made based on the dot product of the user's and item's latent factors (also know as \"embeddings\").\n",
    "\n",
    "We can access these embeddings directly from the emodel object. Each embedding has 32 dimensions, which is what we set when configuring Spotlight's Explicit Factorisation Model."
   ]
  },
  {
   "cell_type": "code",
   "execution_count": 28,
   "metadata": {
    "cellView": "both",
    "id": "Jf2Em9KSa74G"
   },
   "outputs": [
    {
     "name": "stdout",
     "output_type": "stream",
     "text": [
      "torch.Size([32])\n"
     ]
    },
    {
     "data": {
      "text/plain": [
       "tensor([-0.0385, -0.1905, -0.2976, -0.3063,  0.2254, -0.1742,  0.4697, -0.2393,\n",
       "        -0.1647,  0.4645, -0.3895,  0.4076, -0.6497,  0.3425,  0.4773, -0.4532,\n",
       "        -0.2661,  0.4869, -0.3479, -0.8201,  0.5821, -0.9591, -0.0880, -0.2948,\n",
       "        -0.1857, -0.1949,  0.0441, -0.2953, -0.3141, -0.2472,  0.1214,  0.5861],\n",
       "       grad_fn=<SelectBackward0>)"
      ]
     },
     "execution_count": 28,
     "metadata": {},
     "output_type": "execute_result"
    }
   ],
   "source": [
    "#the embedding of an item is a PyTorch tensor of size 32\n",
    "#a PyTorch tensor can be thought of having similar semantics as an numpy array.\n",
    "print(emodel._net.item_embeddings.weight[0].shape)\n",
    "emodel._net.item_embeddings.weight[0]\n"
   ]
  },
  {
   "cell_type": "markdown",
   "metadata": {
    "id": "VcKlJIBoVNYr"
   },
   "source": [
    "We can check how Spotlight makes its prediction. The key line is https://github.com/maciejkula/spotlight/blob/master/spotlight/factorization/representations.py#L89\n",
    "\n",
    "This takes the (dot-)product of the user's \"embedding\" (latent factor) and the item's embedding. On top of these are added \"user_biases\" and \"item_biases\". What do you think these last two components are for?\n",
    "\n",
    "Let's reproduce this for our favourite user..."
   ]
  },
  {
   "cell_type": "code",
   "execution_count": 29,
   "metadata": {
    "id": "g14v62m4YRyd"
   },
   "outputs": [
    {
     "name": "stdout",
     "output_type": "stream",
     "text": [
      "Percy Jackson & the Olympians: The Lightning Thief (2010)\n"
     ]
    },
    {
     "data": {
      "text/plain": [
       "tensor([[2.3160]], grad_fn=<AddBackward0>)"
      ]
     },
     "execution_count": 29,
     "metadata": {},
     "output_type": "execute_result"
    }
   ],
   "source": [
    "# uid=555 for u556\n",
    "# testItemId is our item of interest\n",
    "\n",
    "dotprod = (emodel._net.user_embeddings.weight[uid] * emodel._net.item_embeddings.weight[testItemId]).sum(0)\n",
    "user_bias = emodel._net.user_biases(torch.tensor([uid]))\n",
    "item_bias = emodel._net.item_biases(torch.tensor([testItemId], dtype=torch.long))\n",
    "\n",
    "print(getMovieTitle(testItemId))\n",
    "\n",
    "dotprod + user_bias + item_bias"
   ]
  },
  {
   "cell_type": "markdown",
   "metadata": {
    "id": "9VE2tpcJb8e7"
   },
   "source": [
    "## Task 4. Examining Latent Factors\n",
    "\n",
    "Let's give a look at item-item similarities. Write a function `mostsimilar(targetMovieId, model)` that identifies the most similar movieId to the specified target, based on the Cosine similarity of their item embedding vectors.\n",
    "\n",
    "What's the closest movie to \"Harry Potter and the Deathly Hallows: Part 1 (2010)\" , which is movieId m81834 in the MovieLens dataset?\n",
    "\n",
    "Hint:\n",
    " - Since we're working with PyTorch tensors (rather than the numpy vectors used in Part A), you should use [`nn.functional.cosine_similarity(x, y, dim=0)`](https://pytorch.org/docs/stable/nn.functional.html#cosine-similarity) to calculate the cosine similarity between two vectors x & y, as demonstrated below between two orthogonal vectors:"
   ]
  },
  {
   "cell_type": "code",
   "execution_count": 30,
   "metadata": {
    "id": "O7fDGUx6fBR3"
   },
   "outputs": [
    {
     "data": {
      "text/plain": [
       "tensor(0.)"
      ]
     },
     "execution_count": 30,
     "metadata": {},
     "output_type": "execute_result"
    }
   ],
   "source": [
    "import torch.nn as nn\n",
    "nn.functional.cosine_similarity(\n",
    "     torch.tensor([1.0,0]),\n",
    "     torch.tensor([0,1.0],), dim=0)"
   ]
  },
  {
   "cell_type": "code",
   "execution_count": 31,
   "metadata": {},
   "outputs": [
    {
     "data": {
      "text/plain": [
       "tensor([ 0.5781,  0.1924, -0.7460,  0.5591,  0.2284,  0.2985,  0.8448,  0.2313,\n",
       "         0.4144,  0.6380, -0.7666,  0.2777, -0.6417, -0.0376,  0.2413, -0.7588,\n",
       "         0.0067,  0.1247, -0.5680, -0.0281,  0.2008, -0.2750, -0.4213,  0.2604,\n",
       "        -0.0590, -0.5860,  0.7269,  0.2391, -0.2286, -0.1595, -0.1321,  0.4002],\n",
       "       grad_fn=<SelectBackward0>)"
      ]
     },
     "execution_count": 31,
     "metadata": {},
     "output_type": "execute_result"
    }
   ],
   "source": [
    "emodel._net.item_embeddings.weight[1938]"
   ]
  },
  {
   "cell_type": "code",
   "execution_count": 34,
   "metadata": {
    "id": "0Rg_DuBnoMEu"
   },
   "outputs": [
    {
     "name": "stdout",
     "output_type": "stream",
     "text": [
      "9724\n",
      "targetMovieId = m81834 'Harry Potter and the Deathly Hallows: Part 1 (2010)' (iid 1933)\n",
      "mostSimilar = m88125 'Harry Potter and the Deathly Hallows: Part 2 (2011)' (iid 1938) with cosine of 0.818559 \n"
     ]
    }
   ],
   "source": [
    "import torch.nn as nn\n",
    "from torch.nn.functional import cosine_similarity\n",
    "#you may assume that model._num_items provides the total number of items\n",
    "\n",
    "def mostsimilar(targetIId : int, model):\n",
    "    highest=0\n",
    "    highestCos=0\n",
    "\n",
    "    iids = list(iid_map.values())\n",
    "    target_tensor = emodel._net.item_embeddings.weight[targetIId]\n",
    "    similarities = [(iid, cosine_similarity(target_tensor, emodel._net.item_embeddings.weight[iid], dim=0)) for iid in iids]\n",
    "    \n",
    "    similarities = sorted(similarities, key=lambda x: x[1], reverse=True)\n",
    "    for iid, sim in similarities[1:]:\n",
    "        if sim > highestCos:\n",
    "            highest = iid\n",
    "            highestCos = sim\n",
    "    \n",
    "    print(train.num_items)\n",
    "    print(\"targetMovieId = %s '%s' (iid %d)\" % (iid_rev_map.get(targetIId), getMovieTitle(targetIId), targetIId))\n",
    "    print(\"mostSimilar = %s '%s' (iid %d) with cosine of %f \" % ( iid_rev_map.get(highest), getMovieTitle(highest), highest, highestCos))\n",
    "\n",
    "mostsimilar(iid_map[\"m81834\"], emodel)"
   ]
  },
  {
   "cell_type": "markdown",
   "metadata": {
    "id": "6Br4nChVqUAj"
   },
   "source": [
    "Hopefully, you can see a correspondence between the nearest movie to `\"m81834\"`."
   ]
  },
  {
   "cell_type": "code",
   "execution_count": 37,
   "metadata": {
    "id": "UgUvFR0AK8XI"
   },
   "outputs": [
    {
     "name": "stdout",
     "output_type": "stream",
     "text": [
      "9724\n",
      "targetMovieId = m88125 'Harry Potter and the Deathly Hallows: Part 2 (2011)' (iid 1938)\n",
      "mostSimilar = m81834 'Harry Potter and the Deathly Hallows: Part 1 (2010)' (iid 1933) with cosine of 0.818559 \n"
     ]
    }
   ],
   "source": [
    "mostsimilar(iid_map[\"m88125\"], emodel)"
   ]
  },
  {
   "cell_type": "code",
   "execution_count": 38,
   "metadata": {
    "id": "ENhT5FXX3qH9"
   },
   "outputs": [
    {
     "name": "stdout",
     "output_type": "stream",
     "text": [
      "9724\n",
      "targetMovieId = m44 'Mortal Kombat (1995)' (iid 971)\n",
      "mostSimilar = m1735 'Great Expectations (1998)' (iid 4668) with cosine of 0.727842 \n"
     ]
    }
   ],
   "source": [
    "mostsimilar(iid_map[\"m44\"], emodel)"
   ]
  },
  {
   "cell_type": "markdown",
   "metadata": {
    "id": "mxHfMZgbcdRu"
   },
   "source": [
    "## Evaluating performance\n",
    "\n",
    "Finally, let's see how good we are at our rating predictions. Handily, Spotlight implements a few common evaluation measures for us to inspect."
   ]
  },
  {
   "cell_type": "code",
   "execution_count": 40,
   "metadata": {
    "id": "OB8UJykycm3G"
   },
   "outputs": [
    {
     "name": "stdout",
     "output_type": "stream",
     "text": [
      "Train RMSE 0.385, test RMSE 1.098\n"
     ]
    }
   ],
   "source": [
    "from spotlight.evaluation import rmse_score\n",
    "\n",
    "train_rmse = rmse_score(emodel, train)\n",
    "test_rmse = rmse_score(emodel, test)\n",
    "\n",
    "print('Train RMSE {:.3f}, test RMSE {:.3f}'.format(train_rmse, test_rmse))"
   ]
  },
  {
   "cell_type": "markdown",
   "metadata": {
    "id": "WcRrTWx9lkoo"
   },
   "source": [
    "## Task 5. Tuning\n",
    "\n",
    "Now we wish to tune the latent factors. The task here is to train and evaluate new instances of ExplicitFactorizationModels using different numbers of latent factors, while leaving the other parameters unchanged (i.e. `n_iter=10, use_cuda=False, random_state=np.random.RandomState(SEED)`.\n",
    "\n",
    "You should also record the training times for different numbers of latent factors.\n",
    "\n",
    "You should vary the factors in `[8,16,32,64]`. Evaluate and record the RMSE values of the resulting models on (i) the training set (`train`), (ii) the  validation set (`valid`) and (iii) the test set (`test`). Use matplotlib to create a graph showing how the training, validation and test RMSE change as the number of latent factors is varied. Use [plt.savefig()](https://matplotlib.org/stable/api/_as_gen/matplotlib.pyplot.savefig.html) to save a PNG of your graph.\n",
    "\n",
    "You can now answer the questions about Task 5 in the quiz."
   ]
  },
  {
   "cell_type": "code",
   "execution_count": 44,
   "metadata": {
    "id": "KmfqVqvcjgLi"
   },
   "outputs": [
    {
     "name": "stderr",
     "output_type": "stream",
     "text": [
      " 25%|█████████████████████                                                               | 1/4 [00:02<00:08,  2.97s/it]"
     ]
    },
    {
     "name": "stdout",
     "output_type": "stream",
     "text": [
      "Factor: 8 | Train: 0.5529 | Validation: 1.0469 | Test: 1.0496094226837158\n"
     ]
    },
    {
     "name": "stderr",
     "output_type": "stream",
     "text": [
      " 50%|██████████████████████████████████████████                                          | 2/4 [00:06<00:06,  3.13s/it]"
     ]
    },
    {
     "name": "stdout",
     "output_type": "stream",
     "text": [
      "Factor: 16 | Train: 0.4496 | Validation: 1.0989 | Test: 1.0946677923202515\n"
     ]
    },
    {
     "name": "stderr",
     "output_type": "stream",
     "text": [
      " 75%|███████████████████████████████████████████████████████████████                     | 3/4 [00:10<00:03,  3.45s/it]"
     ]
    },
    {
     "name": "stdout",
     "output_type": "stream",
     "text": [
      "Factor: 32 | Train: 0.3851 | Validation: 1.1118 | Test: 1.0984690189361572\n"
     ]
    },
    {
     "name": "stderr",
     "output_type": "stream",
     "text": [
      "100%|████████████████████████████████████████████████████████████████████████████████████| 4/4 [00:15<00:00,  3.82s/it]"
     ]
    },
    {
     "name": "stdout",
     "output_type": "stream",
     "text": [
      "Factor: 64 | Train: 0.4502 | Validation: 1.0832 | Test: 1.0709370374679565\n"
     ]
    },
    {
     "name": "stderr",
     "output_type": "stream",
     "text": [
      "\n"
     ]
    }
   ],
   "source": [
    "import tqdm\n",
    "latent_factors = [8, 16, 32, 64]\n",
    "c_train_rmse = []\n",
    "c_valid_rmse = []\n",
    "c_test_rmse = []\n",
    "\n",
    "for factor in tqdm.tqdm(latent_factors):\n",
    "    latent_emodel = ExplicitFactorizationModel(n_iter=10,\n",
    "                                        embedding_dim=factor,\n",
    "                                        use_cuda=False,\n",
    "                                        random_state=np.random.RandomState(SEED) # ensure results are repeatable\n",
    "    )\n",
    "\n",
    "    latent_emodel.fit(train, verbose=False)\n",
    "    \n",
    "    train_rmse = rmse_score(latent_emodel, train)\n",
    "    valid_rmse = rmse_score(latent_emodel, valid)\n",
    "    test_rmse = rmse_score(latent_emodel, test)\n",
    "\n",
    "    c_train_rmse.append(train_rmse)\n",
    "    c_valid_rmse.append(valid_rmse)\n",
    "    c_test_rmse.append(test_rmse)\n",
    "\n",
    "    print(f\"Factor: {factor} | Train: {train_rmse:.4f} | Validation: {valid_rmse:.4f} | Test: {test_rmse}\")"
   ]
  },
  {
   "cell_type": "code",
   "execution_count": 69,
   "metadata": {},
   "outputs": [
    {
     "data": {
      "text/plain": [
       "[<matplotlib.axis.XTick at 0x22729fe9a50>,\n",
       " <matplotlib.axis.XTick at 0x227296eb5d0>,\n",
       " <matplotlib.axis.XTick at 0x2272a0440d0>,\n",
       " <matplotlib.axis.XTick at 0x2272a0454d0>]"
      ]
     },
     "execution_count": 69,
     "metadata": {},
     "output_type": "execute_result"
    },
    {
     "data": {
      "image/png": "[encoded data removed]",
      "text/plain": [
       "<Figure size 640x480 with 1 Axes>"
      ]
     },
     "metadata": {},
     "output_type": "display_data"
    }
   ],
   "source": [
    "sns.scatterplot(x=latent_factors, y=c_train_rmse, label='Training Set')\n",
    "sns.scatterplot(x=latent_factors, y=c_valid_rmse, label='Validation Set')\n",
    "ax = sns.scatterplot(x=latent_factors, y=c_test_rmse, label='Test Set')\n",
    "\n",
    "ax.set_xticks(latent_factors)"
   ]
  },
  {
   "cell_type": "code",
   "execution_count": 78,
   "metadata": {},
   "outputs": [
    {
     "data": {
      "image/png": "[encoded data removed]",
      "text/plain": [
       "<Figure size 640x480 with 1 Axes>"
      ]
     },
     "metadata": {},
     "output_type": "display_data"
    }
   ],
   "source": [
    "import matplotlib.pyplot as plt\n",
    "import seaborn as sns\n",
    "\n",
    "sns.set_theme()\n",
    "\n",
    "fig, ax = plt.subplots()\n",
    "scatter_size=15\n",
    "\n",
    "ax.scatter(latent_factors, c_train_rmse, label='Training Set', color='tab:blue', s=scatter_size)\n",
    "ax.scatter(latent_factors, c_valid_rmse, label='Validation Set', color='orange', s=scatter_size)\n",
    "ax.scatter(latent_factors, c_test_rmse, label='Test Set', color='green', s=scatter_size)\n",
    "\n",
    "ax.set_title(\"Impact of Latent Factor Embeddings over Evaluation Sets\")\n",
    "ax.set_ylabel(\"Root Mean Squared Error (RMSE)\")\n",
    "ax.set_xlabel(\"Number of Latent Factors\")\n",
    "\n",
    "ax.set_xticks(latent_factors)\n",
    "\n",
    "# plt.savefig(\"images/latent_factors_comparison.png\", bbox_inches='tight')\n",
    "plt.legend()\n",
    "plt.show()"
   ]
  },
  {
   "cell_type": "markdown",
   "metadata": {
    "id": "RYTtH0_pl6sj"
   },
   "source": [
    "## Evaluating Other Models\n",
    "\n",
    "When evaluating models, it's important to compare to some reasonable baselines.\n",
    "\n",
    "Fortunately, Spotlight's `rmse_score()` method can be used to evaluate any Python object that adheres to the specification of the `predict()` function. For instance, we can make a baseline \"static\" scoring model, which returns the same scores for each user. This set of scores is passed as numpy array in the constructor.\n"
   ]
  },
  {
   "cell_type": "code",
   "execution_count": 79,
   "metadata": {
    "id": "D8Xd1X4TX2Tq"
   },
   "outputs": [],
   "source": [
    "class StaticModel:\n",
    "\n",
    "  def __init__(self, staticscores):\n",
    "    self.numitems = len(staticscores)\n",
    "    assert isinstance(staticscores, np.ndarray), \"Expected a numpy array\"\n",
    "    assert staticscores.dtype == np.float32 or staticscores.dtype == np.float64, \"Expected a numpy array of floats\"\n",
    "    self.staticscores = staticscores\n",
    "\n",
    "  # uids are the user(s) we are requesting recommendations for;\n",
    "  # returns an array of scores, one for each item\n",
    "  # the array is duplicated for each user requested\n",
    "  def predict(self, uids, iids=None):\n",
    "    # this model returns all zeros, regardless of userid\n",
    "\n",
    "    # we respond to one or more uids\n",
    "    uids = [uids] if isinstance(uids, int) else uids\n",
    "\n",
    "    # if iids is specificed, we filter predicts for those userids\n",
    "    # if iids is not specificed, predict() returns the prediction for each item _in iid order_\n",
    "    iids = np.arange(self.numitems) if iids is None else iids\n",
    "    return [self.staticscores[iids] for u in uids]"
   ]
  },
  {
   "cell_type": "markdown",
   "metadata": {
    "id": "Zhl_7mUxmdlv"
   },
   "source": [
    "For instance, we can make a static baseline that just returns 0 for every item, regardless of the user."
   ]
  },
  {
   "cell_type": "code",
   "execution_count": 80,
   "metadata": {
    "id": "m3FVJWJzYhoC"
   },
   "outputs": [
    {
     "name": "stdout",
     "output_type": "stream",
     "text": [
      "Asking for 2 users, one item: [0.0, 0.0]\n",
      "Asking for one item: [0.0]\n",
      "Asking for two items: [array([0., 0.])]\n",
      "RMSE of our dummy model: 3.642758\n"
     ]
    }
   ],
   "source": [
    "mydummymodel = StaticModel(np.zeros(num_items))\n",
    "\n",
    "print(\"Asking for 2 users, one item: \" + str(mydummymodel.predict([0,1],0)))\n",
    "print(\"Asking for one item: \" + str(mydummymodel.predict(0,0)))\n",
    "print(\"Asking for two items: \" + str(mydummymodel.predict(0,[0,1])))\n",
    "print(\"RMSE of our dummy model: %f\" % rmse_score(mydummymodel, test))"
   ]
  },
  {
   "cell_type": "markdown",
   "metadata": {
    "id": "KSnTtOzAoA2l"
   },
   "source": [
    "## Task 6. Popularity-based Recommenders\n",
    "\n",
    "This task asks you to implement other baseline recommenders.\n",
    "\n",
    "**Using ratings_df**, create three new instances of StaticModel as baselines:\n",
    "\n",
    "(a). the number of ratings for each item - you must linearly normalise this to be in the range 0-5.\n",
    "\n",
    "(b). the number of 5 scores received by an item - you must linearly normalise this to be in the range 0-5.\n",
    "\n",
    "(c). the average rating value for each item (no need to normalise - scores are already 0-5)\n",
    "\n",
    "Evaluate your baseline models in terms of RMSE, as well as providing their scores for particular iids, as requested in the quiz.\n",
    "\n",
    "Hints:\n",
    " - You may find iterating over a dataframe using iterrows() useful - e.g. see  https://stackoverflow.com/a/16476974\n",
    " - The order that predict() returns scores for items is VERY IMPORTANT. Think carefully about the assumed order that predict() returns item scores for, and how you can recover that order when working with ratings_df."
   ]
  },
  {
   "cell_type": "code",
   "execution_count": 157,
   "metadata": {},
   "outputs": [
    {
     "data": {
      "text/html": [
       "<div>\n",
       "<style scoped>\n",
       "    .dataframe tbody tr th:only-of-type {\n",
       "        vertical-align: middle;\n",
       "    }\n",
       "\n",
       "    .dataframe tbody tr th {\n",
       "        vertical-align: top;\n",
       "    }\n",
       "\n",
       "    .dataframe thead th {\n",
       "        text-align: right;\n",
       "    }\n",
       "</style>\n",
       "<table border=\"1\" class=\"dataframe\">\n",
       "  <thead>\n",
       "    <tr style=\"text-align: right;\">\n",
       "      <th></th>\n",
       "      <th>high_rating_count</th>\n",
       "    </tr>\n",
       "    <tr>\n",
       "      <th>movieId</th>\n",
       "      <th></th>\n",
       "    </tr>\n",
       "  </thead>\n",
       "  <tbody>\n",
       "    <tr>\n",
       "      <th>m1</th>\n",
       "      <td>47</td>\n",
       "    </tr>\n",
       "    <tr>\n",
       "      <th>m10</th>\n",
       "      <td>10</td>\n",
       "    </tr>\n",
       "    <tr>\n",
       "      <th>m100</th>\n",
       "      <td>0</td>\n",
       "    </tr>\n",
       "    <tr>\n",
       "      <th>m100044</th>\n",
       "      <td>0</td>\n",
       "    </tr>\n",
       "    <tr>\n",
       "      <th>m100068</th>\n",
       "      <td>0</td>\n",
       "    </tr>\n",
       "    <tr>\n",
       "      <th>...</th>\n",
       "      <td>...</td>\n",
       "    </tr>\n",
       "    <tr>\n",
       "      <th>m99853</th>\n",
       "      <td>0</td>\n",
       "    </tr>\n",
       "    <tr>\n",
       "      <th>m999</th>\n",
       "      <td>0</td>\n",
       "    </tr>\n",
       "    <tr>\n",
       "      <th>m99910</th>\n",
       "      <td>0</td>\n",
       "    </tr>\n",
       "    <tr>\n",
       "      <th>m99917</th>\n",
       "      <td>0</td>\n",
       "    </tr>\n",
       "    <tr>\n",
       "      <th>m99992</th>\n",
       "      <td>0</td>\n",
       "    </tr>\n",
       "  </tbody>\n",
       "</table>\n",
       "<p>9724 rows × 1 columns</p>\n",
       "</div>"
      ],
      "text/plain": [
       "         high_rating_count\n",
       "movieId                   \n",
       "m1                      47\n",
       "m10                     10\n",
       "m100                     0\n",
       "m100044                  0\n",
       "m100068                  0\n",
       "...                    ...\n",
       "m99853                   0\n",
       "m999                     0\n",
       "m99910                   0\n",
       "m99917                   0\n",
       "m99992                   0\n",
       "\n",
       "[9724 rows x 1 columns]"
      ]
     },
     "execution_count": 157,
     "metadata": {},
     "output_type": "execute_result"
    }
   ],
   "source": [
    "# Faster method if I can solve it.\n",
    "from functools import reduce\n",
    "\n",
    "# Starting with rating \n",
    "def total(series):\n",
    "    return series[series == 5].count()\n",
    "\n",
    "ratings_df.groupby(\"movieId\").agg(high_rating_count=(\"rating\", total))"
   ]
  },
  {
   "cell_type": "code",
   "execution_count": 163,
   "metadata": {
    "id": "FEHtLIXLjHqx"
   },
   "outputs": [],
   "source": [
    "from sklearn.preprocessing import MinMaxScaler\n",
    "\n",
    "order = list(iid_map.keys())\n",
    "counts_scaler = MinMaxScaler(feature_range=(0,5))\n",
    "ratings_scaler = MinMaxScaler(feature_range=(0,5))\n",
    "\n",
    "counts_df = ratings_df.groupby(\"movieId\").agg(counts=(\"userId\", \"count\")).reindex(order)\n",
    "no_ratings_model = StaticModel(counts_scaler.fit_transform(counts_df).flatten())\n",
    "\n",
    "max_scores_ratings = ratings_df.groupby(\"movieId\") \\\n",
    "                    .agg(counts=('rating', lambda x: x[x==5].count()))\\\n",
    "                    .reindex(order)\n",
    "\n",
    "max_ratings_model = StaticModel(ratings_scaler.fit_transform(max_scores_ratings).flatten())\n",
    "\n",
    "average_rating_model = StaticModel(ratings_df.groupby(\"movieId\").agg(avg_rating=(\"rating\", \"mean\")).reindex(order)['avg_rating'].to_numpy())"
   ]
  },
  {
   "cell_type": "code",
   "execution_count": 167,
   "metadata": {},
   "outputs": [
    {
     "name": "stdout",
     "output_type": "stream",
     "text": [
      "Ratings Count [RMSE]: 2.899817\n",
      "Positive Count [RMSE]: 3.308017\n",
      "Average Rating [RMSE]: 0.881075\n"
     ]
    }
   ],
   "source": [
    "ratings_count_rmse = rmse_score(no_ratings_model, test)\n",
    "positive_count_rmse = rmse_score(max_ratings_model, test)\n",
    "average_rating_rmse = rmse_score(average_rating_model, test)\n",
    "\n",
    "print(f\"Ratings Count [RMSE]: {ratings_count_rmse:4f}\")\n",
    "print(f\"Positive Count [RMSE]: {positive_count_rmse:4f}\")\n",
    "print(f\"Average Rating [RMSE]: {average_rating_rmse:4f}\")"
   ]
  },
  {
   "cell_type": "markdown",
   "metadata": {
    "id": "4aCiYTWaeobQ"
   },
   "source": [
    "# Part C - Implicit Recommendation\n",
    "\n",
    "This part of the lab uses a music dataset from [Last.fm](https://www.last.fm/) -- a Spotify-like music streaming service -- that was obtained by a researcher at Pompeu Fabra University (Barcelona, Spain). The relevant citation is:\n",
    "\n",
    "```\n",
    "  @book{Celma:Springer2010,\n",
    "      \tauthor = {Celma, O.},\n",
    "      \ttitle = {{Music Recommendation and Discovery in the Long Tail}},\n",
    "       \tpublisher = {Springer},\n",
    "       \tyear = {2010}\n",
    "      }\n",
    " ```\n",
    "\n",
    "You can have more information about the dataset at [this link](http://ocelma.net/MusicRecommendationDataset/lastfm-1K.html)."
   ]
  },
  {
   "cell_type": "markdown",
   "metadata": {
    "id": "jsDavoa3qC64"
   },
   "source": [
    "## Dataset preparation\n",
    "\n",
    "The full Last.fm dataset is 2.4GB uncompressed. So we focus on a sample with 200k listens. You can download and load the sample into a DataFrame using just one line code:"
   ]
  },
  {
   "cell_type": "code",
   "execution_count": 168,
   "metadata": {
    "id": "9FCrsO425d4N"
   },
   "outputs": [],
   "source": [
    "listens_df = pd.read_csv(\"https://www.dcs.gla.ac.uk/~craigm/recsysH/lastfm-200ksample-listens_df.csv.gz\")"
   ]
  },
  {
   "cell_type": "markdown",
   "metadata": {
    "id": "GZSwFnZSgrNU"
   },
   "source": [
    "\n",
    "Let's look at the dataset. Note that the we don't have any explicit ratings by the users. We just know what they interacted with (and when)."
   ]
  },
  {
   "cell_type": "code",
   "execution_count": 169,
   "metadata": {
    "id": "HAP3dPt-4KMi"
   },
   "outputs": [
    {
     "data": {
      "text/html": [
       "<div>\n",
       "<style scoped>\n",
       "    .dataframe tbody tr th:only-of-type {\n",
       "        vertical-align: middle;\n",
       "    }\n",
       "\n",
       "    .dataframe tbody tr th {\n",
       "        vertical-align: top;\n",
       "    }\n",
       "\n",
       "    .dataframe thead th {\n",
       "        text-align: right;\n",
       "    }\n",
       "</style>\n",
       "<table border=\"1\" class=\"dataframe\">\n",
       "  <thead>\n",
       "    <tr style=\"text-align: right;\">\n",
       "      <th></th>\n",
       "      <th>user</th>\n",
       "      <th>timestamp</th>\n",
       "      <th>artistid</th>\n",
       "      <th>artist</th>\n",
       "      <th>trackid</th>\n",
       "      <th>trackname</th>\n",
       "    </tr>\n",
       "  </thead>\n",
       "  <tbody>\n",
       "    <tr>\n",
       "      <th>0</th>\n",
       "      <td>user_000593</td>\n",
       "      <td>2007-05-14T18:49:03Z</td>\n",
       "      <td>ad996aef-cc1c-42ac-af5c-619c370f4b8a</td>\n",
       "      <td>Emerson, Lake &amp; Palmer</td>\n",
       "      <td>NaN</td>\n",
       "      <td>Three Fates (Clotho/Lachesis/Atropos)</td>\n",
       "    </tr>\n",
       "    <tr>\n",
       "      <th>1</th>\n",
       "      <td>user_000093</td>\n",
       "      <td>2008-08-18T22:04:59Z</td>\n",
       "      <td>8c538f11-c141-4588-8ecb-931083524186</td>\n",
       "      <td>Bloc Party</td>\n",
       "      <td>315a301e-e764-4adf-91c6-e90a22320106</td>\n",
       "      <td>Positive Tension</td>\n",
       "    </tr>\n",
       "    <tr>\n",
       "      <th>2</th>\n",
       "      <td>user_000594</td>\n",
       "      <td>2008-04-06T10:57:45Z</td>\n",
       "      <td>65f4f0c5-ef9e-490c-aee3-909e7ae6b2ab</td>\n",
       "      <td>Metallica</td>\n",
       "      <td>683c89fe-2be8-4ed2-8e58-68b2343cb8d5</td>\n",
       "      <td>Through The Never</td>\n",
       "    </tr>\n",
       "    <tr>\n",
       "      <th>3</th>\n",
       "      <td>user_000651</td>\n",
       "      <td>2008-05-10T07:14:45Z</td>\n",
       "      <td>3ca09fae-fdee-4771-bab9-244708515a98</td>\n",
       "      <td>Omarion</td>\n",
       "      <td>NaN</td>\n",
       "      <td>Ice Box [Orangefuzzz Weather Advisory Radio Mix]</td>\n",
       "    </tr>\n",
       "    <tr>\n",
       "      <th>4</th>\n",
       "      <td>user_000137</td>\n",
       "      <td>2009-03-11T23:17:22Z</td>\n",
       "      <td>af84ee9f-534a-4f7f-844b-188ba1c47e87</td>\n",
       "      <td>Los Rodríguez</td>\n",
       "      <td>76b83f07-3763-4c17-8d24-28040d85354a</td>\n",
       "      <td>Dulce Condena</td>\n",
       "    </tr>\n",
       "  </tbody>\n",
       "</table>\n",
       "</div>"
      ],
      "text/plain": [
       "          user             timestamp                              artistid  \\\n",
       "0  user_000593  2007-05-14T18:49:03Z  ad996aef-cc1c-42ac-af5c-619c370f4b8a   \n",
       "1  user_000093  2008-08-18T22:04:59Z  8c538f11-c141-4588-8ecb-931083524186   \n",
       "2  user_000594  2008-04-06T10:57:45Z  65f4f0c5-ef9e-490c-aee3-909e7ae6b2ab   \n",
       "3  user_000651  2008-05-10T07:14:45Z  3ca09fae-fdee-4771-bab9-244708515a98   \n",
       "4  user_000137  2009-03-11T23:17:22Z  af84ee9f-534a-4f7f-844b-188ba1c47e87   \n",
       "\n",
       "                   artist                               trackid  \\\n",
       "0  Emerson, Lake & Palmer                                   NaN   \n",
       "1              Bloc Party  315a301e-e764-4adf-91c6-e90a22320106   \n",
       "2               Metallica  683c89fe-2be8-4ed2-8e58-68b2343cb8d5   \n",
       "3                 Omarion                                   NaN   \n",
       "4           Los Rodríguez  76b83f07-3763-4c17-8d24-28040d85354a   \n",
       "\n",
       "                                          trackname  \n",
       "0             Three Fates (Clotho/Lachesis/Atropos)  \n",
       "1                                  Positive Tension  \n",
       "2                                 Through The Never  \n",
       "3  Ice Box [Orangefuzzz Weather Advisory Radio Mix]  \n",
       "4                                     Dulce Condena  "
      ]
     },
     "execution_count": 169,
     "metadata": {},
     "output_type": "execute_result"
    }
   ],
   "source": [
    "listens_df.head()"
   ]
  },
  {
   "cell_type": "markdown",
   "metadata": {
    "id": "MLGzG9Rig3E6"
   },
   "source": [
    "## An implicit recommendation approach\n",
    "\n",
    "Let's move away from explicit recommendation to implicit.\n",
    "\n",
    "We will continue using the [Spotlight](https://github.com/maciejkula/spotlight/) toolkit for our recommender."
   ]
  },
  {
   "cell_type": "markdown",
   "metadata": {
    "id": "U03zZ6CH---1"
   },
   "source": [
    "We can construct [Interaction](https://maciejkula.github.io/spotlight/interactions.html) objects for Spotlight in the same way as before. The only difference is that this time we do not record the user's ratings.\n"
   ]
  },
  {
   "cell_type": "code",
   "execution_count": 170,
   "metadata": {
    "id": "jcRhNWXzg7LT"
   },
   "outputs": [
    {
     "name": "stdout",
     "output_type": "stream",
     "text": [
      "<Interactions dataset (973 users x 125076 items x 200000 interactions)>\n"
     ]
    }
   ],
   "source": [
    "from collections import defaultdict\n",
    "from itertools import count\n",
    "\n",
    "#we cant trust the musicbrainz ids to exist, so lets build items ids based on artist & trackname attributes\n",
    "LFMiid_map = defaultdict(count().__next__)\n",
    "LFMiids = np.array([LFMiid_map[str(artist)+\"/\"+str(trackname)] for artist,trackname in listens_df[[\"artist\",\"trackname\"]].values ], dtype=np.int32)\n",
    "\n",
    "LFMuid_map = defaultdict(count().__next__)\n",
    "LFMuids = np.array([LFMuid_map[uid] for uid in listens_df[\"user\"].values ], dtype=np.int32)\n",
    "#freeze uid_map and iid_map so no more mapping are created\n",
    "LFMuid_map.default_factory = None\n",
    "LFMiid_map.default_factory = None\n",
    "\n",
    "LFMuid_rev_map = {v: k for k, v in LFMuid_map.items()}\n",
    "LFMiid_rev_map = {v: k for k, v in LFMiid_map.items()}\n",
    "\n",
    "from spotlight.interactions import Interactions\n",
    "from spotlight.cross_validation import random_train_test_split\n",
    "\n",
    "#NB: we will set num_users and num_items here - its a good practice.\n",
    "imp_dataset = Interactions(user_ids=LFMuids, item_ids=LFMiids, num_users=len(LFMuid_map), num_items=len(LFMiid_map))\n",
    "#we could add the timestamps here if we were doing sequence recommendation\n",
    "\n",
    "#what have we got.\n",
    "print(imp_dataset)"
   ]
  },
  {
   "cell_type": "code",
   "execution_count": 171,
   "metadata": {
    "id": "22dmr7JKqUnz"
   },
   "outputs": [
    {
     "name": "stdout",
     "output_type": "stream",
     "text": [
      "<Interactions dataset (973 users x 125076 items x 160000 interactions)>\n",
      "<Interactions dataset (973 users x 125076 items x 40000 interactions)>\n"
     ]
    }
   ],
   "source": [
    "from spotlight.cross_validation import random_train_test_split\n",
    "\n",
    "itrain, itest = random_train_test_split(imp_dataset, random_state=np.random.RandomState(SEED))\n",
    "print(itrain)\n",
    "print(itest)"
   ]
  },
  {
   "cell_type": "markdown",
   "metadata": {
    "id": "EFQazPPxhG2_"
   },
   "source": [
    "Let's run Spotlight's impllicit Matrix Factorisation on this dataset. Here, we use a *pointwise* loss, which just tries to predict whether the user will like the item or not. It does not use the BPR loss function (more on that later).\n",
    "\n",
    "**Warning**: this dataset is difficult for the learner - this *will* take a few minutes to learn... Use the time to read-on."
   ]
  },
  {
   "cell_type": "code",
   "execution_count": 172,
   "metadata": {
    "id": "co3ZwYgkhKvq"
   },
   "outputs": [
    {
     "name": "stdout",
     "output_type": "stream",
     "text": [
      "Epoch 0: loss 0.9663112464904785\n",
      "Epoch 1: loss 0.4953249883174896\n",
      "Epoch 2: loss 0.19036928763389588\n",
      "Epoch 3: loss 0.11518942220211029\n",
      "Epoch 4: loss 0.08347191579341888\n",
      "Training took 28 seconds\n"
     ]
    }
   ],
   "source": [
    "from spotlight.factorization.implicit import ImplicitFactorizationModel\n",
    "import time\n",
    "\n",
    "imodel = ImplicitFactorizationModel(n_iter=5,\n",
    "                                    embedding_dim=32, #this is Spotlight default\n",
    "                                    use_cuda=False,\n",
    "                                    random_state=np.random.RandomState(SEED) # ensure results are repeatable\n",
    ")\n",
    "current = time.time()\n",
    "\n",
    "imodel.fit(itrain, verbose=True)\n",
    "end = time.time()\n",
    "diff = end - current\n",
    "print(\"Training took %d seconds\" % (diff))"
   ]
  },
  {
   "cell_type": "markdown",
   "metadata": {
    "id": "zso4C5wehLog"
   },
   "source": [
    "Again, we can look at the predictions. We make a prediction (a score ) for ALL items for user uid 0. Note that the scores vary in magnitude - indeed, we're not predicting a rating, we just need to have scores in order to rank the items in descending order."
   ]
  },
  {
   "cell_type": "code",
   "execution_count": 173,
   "metadata": {
    "id": "AR_qbWXEhUDB"
   },
   "outputs": [
    {
     "name": "stdout",
     "output_type": "stream",
     "text": [
      "[ -4.7575088   5.2616     -9.297568  ...  -9.0279665 -11.658101\n",
      " -13.502045 ]\n",
      "125076\n"
     ]
    }
   ],
   "source": [
    "print(imodel.predict(0))\n",
    "print(len(imodel.predict(0)))"
   ]
  },
  {
   "cell_type": "markdown",
   "metadata": {
    "id": "iyZ3PyAxhdDF"
   },
   "source": [
    "Now that we have the scores of all items for a given user, we need to identify the top-scored ones, i.e. those that we would present to the user.\n",
    "\n",
    "## Task 7. Track Analysis\n",
    "\n",
    "Write a function `tracksForUser(user)` to identify the artist name & track of the top K (e.g. K=4) items based on their prediction scores of `imodel` for a given user index index (i.e. 0.. 964). What are the top scored 10 tracks recommended for user uid 4?\n",
    "\n",
    "Hints:\n",
    "\n",
    "\n",
    " - I also found [`np.argwhere()`](https://docs.scipy.org/doc/numpy/reference/generated/numpy.argwhere.html) to be useful. It results only the positions of an array that are True. For instance:\n",
    "```\n",
    ">>> np.argwhere([True, False])\n",
    "array([[0]])\n",
    "```\n",
    " Alternatively, you can sort and then slice.\n",
    "\n"
   ]
  },
  {
   "cell_type": "code",
   "execution_count": 185,
   "metadata": {
    "id": "wBGdB7SOhcjp"
   },
   "outputs": [
    {
     "data": {
      "text/plain": [
       "(125076,)"
      ]
     },
     "execution_count": 185,
     "metadata": {},
     "output_type": "execute_result"
    }
   ],
   "source": [
    "lfm_uid = 4\n",
    "user_name = LFMuid_rev_map.get(lfm_uid)\n",
    "\n",
    "imodel.predict(lfm_uid).shape"
   ]
  },
  {
   "cell_type": "markdown",
   "metadata": {
    "id": "jWFSAuQ40p2Y"
   },
   "source": [
    "## Task 8. Artist Analysis\n",
    "\n",
    "Look at the artists actually listened to by uid 4, and compare/contrast with the predictions of the recommender. It's useful to examine how many times each artist was listened to.\n",
    "\n",
    "Hints:\n",
    " - Use a groupby on a suitable subset of the `listens_df` dataframe.\n",
    " - Sort by descending frequency of listen."
   ]
  },
  {
   "cell_type": "code",
   "execution_count": null,
   "metadata": {
    "id": "rnNErTHP0u8G"
   },
   "outputs": [],
   "source": [
    "#Add your solution here"
   ]
  },
  {
   "cell_type": "markdown",
   "metadata": {
    "id": "t2FWymqQRxKj"
   },
   "source": [
    "I observed that uid 4 listened frequently to \"Radiohead\" (rank 3), while a Radiohead song was among the top 10 ranked songs in our predicted model."
   ]
  },
  {
   "cell_type": "markdown",
   "metadata": {
    "id": "XmTNae6Romuk"
   },
   "source": [
    "## Evaluating an implicit recommender\n",
    "\n",
    "\n"
   ]
  },
  {
   "cell_type": "markdown",
   "metadata": {
    "id": "14Q2TTpZuHON"
   },
   "source": [
    "We can examine the MRR of the implicit model we have learned. We pass it the test set (which contains knowledge of what the user *actually* clicked), as our ground truth.\n",
    "\n",
    "In the second variant, we also pass the training data. Give a look at the  implementation of [mrr_score()](https://github.com/cmacdonald/spotlight/blob/master/spotlight/evaluation.py#L8) to understand what it is doing, and why.\n",
    "\n",
    "**Questions for you to consider**\n",
    " - Why is the second score lower?\n",
    " - Would this be the same for all recommendation settings?\n",
    " - In the implementation, why are the scores negated, why do we use [rankdata()](https://docs.scipy.org/doc/scipy/reference/generated/scipy.stats.rankdata.html)?\n",
    "\n",
    "We will use the first variant for this Lab."
   ]
  },
  {
   "cell_type": "code",
   "execution_count": null,
   "metadata": {
    "id": "oLV71LSjt-k2"
   },
   "outputs": [],
   "source": [
    "from spotlight.evaluation import mrr_score\n",
    "\n",
    "#evaluate on this dataset takes approx 1 minute\n",
    "!date\n",
    "print(mrr_score(imodel, itest).mean())\n",
    "!date\n",
    "print(mrr_score(imodel, itest,  train=itrain).mean())\n",
    "!date\n"
   ]
  },
  {
   "cell_type": "markdown",
   "metadata": {
    "id": "LjM_kZNtAE2k"
   },
   "source": [
    "How to interpret an MRR score - we know it has a range [0,1] with 1 being best. 1 means, on average across all users, we make a relevant prediction at rank 1; 0.5 means, on average, at rank 2. This is a very rough rule-of-thumb - MRR isn't a linear measure, so  a few poor predictions affect the average more than a few good ones.\n",
    "\n",
    "**More information:**\n",
    "\n",
    "rankdata() is a very useful function. Here's an example of its output:\n",
    "```python\n",
    ">>> rankdata([0, 2, 3, 2])\n",
    "array([1. , 2.5, 4. , 2.5])\n",
    "```\n",
    "\n",
    "It tells us the RANK of the number at each position. So the first element of the array (value 0) was the smallest, so is \"rank 1\"; the highest value gets \"rank 4\"; the other two values are tied, so they get equal ranks (2.5 is halfway between 2 & 3). We can adjust this tie-breaking behaviour using the `method=` kwarg.\n",
    "\n",
    "You can now answer all questions for Task 8."
   ]
  },
  {
   "cell_type": "markdown",
   "metadata": {
    "id": "hL2jRiGF2uLb"
   },
   "source": [
    "## Task 9. Listens and Recommendations\n",
    "\n",
    "We now want to analyse how the recommender predictions differs from what it was trained on. This helps us understand in what situations does the recommender perform well or not.\n",
    "\n",
    "We can see the models performance by using `mrr_score(imodel, itest)`.\n",
    "\n",
    "*   Pick the user with the lowest uid that has the highest RR. How many listens (ie. how many times they have listened to any song) did they have in the training dataset (as represented by `itrain`)?\n",
    "*   Similarly, pick the user with the lowest uid that had the lowest RR. How many listens did they have in the training dataset (`itrain`)?\n",
    "\n",
    "Hints:\n",
    " * What does an Interaction object contain?"
   ]
  },
  {
   "cell_type": "code",
   "execution_count": null,
   "metadata": {
    "id": "B6H0l1S6nNcd"
   },
   "outputs": [],
   "source": [
    "#Add your solution here"
   ]
  },
  {
   "cell_type": "markdown",
   "metadata": {
    "id": "anEhZSz9nPZt"
   },
   "source": [
    "Next, make a numpy array containing the number of listens for each uid in `itrain`. Plot a histogram of the distribution - like in Exercise 1, use matplotlib's histogram functionality, the default number of bins and use `log=True`.\n",
    "\n",
    "Save the PNG for uploading to the quiz when prompted."
   ]
  },
  {
   "cell_type": "code",
   "execution_count": null,
   "metadata": {
    "id": "zCI34-U48HHI"
   },
   "outputs": [],
   "source": [
    "#Add your solution here"
   ]
  },
  {
   "cell_type": "markdown",
   "metadata": {
    "id": "5kjpISm3nwAy"
   },
   "source": [
    "Many users have very few listens. Lets set 20 listens as a threshold.\n",
    "\n",
    "Lets define users with < 20 listens as cold-start users.\n",
    "Based on `itrain`, how many cold-start users are there?\n",
    "Looking back to our evaluation results, what is the MRR for ONLY these users, versus \"normal\" with 20 or more listens.\n"
   ]
  },
  {
   "cell_type": "code",
   "execution_count": null,
   "metadata": {
    "id": "4VRv-AAReGDs"
   },
   "outputs": [],
   "source": [
    "#Add your solution here"
   ]
  },
  {
   "cell_type": "markdown",
   "metadata": {
    "id": "MR_l43rFc7eo"
   },
   "source": [
    "## Task 10 - BPR\n",
    "\n",
    "Finally, let's compare the *pointwise* implicit factorisation model with Bayesian Personalised Ranking (BPR). BPR is a very key recommendation model in the literature, which is widely used today as a baseline in many research papers.\n",
    "\n",
    "Train an ImplicitFactorizationModel on the Last FM dataset (i.e. `itrain`) using identical settings as before, except adding `loss='bpr'`. Record the time taken to train, and the evaluate its effectiveness in terms of MRR. Do NOT use the `train=itrain` argument to `mrr_score()`."
   ]
  },
  {
   "cell_type": "code",
   "execution_count": null,
   "metadata": {
    "id": "vNeyn7o2tf54"
   },
   "outputs": [],
   "source": [
    "#Add your solution here"
   ]
  },
  {
   "cell_type": "markdown",
   "metadata": {
    "id": "awTPM_BGcUc0"
   },
   "source": [
    "# End of Exercise\n",
    "\n",
    "As part of your submission, you should complete the Exercise 2 quiz on Moodle.\n",
    "You will need to upload your notebook, complete with the **results** of executing the code (inc figures and plots)."
   ]
  }
 ],
 "metadata": {
  "colab": {
   "provenance": [],
   "toc_visible": true
  },
  "kernelspec": {
   "display_name": "Python 3 (ipykernel)",
   "language": "python",
   "name": "python3"
  },
  "language_info": {
   "codemirror_mode": {
    "name": "ipython",
    "version": 3
   },
   "file_extension": ".py",
   "mimetype": "text/x-python",
   "name": "python",
   "nbconvert_exporter": "python",
   "pygments_lexer": "ipython3",
   "version": "3.11.7"
  }
 },
 "nbformat": 4,
 "nbformat_minor": 4
}

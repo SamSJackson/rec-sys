{
 "nbformat": 4,
 "nbformat_minor": 0,
 "metadata": {
  "colab": {
   "provenance": []
  },
  "kernelspec": {
   "name": "python3",
   "language": "python",
   "display_name": "Python 3 (ipykernel)"
  }
 },
 "cells": [
  {
   "cell_type": "markdown",
   "metadata": {
    "id": "zMRJzJXdfkNv"
   },
   "source": [
    "# Exercise 1\n",
    "\n",
    "The **aims** of this exercise are:\n",
    "\n",
    "*   Allow you practice slicing and analysing data with Pandas\n",
    "*   Introduce you to the MovieLens dataset\n",
    "*   Demonstrate use of Pandas to perform non-personalised and personalised recommendations\n",
    "\n",
    "This exercise is worth 5% of the contribution to your final mark for RecSys, and is expected to take approximately 5-7 hours of your time. NB: This is an individual exercise.\n",
    "\n"
   ]
  },
  {
   "cell_type": "code",
   "metadata": {
    "id": "D0FCwi-bIytL",
    "ExecuteTime": {
     "end_time": "2023-11-30T16:56:25.462484619Z",
     "start_time": "2023-11-30T16:56:25.025254704Z"
    }
   },
   "source": [
    "#Standard setup\n",
    "import pandas as pd\n",
    "import numpy as np\n",
    "import matplotlib.pyplot as plt, seaborn as sns"
   ],
   "execution_count": 2,
   "outputs": []
  },
  {
   "cell_type": "markdown",
   "metadata": {
    "id": "uTkyfA-p51Oi"
   },
   "source": [
    "#Part A. MovieLens Exploration using Pandas\n",
    "\n",
    "This exercise will use the [Movielens](https://grouplens.org/datasets/movielens/) data. There is a large dataset with 25M ratings, however we will focus on the smallest one, that has only 100k ratings.  \n",
    "\n",
    "**Hint** : If you are using Colab, it might be good if you open these files, either on your own machine, or using Colab's inbuilt CSV viewer (via folder icon on the left hand sidebar). The CSV files are small enough to be searched using your favourite editor."
   ]
  },
  {
   "cell_type": "markdown",
   "metadata": {
    "id": "idTYNpH-6Pr3"
   },
   "source": [
    "Let's look into the files using Pandas:"
   ]
  },
  {
   "cell_type": "code",
   "metadata": {
    "id": "-PWv4cz-4_7B",
    "ExecuteTime": {
     "end_time": "2023-11-30T16:56:28.015910560Z",
     "start_time": "2023-11-30T16:56:27.884678559Z"
    }
   },
   "source": [
    "ratings_df = pd.read_csv(\"ml-latest-small/ratings.csv\")\n",
    "movies_df = pd.read_csv(\"ml-latest-small/movies.csv\")\n",
    "\n",
    "# we're going to treat userId as strings, and similarly as movies. This will prevent confusion later on.\n",
    "ratings_df['userId'] = \"u\" + ratings_df['userId'].astype(str)\n",
    "ratings_df['movieId'] = \"m\" + ratings_df['movieId'].astype(str)\n",
    "movies_df['movieId'] = \"m\" +  movies_df['movieId'].astype(str)"
   ],
   "execution_count": 3,
   "outputs": []
  },
  {
   "cell_type": "code",
   "metadata": {
    "id": "0R-tZogo5Uhn",
    "ExecuteTime": {
     "end_time": "2023-11-30T16:56:28.182794897Z",
     "start_time": "2023-11-30T16:56:28.153410120Z"
    }
   },
   "source": [
    "ratings_df"
   ],
   "execution_count": 4,
   "outputs": [
    {
     "data": {
      "text/plain": "       userId  movieId  rating   timestamp\n0          u1       m1     4.0   964982703\n1          u1       m3     4.0   964981247\n2          u1       m6     4.0   964982224\n3          u1      m47     5.0   964983815\n4          u1      m50     5.0   964982931\n...       ...      ...     ...         ...\n100831   u610  m166534     4.0  1493848402\n100832   u610  m168248     5.0  1493850091\n100833   u610  m168250     5.0  1494273047\n100834   u610  m168252     5.0  1493846352\n100835   u610  m170875     3.0  1493846415\n\n[100836 rows x 4 columns]",
      "text/html": "<div>\n<style scoped>\n    .dataframe tbody tr th:only-of-type {\n        vertical-align: middle;\n    }\n\n    .dataframe tbody tr th {\n        vertical-align: top;\n    }\n\n    .dataframe thead th {\n        text-align: right;\n    }\n</style>\n<table border=\"1\" class=\"dataframe\">\n  <thead>\n    <tr style=\"text-align: right;\">\n      <th></th>\n      <th>userId</th>\n      <th>movieId</th>\n      <th>rating</th>\n      <th>timestamp</th>\n    </tr>\n  </thead>\n  <tbody>\n    <tr>\n      <th>0</th>\n      <td>u1</td>\n      <td>m1</td>\n      <td>4.0</td>\n      <td>964982703</td>\n    </tr>\n    <tr>\n      <th>1</th>\n      <td>u1</td>\n      <td>m3</td>\n      <td>4.0</td>\n      <td>964981247</td>\n    </tr>\n    <tr>\n      <th>2</th>\n      <td>u1</td>\n      <td>m6</td>\n      <td>4.0</td>\n      <td>964982224</td>\n    </tr>\n    <tr>\n      <th>3</th>\n      <td>u1</td>\n      <td>m47</td>\n      <td>5.0</td>\n      <td>964983815</td>\n    </tr>\n    <tr>\n      <th>4</th>\n      <td>u1</td>\n      <td>m50</td>\n      <td>5.0</td>\n      <td>964982931</td>\n    </tr>\n    <tr>\n      <th>...</th>\n      <td>...</td>\n      <td>...</td>\n      <td>...</td>\n      <td>...</td>\n    </tr>\n    <tr>\n      <th>100831</th>\n      <td>u610</td>\n      <td>m166534</td>\n      <td>4.0</td>\n      <td>1493848402</td>\n    </tr>\n    <tr>\n      <th>100832</th>\n      <td>u610</td>\n      <td>m168248</td>\n      <td>5.0</td>\n      <td>1493850091</td>\n    </tr>\n    <tr>\n      <th>100833</th>\n      <td>u610</td>\n      <td>m168250</td>\n      <td>5.0</td>\n      <td>1494273047</td>\n    </tr>\n    <tr>\n      <th>100834</th>\n      <td>u610</td>\n      <td>m168252</td>\n      <td>5.0</td>\n      <td>1493846352</td>\n    </tr>\n    <tr>\n      <th>100835</th>\n      <td>u610</td>\n      <td>m170875</td>\n      <td>3.0</td>\n      <td>1493846415</td>\n    </tr>\n  </tbody>\n</table>\n<p>100836 rows × 4 columns</p>\n</div>"
     },
     "execution_count": 4,
     "metadata": {},
     "output_type": "execute_result"
    }
   ]
  },
  {
   "cell_type": "markdown",
   "metadata": {
    "id": "MDR2Wx1qvddn"
   },
   "source": [
    "`ratings_df` is a [Pandas DataFrame](https://pandas.pydata.org/pandas-docs/stable/reference/api/pandas.DataFrame.html). Viewing it, we can see users (identified by userId) are rating various movies (cf. movieId).\n",
    "\n",
    "We can slice and dice the dataframes, e.g.:\n",
    "\n",
    " * project a single column (this returns a [Pandas Series](https://pandas.pydata.org/pandas-docs/stable/reference/api/pandas.Series.html))."
   ]
  },
  {
   "cell_type": "code",
   "metadata": {
    "id": "55fuLJUXvl7z",
    "ExecuteTime": {
     "end_time": "2023-11-30T16:56:35.376741603Z",
     "start_time": "2023-11-30T16:56:35.353639083Z"
    }
   },
   "source": [
    "movies_df[\"title\"].head(5)"
   ],
   "execution_count": 6,
   "outputs": [
    {
     "data": {
      "text/plain": "0                      Toy Story (1995)\n1                        Jumanji (1995)\n2               Grumpier Old Men (1995)\n3              Waiting to Exhale (1995)\n4    Father of the Bride Part II (1995)\nName: title, dtype: object"
     },
     "execution_count": 6,
     "metadata": {},
     "output_type": "execute_result"
    }
   ]
  },
  {
   "cell_type": "markdown",
   "metadata": {
    "id": "fbFbiqKewD5p"
   },
   "source": [
    " - project multiple columns (this returns a view of the original DataFrame, as another DataFrame object)."
   ]
  },
  {
   "cell_type": "code",
   "metadata": {
    "id": "Jcve9Xpgv_E0",
    "ExecuteTime": {
     "end_time": "2023-11-30T16:56:41.179509351Z",
     "start_time": "2023-11-30T16:56:41.154845420Z"
    }
   },
   "source": [
    "movies_df[[\"movieId\", \"title\"]].head(5)"
   ],
   "execution_count": 8,
   "outputs": [
    {
     "data": {
      "text/plain": "  movieId                               title\n0      m1                    Toy Story (1995)\n1      m2                      Jumanji (1995)\n2      m3             Grumpier Old Men (1995)\n3      m4            Waiting to Exhale (1995)\n4      m5  Father of the Bride Part II (1995)",
      "text/html": "<div>\n<style scoped>\n    .dataframe tbody tr th:only-of-type {\n        vertical-align: middle;\n    }\n\n    .dataframe tbody tr th {\n        vertical-align: top;\n    }\n\n    .dataframe thead th {\n        text-align: right;\n    }\n</style>\n<table border=\"1\" class=\"dataframe\">\n  <thead>\n    <tr style=\"text-align: right;\">\n      <th></th>\n      <th>movieId</th>\n      <th>title</th>\n    </tr>\n  </thead>\n  <tbody>\n    <tr>\n      <th>0</th>\n      <td>m1</td>\n      <td>Toy Story (1995)</td>\n    </tr>\n    <tr>\n      <th>1</th>\n      <td>m2</td>\n      <td>Jumanji (1995)</td>\n    </tr>\n    <tr>\n      <th>2</th>\n      <td>m3</td>\n      <td>Grumpier Old Men (1995)</td>\n    </tr>\n    <tr>\n      <th>3</th>\n      <td>m4</td>\n      <td>Waiting to Exhale (1995)</td>\n    </tr>\n    <tr>\n      <th>4</th>\n      <td>m5</td>\n      <td>Father of the Bride Part II (1995)</td>\n    </tr>\n  </tbody>\n</table>\n</div>"
     },
     "execution_count": 8,
     "metadata": {},
     "output_type": "execute_result"
    }
   ]
  },
  {
   "cell_type": "markdown",
   "metadata": {
    "id": "sm0zU1rywGzv"
   },
   "source": [
    " - Select rows based on one or more conditions"
   ]
  },
  {
   "cell_type": "code",
   "metadata": {
    "id": "0jnBvzK1wPE5",
    "ExecuteTime": {
     "end_time": "2023-11-30T16:56:43.111567185Z",
     "start_time": "2023-11-30T16:56:43.097249056Z"
    }
   },
   "source": [
    "ratings_df[(ratings_df[\"userId\"] == 'm500') & (ratings_df[\"rating\"] == 1)]"
   ],
   "execution_count": 9,
   "outputs": [
    {
     "data": {
      "text/plain": "Empty DataFrame\nColumns: [userId, movieId, rating, timestamp]\nIndex: []",
      "text/html": "<div>\n<style scoped>\n    .dataframe tbody tr th:only-of-type {\n        vertical-align: middle;\n    }\n\n    .dataframe tbody tr th {\n        vertical-align: top;\n    }\n\n    .dataframe thead th {\n        text-align: right;\n    }\n</style>\n<table border=\"1\" class=\"dataframe\">\n  <thead>\n    <tr style=\"text-align: right;\">\n      <th></th>\n      <th>userId</th>\n      <th>movieId</th>\n      <th>rating</th>\n      <th>timestamp</th>\n    </tr>\n  </thead>\n  <tbody>\n  </tbody>\n</table>\n</div>"
     },
     "execution_count": 9,
     "metadata": {},
     "output_type": "execute_result"
    }
   ]
  },
  {
   "cell_type": "markdown",
   "metadata": {
    "id": "P8LI-cDv6cqI"
   },
   "source": [
    "\n",
    "\n",
    "Let's practice a bit more with Pandas. You can also refer to the [Pandas Dataframe API documentation.](https://pandas.pydata.org/pandas-docs/stable/reference/api/pandas.DataFrame.html)\n",
    "\n",
    "Write code to answer the following questions:\n",
    "\n",
    "## Task 1. How many users are there in this dataset?\n"
   ]
  },
  {
   "cell_type": "code",
   "execution_count": 10,
   "outputs": [
    {
     "data": {
      "text/plain": "Index(['userId', 'movieId', 'rating', 'timestamp'], dtype='object')"
     },
     "execution_count": 10,
     "metadata": {},
     "output_type": "execute_result"
    }
   ],
   "source": [
    "ratings_df.columns"
   ],
   "metadata": {
    "collapsed": false,
    "ExecuteTime": {
     "end_time": "2023-11-30T16:56:46.133355736Z",
     "start_time": "2023-11-30T16:56:46.085312042Z"
    }
   }
  },
  {
   "cell_type": "code",
   "metadata": {
    "id": "5uJ8vWIYyJed",
    "ExecuteTime": {
     "end_time": "2023-11-30T16:56:46.671237652Z",
     "start_time": "2023-11-30T16:56:46.658478133Z"
    }
   },
   "source": [
    "num_users = len(ratings_df['userId'].unique())\n",
    "num_users"
   ],
   "execution_count": 11,
   "outputs": [
    {
     "data": {
      "text/plain": "610"
     },
     "execution_count": 11,
     "metadata": {},
     "output_type": "execute_result"
    }
   ]
  },
  {
   "cell_type": "markdown",
   "metadata": {
    "id": "9RgRiMEiJBzJ"
   },
   "source": [
    "## Task 2. What is the average rating of *each user*?\n",
    "\n",
    "The output should be a Pandas Series containing an average rating for each of the users.\n",
    "\n",
    "Hint: Use a [groupby()](https://pandas.pydata.org/pandas-docs/stable/reference/api/pandas.DataFrame.groupby.html) on the ratings_df dataframe. [Aggregation](https://pandas.pydata.org/pandas-docs/stable/user_guide/groupby.html#aggregation) will also be useful.\n"
   ]
  },
  {
   "cell_type": "code",
   "metadata": {
    "id": "i-qEgTiEOg6Z",
    "ExecuteTime": {
     "end_time": "2023-11-30T16:56:48.257804040Z",
     "start_time": "2023-11-30T16:56:48.237906407Z"
    }
   },
   "source": [
    "average_each_user = ratings_df.groupby('userId')['rating'].mean()\n",
    "average_each_user.head(3)"
   ],
   "execution_count": 12,
   "outputs": [
    {
     "data": {
      "text/plain": "userId\nu1      4.366379\nu10     3.278571\nu100    3.945946\nName: rating, dtype: float64"
     },
     "execution_count": 12,
     "metadata": {},
     "output_type": "execute_result"
    }
   ]
  },
  {
   "cell_type": "markdown",
   "metadata": {
    "id": "0p0HKlOBJA21"
   },
   "source": [
    "## Task 3. What is the average number of ratings per-user?\n",
    "\n",
    "In contrast to Task 2, the solution is a single number.\n",
    "\n",
    "Many solutions will involve [GroupBy.count()](https://pandas.pydata.org/pandas-docs/stable/user_guide/groupby.html#aggregation)."
   ]
  },
  {
   "cell_type": "code",
   "metadata": {
    "id": "1dkaoscfyKXx",
    "ExecuteTime": {
     "end_time": "2023-11-30T16:56:49.180909992Z",
     "start_time": "2023-11-30T16:56:49.172172428Z"
    }
   },
   "source": [
    "average_ratings_per_user = ratings_df.groupby('userId')['rating'].count().mean()\n",
    "average_ratings_per_user"
   ],
   "execution_count": 13,
   "outputs": [
    {
     "data": {
      "text/plain": "165.30491803278687"
     },
     "execution_count": 13,
     "metadata": {},
     "output_type": "execute_result"
    }
   ]
  },
  {
   "cell_type": "markdown",
   "metadata": {
    "id": "gH2uqwgwNWu0"
   },
   "source": [
    "## Analysing users's preferences."
   ]
  },
  {
   "cell_type": "markdown",
   "metadata": {
    "id": "UOrEA21uN1zL"
   },
   "source": [
    "Let's try something else. We can see what movies a given user has rated by \"merging\" the two dataframes - this equates to a JOIN in SQL. Let's do this for userId 556.\n"
   ]
  },
  {
   "cell_type": "code",
   "metadata": {
    "id": "M73Di67MN2Jk",
    "ExecuteTime": {
     "end_time": "2023-11-30T16:56:59.095041889Z",
     "start_time": "2023-11-30T16:56:59.064273045Z"
    }
   },
   "source": [
    "pd.merge(\n",
    "    ratings_df[ratings_df[\"userId\"]=='u556'],\n",
    "    movies_df[movies_df[\"genres\"] == \"Fantasy\"],\n",
    "    on=[\"movieId\"]).sort_values(by=\"rating\", ascending=False)"
   ],
   "execution_count": 14,
   "outputs": [
    {
     "data": {
      "text/plain": "  userId  movieId  rating   timestamp  \\\n0   u556  m162600     4.0  1534321200   \n\n                                               title   genres  \n0  Miss Peregrine's Home for Peculiar Children (2...  Fantasy  ",
      "text/html": "<div>\n<style scoped>\n    .dataframe tbody tr th:only-of-type {\n        vertical-align: middle;\n    }\n\n    .dataframe tbody tr th {\n        vertical-align: top;\n    }\n\n    .dataframe thead th {\n        text-align: right;\n    }\n</style>\n<table border=\"1\" class=\"dataframe\">\n  <thead>\n    <tr style=\"text-align: right;\">\n      <th></th>\n      <th>userId</th>\n      <th>movieId</th>\n      <th>rating</th>\n      <th>timestamp</th>\n      <th>title</th>\n      <th>genres</th>\n    </tr>\n  </thead>\n  <tbody>\n    <tr>\n      <th>0</th>\n      <td>u556</td>\n      <td>m162600</td>\n      <td>4.0</td>\n      <td>1534321200</td>\n      <td>Miss Peregrine's Home for Peculiar Children (2...</td>\n      <td>Fantasy</td>\n    </tr>\n  </tbody>\n</table>\n</div>"
     },
     "execution_count": 14,
     "metadata": {},
     "output_type": "execute_result"
    }
   ]
  },
  {
   "cell_type": "markdown",
   "metadata": {
    "id": "B0IXWKgSOOOV"
   },
   "source": [
    "It appears that this user is interested in adventure/fantasies movies.\n",
    "\n",
    "NB: If the columns we are joining on dont have the same name, we can specify `left_on` and `right_on` attributes. See also the  [pd.merge()](https://pandas.pydata.org/pandas-docs/stable/reference/api/pandas.DataFrame.merge.html) documentation."
   ]
  },
  {
   "cell_type": "markdown",
   "metadata": {
    "id": "kxvFO4x7_Obe"
   },
   "source": [
    "## Task 4. Analysing movie categories\n",
    "\n",
    "Lets examine two particular users a bit more, u556 and u7.\n",
    "\n",
    " - How many movies with \"Fantasy\" genre have u556 and u7 rated positively ($\\geq 4$)?\n",
    "\n",
    " - Consider all of u556's ratings. What percentage of all these ratings are positive ratings ($\\geq 4$) and are for movies belonging to the \"Fantasy\" genre?\n",
    "\n",
    "Hints:\n",
    " - Pandas Series has a useful `str.contains()` function:  https://pandas.pydata.org/pandas-docs/stable/reference/api/pandas.Series.str.contains.html\n",
    " - Pandas dataframes respond to `len()` as you would expect."
   ]
  },
  {
   "cell_type": "code",
   "metadata": {
    "id": "GYIo0HzBCfU1",
    "ExecuteTime": {
     "end_time": "2023-11-30T16:57:13.756455047Z",
     "start_time": "2023-11-30T16:57:13.725964164Z"
    }
   },
   "source": [
    "u_movies = pd.merge(ratings_df[np.logical_or(ratings_df[\"userId\"] == \"u556\", ratings_df[\"userId\"] == \"u7\")],\n",
    "                       movies_df,\n",
    "                       on=[\"movieId\"])\n",
    "combined_positive_fancy = len(u_movies[np.logical_and(u_movies[\"genres\"] == \"Fantasy\", u_movies[\"rating\"] >= 4)])\n",
    "all_u556_ratings = u_movies[u_movies[\"userId\"] == \"u556\"]\n",
    "positive_ratings = all_u556_ratings[all_u556_ratings[\"rating\"] >= 4]\n",
    "percentage_positive = (len(positive_ratings)/len(all_u556_ratings)) * 100\n",
    "\n",
    "fantasy_ratings = all_u556_ratings[all_u556_ratings[\"genres\"] == \"Fantasy\"]\n",
    "percentage_fantasy = (len(fantasy_ratings) / len(all_u556_ratings)) * 100\n",
    "\n",
    "print(f\"Films rated from u557 and u7 with ratings >= 4: {combined_positive_fancy}\")\n",
    "print(f\"Percentage of ratings which are positive from u556: {percentage_positive:.2f}\")\n",
    "print(f\"Percentage of ratings which are about Fantasy films from u556: {percentage_fantasy:.2f}\")"
   ],
   "execution_count": 15,
   "outputs": [
    {
     "name": "stdout",
     "output_type": "stream",
     "text": [
      "Films rated from u557 and u7 with ratings >= 4: 1\n",
      "Percentage of ratings which are positive from u556: 84.38\n",
      "Percentage of ratings which are about Fantasy films from u556: 3.12\n"
     ]
    }
   ]
  },
  {
   "cell_type": "markdown",
   "metadata": {
    "id": "2jpHFK3LI7do"
   },
   "source": [
    "# Part B. Popularity-based Recomendation\n",
    "\n",
    "Now let's examine the ratings of movies.\n",
    "\n",
    "We can get a dataframe containing the number of times a movie has been rated by applying a groupby and aggregation of the ratings_df.\n"
   ]
  },
  {
   "cell_type": "code",
   "metadata": {
    "id": "QMhogBiLjSzu",
    "ExecuteTime": {
     "end_time": "2023-11-30T16:57:15.962551795Z",
     "start_time": "2023-11-30T16:57:15.917213780Z"
    }
   },
   "source": [
    "groupingCountSeries = ratings_df[[\"movieId\", \"rating\"]].groupby([\"movieId\"]).count()\n",
    "groupingCountSeries[groupingCountSeries.rating<25].head(5)"
   ],
   "execution_count": 16,
   "outputs": [
    {
     "data": {
      "text/plain": "         rating\nmovieId        \nm100         14\nm100044       1\nm100068       1\nm100083       3\nm100106       1",
      "text/html": "<div>\n<style scoped>\n    .dataframe tbody tr th:only-of-type {\n        vertical-align: middle;\n    }\n\n    .dataframe tbody tr th {\n        vertical-align: top;\n    }\n\n    .dataframe thead th {\n        text-align: right;\n    }\n</style>\n<table border=\"1\" class=\"dataframe\">\n  <thead>\n    <tr style=\"text-align: right;\">\n      <th></th>\n      <th>rating</th>\n    </tr>\n    <tr>\n      <th>movieId</th>\n      <th></th>\n    </tr>\n  </thead>\n  <tbody>\n    <tr>\n      <th>m100</th>\n      <td>14</td>\n    </tr>\n    <tr>\n      <th>m100044</th>\n      <td>1</td>\n    </tr>\n    <tr>\n      <th>m100068</th>\n      <td>1</td>\n    </tr>\n    <tr>\n      <th>m100083</th>\n      <td>3</td>\n    </tr>\n    <tr>\n      <th>m100106</th>\n      <td>1</td>\n    </tr>\n  </tbody>\n</table>\n</div>"
     },
     "execution_count": 16,
     "metadata": {},
     "output_type": "execute_result"
    }
   ]
  },
  {
   "cell_type": "markdown",
   "metadata": {
    "id": "ak38W5u1jkgu"
   },
   "source": [
    "##Task 5. Plot the distribution of movie ratings.\n",
    "\n",
    "Use Matplotlib's histogram function to plot the distribution of movie ratings from the `groupingCountSeries` dataframe. This will produce a bar chart with 'binned' counts.\n",
    "\n",
    "Hints:\n",
    "- apply a logarithmic scale for the y-axis, using matplotlib's `log=True` option.\n",
    "- Allow matplotlib to use its default number of bins (which is 10).\n",
    "- Matplotlib has a [`savefig()`](https://chartio.com/resources/tutorials/how-to-save-a-plot-to-a-file-using-matplotlib/#the-savefig-method) function for saving a PNG of a figure.\n",
    "\n",
    "Marks will be lost for poor quality graphs, lacking in typical best practices. You will need to analyse this graph in the quiz."
   ]
  },
  {
   "cell_type": "code",
   "execution_count": 18,
   "outputs": [
    {
     "data": {
      "text/plain": "<Figure size 640x480 with 1 Axes>",
      "image/png": "[encoded data removed]"
     },
     "metadata": {},
     "output_type": "display_data"
    }
   ],
   "source": [
    "plt.hist(groupingCountSeries, log=True)\n",
    "plt.title(\"Distribution of Movie Ratings\")\n",
    "plt.ylabel(\"Logarithmic Scale of Movies for Rating\")\n",
    "plt.xlabel(\"Number of Movie Ratings\")\n",
    "# plt.savefig(\"results/movie_distribution.png\")\n",
    "plt.show()"
   ],
   "metadata": {
    "collapsed": false,
    "ExecuteTime": {
     "end_time": "2023-11-30T16:57:21.663415725Z",
     "start_time": "2023-11-30T16:57:21.236237362Z"
    }
   }
  },
  {
   "cell_type": "markdown",
   "metadata": {
    "id": "mN9DjXtHAt0A"
   },
   "source": [
    "\n",
    "## Task 6. Find the names of *all* of the movies that have the highest *average* ratings\n",
    "\n",
    "You should return a dataframe containing the ids and names of the movies, their average ratings, and the number of ratings. NB: You may need to analyse this dataframe further to answer the questions in the quiz.\n",
    "\n",
    "Hints:\n",
    " - Try a [groupby()](https://pandas.pydata.org/pandas-docs/stable/reference/api/pandas.DataFrame.groupby.html). Once you have a Series with columns [movieId, meanRating], identify the highest value of meanRating. You can then merge this with the movies_df.\n",
    " - If the column we are trying to merge on is an index, we can use  `left_index=True` or `right_index=True` in the [pd.merge()](https://pandas.pydata.org/pandas-docs/stable/reference/api/pandas.merge.html).\n"
   ]
  },
  {
   "cell_type": "code",
   "metadata": {
    "id": "rI5u8pIuOkmp",
    "ExecuteTime": {
     "end_time": "2023-11-30T17:08:57.837218798Z",
     "start_time": "2023-11-30T17:08:57.794765762Z"
    }
   },
   "source": [
    "ratings_count_df = ratings_df.groupby(\"movieId\").agg(count=(\"rating\", \"count\"), mean_rating=(\"rating\", \"mean\"))\n",
    "highest_mean_rating = ratings_count_df[\"mean_rating\"].max()\n",
    "\n",
    "movies_with_highest = pd.merge(ratings_count_df[ratings_count_df[\"mean_rating\"] == highest_mean_rating],\n",
    "                               movies_df,\n",
    "                               on=\"movieId\").sort_values(by=\"count\", ascending=False)\n",
    "movies_with_highest[\"title\"]"
   ],
   "execution_count": 43,
   "outputs": [
    {
     "data": {
      "text/plain": "259                                Enter the Void (2009)\n294                 Heidi Fleiss: Hollywood Madam (1995)\n17                                   Lesson Faust (1994)\n236                                  Belle époque (1992)\n173    Jonah Who Will Be 25 in the Year 2000 (Jonas q...\n                             ...                        \n99                      The Bremen Town Musicians (1969)\n98                                      All Yours (2016)\n97                                 World of Glory (1991)\n96                     SORI: Voice from the Heart (2016)\n295                              English Vinglish (2012)\nName: title, Length: 296, dtype: object"
     },
     "execution_count": 43,
     "metadata": {},
     "output_type": "execute_result"
    }
   ]
  },
  {
   "cell_type": "markdown",
   "metadata": {
    "id": "TmRzCDf9iL9t"
   },
   "source": [
    "You can now answer the questions in the quiz for Task 6, based on your  observations on analysing this table?"
   ]
  },
  {
   "cell_type": "markdown",
   "metadata": {
    "id": "8ryQHGrwyqp8"
   },
   "source": [
    "# Part C - Association Rules and Lift\n",
    "\n",
    "I think we can do better than simply examining movie popularity.\n",
    "\n",
    "Lets take all of the positive ratings (4 or 5) to find the most popular pairs of movies that users have watched. We'll consider these are \"successful movie watches\" of these users.\n",
    "\n",
    "There is a lot going on there, so please take the time to break it down to understand what it does.\n",
    "\n",
    "NB: In this code, we perform a \"self-join\" on a dataframe. If this is unfamiliar, you can read more at:\n",
    " - https://dfrieds.com/data-analysis/self-join-python-pandas.html\n",
    " - https://www.w3schools.com/sql/sql_join_self.asp\n",
    "\n"
   ]
  },
  {
   "cell_type": "code",
   "metadata": {
    "id": "_qMu58CjIvyu",
    "ExecuteTime": {
     "end_time": "2023-11-30T17:42:38.550835537Z",
     "start_time": "2023-11-30T17:42:32.749487523Z"
    }
   },
   "source": [
    "positives = ratings_df[ratings_df[\"rating\"]>=4]\n",
    "\n",
    "# join positives with itself on userId to get all distinct pairs of movies watched by a given user.\n",
    "pairs = pd.merge(positives, positives, on=[\"userId\"])\n",
    "pairs = pairs[ pairs[\"movieId_x\"] != pairs[\"movieId_y\"] ]\n",
    "\n",
    "# we only want A->B, not B->A. Use the timestamps to restrict the selected pairs such that\n",
    "# one movie is rated after the other movie, OR if the timestampes are tied, we break such\n",
    "# a tie by movieId. Bitwise operators & and | are used for combining Pandas series containing booleans\n",
    "sequences = pairs[\n",
    "                  (pairs[\"timestamp_x\"] < pairs[\"timestamp_y\"])\n",
    "                  |\n",
    "                  (\n",
    "                      (pairs[\"timestamp_x\"] == pairs[\"timestamp_y\"])\n",
    "                      &\n",
    "                      (pairs[\"movieId_x\"] < pairs[\"movieId_y\"])\n",
    "                  )\n",
    "                  ]\n",
    "\n",
    "# lets count the frequency of each pair of movies. As a user can only rate a movie once, you can\n",
    "# also think of this as the number of users that have watched each pair of movies.\n",
    "paircounts = sequences[[\"movieId_x\", \"movieId_y\", \"userId\"]].groupby([\"movieId_x\", \"movieId_y\"]).count()\n",
    "\n",
    "# sort by the most popular pairs.\n",
    "pairswithcounts = paircounts.reset_index().rename(columns={\"userId\" : \"count\"}).sort_values(['count'], ascending=False)\n",
    "\n",
    "# display the top most frequent pairs\n",
    "pairswithcounts.head()"
   ],
   "execution_count": 76,
   "outputs": [
    {
     "data": {
      "text/plain": "        movieId_x movieId_y  count\n1579647      m318      m356    112\n1580428      m318      m527     98\n1421549      m296      m593     95\n1420937      m296       m47     92\n1191679      m260     m1196     91",
      "text/html": "<div>\n<style scoped>\n    .dataframe tbody tr th:only-of-type {\n        vertical-align: middle;\n    }\n\n    .dataframe tbody tr th {\n        vertical-align: top;\n    }\n\n    .dataframe thead th {\n        text-align: right;\n    }\n</style>\n<table border=\"1\" class=\"dataframe\">\n  <thead>\n    <tr style=\"text-align: right;\">\n      <th></th>\n      <th>movieId_x</th>\n      <th>movieId_y</th>\n      <th>count</th>\n    </tr>\n  </thead>\n  <tbody>\n    <tr>\n      <th>1579647</th>\n      <td>m318</td>\n      <td>m356</td>\n      <td>112</td>\n    </tr>\n    <tr>\n      <th>1580428</th>\n      <td>m318</td>\n      <td>m527</td>\n      <td>98</td>\n    </tr>\n    <tr>\n      <th>1421549</th>\n      <td>m296</td>\n      <td>m593</td>\n      <td>95</td>\n    </tr>\n    <tr>\n      <th>1420937</th>\n      <td>m296</td>\n      <td>m47</td>\n      <td>92</td>\n    </tr>\n    <tr>\n      <th>1191679</th>\n      <td>m260</td>\n      <td>m1196</td>\n      <td>91</td>\n    </tr>\n  </tbody>\n</table>\n</div>"
     },
     "execution_count": 76,
     "metadata": {},
     "output_type": "execute_result"
    }
   ]
  },
  {
   "cell_type": "markdown",
   "metadata": {
    "id": "ThACu3UfzjgB"
   },
   "source": [
    "## Task 7. Display the titles of the (most popular) movie pairs from `pairswithcounts`\n",
    "\n",
    "You will need to analyse this dataframe to complete the questions in the quiz.\n",
    "\n",
    "Hint:\n",
    " - you will need to re-sort after a pd.merge()"
   ]
  },
  {
   "cell_type": "code",
   "execution_count": 82,
   "outputs": [],
   "source": [
    "def df_exclude_columns(df, columns):\n",
    "    return df[df.columns.difference(columns, sort=False)]"
   ],
   "metadata": {
    "collapsed": false,
    "ExecuteTime": {
     "end_time": "2023-11-30T17:45:35.562309237Z",
     "start_time": "2023-11-30T17:45:35.542621388Z"
    }
   }
  },
  {
   "cell_type": "code",
   "metadata": {
    "id": "C9v9s87kO1Vq",
    "ExecuteTime": {
     "end_time": "2023-11-30T17:44:05.043710718Z",
     "start_time": "2023-11-30T17:44:03.618795162Z"
    }
   },
   "source": [
    "first_merge = pd.merge(pairswithcounts, movies_df[[\"movieId\", \"title\"]], left_on=\"movieId_x\", right_on=\"movieId\")\n",
    "second_merge = pd.merge(pairswithcounts, movies_df[[\"movieId\", \"title\"]], left_on=\"movieId_y\", right_on=\"movieId\")"
   ],
   "execution_count": 80,
   "outputs": []
  },
  {
   "cell_type": "code",
   "execution_count": 99,
   "outputs": [
    {
     "data": {
      "text/plain": "        movieId_x movieId_y  count  \\\n0            m318      m356    112   \n1            m318      m527     98   \n4151         m296      m593     95   \n4152         m296       m47     92   \n8863         m260     m1196     91   \n...           ...       ...    ...   \n1549165     m1947     m1437      1   \n1549166     m1947     m2871      1   \n1549167     m1947     m2874      1   \n1549168     m1947     m4369      1   \n3540436    m33669    m50872      1   \n\n                                            First film  \\\n0                     Shawshank Redemption, The (1994)   \n1                     Shawshank Redemption, The (1994)   \n4151                               Pulp Fiction (1994)   \n4152                               Pulp Fiction (1994)   \n8863         Star Wars: Episode IV - A New Hope (1977)   \n...                                                ...   \n1549165                         West Side Story (1961)   \n1549166                         West Side Story (1961)   \n1549167                         West Side Story (1961)   \n1549168                         West Side Story (1961)   \n3540436  Sisterhood of the Traveling Pants, The (2005)   \n\n                                               Second film  \n0                                      Forrest Gump (1994)  \n1                                  Schindler's List (1993)  \n4151                      Silence of the Lambs, The (1991)  \n4152                           Seven (a.k.a. Se7en) (1995)  \n8863     Star Wars: Episode V - The Empire Strikes Back...  \n...                                                    ...  \n1549165                          Cement Garden, The (1993)  \n1549166                                 Deliverance (1972)  \n1549167                            Pajama Game, The (1957)  \n1549168                   Fast and the Furious, The (2001)  \n3540436                                 Ratatouille (2007)  \n\n[3540437 rows x 5 columns]",
      "text/html": "<div>\n<style scoped>\n    .dataframe tbody tr th:only-of-type {\n        vertical-align: middle;\n    }\n\n    .dataframe tbody tr th {\n        vertical-align: top;\n    }\n\n    .dataframe thead th {\n        text-align: right;\n    }\n</style>\n<table border=\"1\" class=\"dataframe\">\n  <thead>\n    <tr style=\"text-align: right;\">\n      <th></th>\n      <th>movieId_x</th>\n      <th>movieId_y</th>\n      <th>count</th>\n      <th>First film</th>\n      <th>Second film</th>\n    </tr>\n  </thead>\n  <tbody>\n    <tr>\n      <th>0</th>\n      <td>m318</td>\n      <td>m356</td>\n      <td>112</td>\n      <td>Shawshank Redemption, The (1994)</td>\n      <td>Forrest Gump (1994)</td>\n    </tr>\n    <tr>\n      <th>1</th>\n      <td>m318</td>\n      <td>m527</td>\n      <td>98</td>\n      <td>Shawshank Redemption, The (1994)</td>\n      <td>Schindler's List (1993)</td>\n    </tr>\n    <tr>\n      <th>4151</th>\n      <td>m296</td>\n      <td>m593</td>\n      <td>95</td>\n      <td>Pulp Fiction (1994)</td>\n      <td>Silence of the Lambs, The (1991)</td>\n    </tr>\n    <tr>\n      <th>4152</th>\n      <td>m296</td>\n      <td>m47</td>\n      <td>92</td>\n      <td>Pulp Fiction (1994)</td>\n      <td>Seven (a.k.a. Se7en) (1995)</td>\n    </tr>\n    <tr>\n      <th>8863</th>\n      <td>m260</td>\n      <td>m1196</td>\n      <td>91</td>\n      <td>Star Wars: Episode IV - A New Hope (1977)</td>\n      <td>Star Wars: Episode V - The Empire Strikes Back...</td>\n    </tr>\n    <tr>\n      <th>...</th>\n      <td>...</td>\n      <td>...</td>\n      <td>...</td>\n      <td>...</td>\n      <td>...</td>\n    </tr>\n    <tr>\n      <th>1549165</th>\n      <td>m1947</td>\n      <td>m1437</td>\n      <td>1</td>\n      <td>West Side Story (1961)</td>\n      <td>Cement Garden, The (1993)</td>\n    </tr>\n    <tr>\n      <th>1549166</th>\n      <td>m1947</td>\n      <td>m2871</td>\n      <td>1</td>\n      <td>West Side Story (1961)</td>\n      <td>Deliverance (1972)</td>\n    </tr>\n    <tr>\n      <th>1549167</th>\n      <td>m1947</td>\n      <td>m2874</td>\n      <td>1</td>\n      <td>West Side Story (1961)</td>\n      <td>Pajama Game, The (1957)</td>\n    </tr>\n    <tr>\n      <th>1549168</th>\n      <td>m1947</td>\n      <td>m4369</td>\n      <td>1</td>\n      <td>West Side Story (1961)</td>\n      <td>Fast and the Furious, The (2001)</td>\n    </tr>\n    <tr>\n      <th>3540436</th>\n      <td>m33669</td>\n      <td>m50872</td>\n      <td>1</td>\n      <td>Sisterhood of the Traveling Pants, The (2005)</td>\n      <td>Ratatouille (2007)</td>\n    </tr>\n  </tbody>\n</table>\n<p>3540437 rows × 5 columns</p>\n</div>"
     },
     "execution_count": 99,
     "metadata": {},
     "output_type": "execute_result"
    }
   ],
   "source": [
    "pd.merge(df_exclude_columns(first_merge,[\"movieId\"]), \n",
    "         df_exclude_columns(second_merge,[\"movieId\"]),\n",
    "         on=[\"movieId_x\", \"movieId_y\"]) \\\n",
    "        .drop(\"count_y\", axis=1) \\\n",
    "        .rename(columns={\"title_x\": \"First film\", \"title_y\": \"Second film\", \"count_x\": \"count\"}) \\\n",
    "        .sort_values(by=\"count\", ascending=False)"
   ],
   "metadata": {
    "collapsed": false,
    "ExecuteTime": {
     "end_time": "2023-11-30T18:01:55.731957926Z",
     "start_time": "2023-11-30T18:01:52.570188872Z"
    }
   }
  },
  {
   "cell_type": "markdown",
   "metadata": {
    "id": "_0tOm--0ByR6"
   },
   "source": [
    "    ## Task 8. Calculate Lift (see Lecture 3) for all pairs in `paircounts`.  \n",
    "\n",
    "Now you should calculate Lift. You will need to carefully consider your event space.\n",
    "\n",
    "Your target dataframe should have columns:\n",
    " - movieId_x\tmovieId_y\n",
    " - count - number of users that have positively rated both movies x and y.\n",
    " - ratingCount_x\tratingCount_y\t- number of users that have positively rated these movies in total.\n",
    " - lift\t- your calculated lift.\n",
    " - title_x, title_y, genre_x and genre_y - metadata about the films, so you know if you have success.\n",
    "\n",
    "Hints:\n",
    " - You will need to join `pairswithcounts` with a dataframe containing rating counts of individual movies. A calculated column will be needed. See https://pandas.pydata.org/docs/getting_started/intro_tutorials/05_add_columns.html or https://stackoverflow.com/a/12377083/9989050 for hints on how to achieve that.\n",
    " - If you come across duplicated columns in your solution, you can use this trick https://stackoverflow.com/a/40435354/9989050 to get rid of them.\n",
    " - You should [sort](https://pandas.pydata.org/pandas-docs/stable/reference/api/pandas.DataFrame.sort_values.html) your dataframe.\n",
    "\n",
    "Below I provide the highest lift movies for you to check your solution.\n"
   ]
  },
  {
   "cell_type": "code",
   "source": [
    "# add your solution here"
   ],
   "metadata": {
    "id": "vKtydbY8oXL0"
   },
   "execution_count": null,
   "outputs": []
  },
  {
   "cell_type": "markdown",
   "metadata": {
    "id": "j86C6mX9JyE_"
   },
   "source": [
    "If your solution is correct, you will see the highest lift movie pairs.\n",
    "Let's check them - do the highest lift movies pairs make sense? e.g. \"Pink Panther, The (2006)\" (Adventure|Comedy|Crime) with\t\"For Richer or Poorer (1997)\" (Comedy).\n",
    "\n",
    "It should be clear that these lift pairs do not have high support."
   ]
  },
  {
   "cell_type": "markdown",
   "metadata": {
    "id": "syNMZ-gULEvI"
   },
   "source": [
    "## Task 9 - Support Thresholds"
   ]
  },
  {
   "cell_type": "markdown",
   "metadata": {
    "id": "Q8J3co2aDhfp"
   },
   "source": [
    "\n",
    "We can make more meaningful recommendations using Lift if we apply a Support threshold. For instance, we can remove movie pairs with support count $< 10$.\n",
    "\n",
    "So in essence, we can use lift to identify highly co-occurring movie pairs without resorting to any collaborative notions.\n",
    "\n",
    "Keep this dataframe around - you will need it to answer the questions for Task 9 in the quiz."
   ]
  },
  {
   "cell_type": "code",
   "metadata": {
    "id": "Ol1oyIVYyGv9"
   },
   "source": [
    "# add your solution here"
   ],
   "execution_count": null,
   "outputs": []
  },
  {
   "cell_type": "markdown",
   "source": [
    "I got the \"The Hunger Games (2012)\" paired with \"The Hunger Games: Mockingjay - Part 1 (2014)\" as the movie pair with the highest lift. This seems a good pairing!"
   ],
   "metadata": {
    "id": "WDgtH8sWk291"
   }
  },
  {
   "cell_type": "markdown",
   "metadata": {
    "id": "xpuW7oZcFU_G"
   },
   "source": [
    "# End of Exercise\n",
    "\n",
    "As part of your submission, you should complete the Exercise 1 quiz on Moodle.\n",
    "You will need to upload your notebook, complete with the **results** of executing the code."
   ]
  }
 ]
}
